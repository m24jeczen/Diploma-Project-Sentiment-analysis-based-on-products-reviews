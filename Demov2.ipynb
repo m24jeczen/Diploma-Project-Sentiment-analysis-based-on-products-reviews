{
 "cells": [
  {
   "cell_type": "code",
   "execution_count": 1,
   "metadata": {},
   "outputs": [],
   "source": [
    "from codes.parameters import categories\n",
    "from codes.data_loader import load_reviews\n",
    "category = categories[32]\n",
    "data = load_reviews(category).head(10000)\n",
    "data = data[data[\"text\"].str.split().str.len() >= 1]"
   ]
  },
  {
   "cell_type": "code",
   "execution_count": 2,
   "metadata": {},
   "outputs": [],
   "source": [
    "from codes.preprocessing import balance_data, map_ratings_into_sentiment\n",
    "balanced_data = balance_data(data,\"rating\")\n",
    "data = map_ratings_into_sentiment(data)"
   ]
  },
  {
   "cell_type": "markdown",
   "metadata": {},
   "source": [
    "Test trenowania na zbalansowanym kontra na niezbalansowanym zbiorze"
   ]
  },
  {
   "cell_type": "code",
   "execution_count": 3,
   "metadata": {},
   "outputs": [
    {
     "name": "stderr",
     "output_type": "stream",
     "text": [
      "Some weights of BertForSequenceClassification were not initialized from the model checkpoint at bert-base-uncased and are newly initialized: ['classifier.bias', 'classifier.weight']\n",
      "You should probably TRAIN this model on a down-stream task to be able to use it for predictions and inference.\n",
      "C:\\Users\\Michał\\AppData\\Local\\Packages\\PythonSoftwareFoundation.Python.3.11_qbz5n2kfra8p0\\LocalCache\\local-packages\\Python311\\site-packages\\transformers\\training_args.py:1575: FutureWarning: `evaluation_strategy` is deprecated and will be removed in version 4.46 of 🤗 Transformers. Use `eval_strategy` instead\n",
      "  warnings.warn(\n",
      "c:\\Users\\Michał\\Inżynierka\\Diploma-Project-Sentiment-analysis-based-on-products-reviews\\codes\\download_model.py:85: FutureWarning: `tokenizer` is deprecated and will be removed in version 5.0.0 for `Trainer.__init__`. Use `processing_class` instead.\n",
      "  trainer = Trainer(\n"
     ]
    },
    {
     "data": {
      "application/vnd.jupyter.widget-view+json": {
       "model_id": "3ce0ca6bda244b7db3f57eb2ee2e31f0",
       "version_major": 2,
       "version_minor": 0
      },
      "text/plain": [
       "  0%|          | 0/500 [00:00<?, ?it/s]"
      ]
     },
     "metadata": {},
     "output_type": "display_data"
    },
    {
     "name": "stdout",
     "output_type": "stream",
     "text": [
      "{'loss': 1.3912, 'grad_norm': 7.2025604248046875, 'learning_rate': 1.9600000000000002e-05, 'epoch': 0.02}\n",
      "{'loss': 1.2049, 'grad_norm': 4.734626770019531, 'learning_rate': 1.9200000000000003e-05, 'epoch': 0.04}\n",
      "{'loss': 1.1195, 'grad_norm': 4.874087810516357, 'learning_rate': 1.88e-05, 'epoch': 0.06}\n",
      "{'loss': 0.9379, 'grad_norm': 4.291230201721191, 'learning_rate': 1.8400000000000003e-05, 'epoch': 0.08}\n",
      "{'loss': 0.9662, 'grad_norm': 3.5537049770355225, 'learning_rate': 1.8e-05, 'epoch': 0.1}\n",
      "{'loss': 1.0144, 'grad_norm': 3.7647528648376465, 'learning_rate': 1.76e-05, 'epoch': 0.12}\n",
      "{'loss': 0.8855, 'grad_norm': 6.7126145362854, 'learning_rate': 1.72e-05, 'epoch': 0.14}\n",
      "{'loss': 0.8664, 'grad_norm': 4.557473182678223, 'learning_rate': 1.6800000000000002e-05, 'epoch': 0.16}\n",
      "{'loss': 0.8948, 'grad_norm': 7.393646717071533, 'learning_rate': 1.64e-05, 'epoch': 0.18}\n",
      "{'loss': 0.8946, 'grad_norm': 4.168301105499268, 'learning_rate': 1.6000000000000003e-05, 'epoch': 0.2}\n",
      "{'loss': 0.7934, 'grad_norm': 5.771547317504883, 'learning_rate': 1.5600000000000003e-05, 'epoch': 0.22}\n",
      "{'loss': 0.8607, 'grad_norm': 6.046510219573975, 'learning_rate': 1.5200000000000002e-05, 'epoch': 0.24}\n",
      "{'loss': 0.9219, 'grad_norm': 6.957048416137695, 'learning_rate': 1.48e-05, 'epoch': 0.26}\n",
      "{'loss': 0.963, 'grad_norm': 6.13059139251709, 'learning_rate': 1.4400000000000001e-05, 'epoch': 0.28}\n",
      "{'loss': 0.8463, 'grad_norm': 6.237102031707764, 'learning_rate': 1.4e-05, 'epoch': 0.3}\n",
      "{'loss': 0.8731, 'grad_norm': 9.936463356018066, 'learning_rate': 1.3600000000000002e-05, 'epoch': 0.32}\n",
      "{'loss': 0.8189, 'grad_norm': 7.050184726715088, 'learning_rate': 1.3200000000000002e-05, 'epoch': 0.34}\n",
      "{'loss': 0.6933, 'grad_norm': 7.708778381347656, 'learning_rate': 1.2800000000000001e-05, 'epoch': 0.36}\n",
      "{'loss': 0.7828, 'grad_norm': 6.032880783081055, 'learning_rate': 1.2400000000000002e-05, 'epoch': 0.38}\n",
      "{'loss': 0.7737, 'grad_norm': 6.2706170082092285, 'learning_rate': 1.2e-05, 'epoch': 0.4}\n",
      "{'loss': 0.9412, 'grad_norm': 6.637453079223633, 'learning_rate': 1.16e-05, 'epoch': 0.42}\n",
      "{'loss': 0.7774, 'grad_norm': 4.977807521820068, 'learning_rate': 1.1200000000000001e-05, 'epoch': 0.44}\n",
      "{'loss': 0.8538, 'grad_norm': 5.184281826019287, 'learning_rate': 1.0800000000000002e-05, 'epoch': 0.46}\n",
      "{'loss': 0.7813, 'grad_norm': 7.502144813537598, 'learning_rate': 1.04e-05, 'epoch': 0.48}\n",
      "{'loss': 0.8529, 'grad_norm': 8.954094886779785, 'learning_rate': 1e-05, 'epoch': 0.5}\n",
      "{'loss': 0.7962, 'grad_norm': 5.3671555519104, 'learning_rate': 9.600000000000001e-06, 'epoch': 0.52}\n",
      "{'loss': 0.6458, 'grad_norm': 5.249648094177246, 'learning_rate': 9.200000000000002e-06, 'epoch': 0.54}\n",
      "{'loss': 0.6195, 'grad_norm': 2.6024162769317627, 'learning_rate': 8.8e-06, 'epoch': 0.56}\n",
      "{'loss': 0.863, 'grad_norm': 6.363536357879639, 'learning_rate': 8.400000000000001e-06, 'epoch': 0.58}\n",
      "{'loss': 0.7793, 'grad_norm': 6.730618953704834, 'learning_rate': 8.000000000000001e-06, 'epoch': 0.6}\n",
      "{'loss': 0.8441, 'grad_norm': 6.97283411026001, 'learning_rate': 7.600000000000001e-06, 'epoch': 0.62}\n",
      "{'loss': 0.7034, 'grad_norm': 6.843763828277588, 'learning_rate': 7.2000000000000005e-06, 'epoch': 0.64}\n",
      "{'loss': 0.7297, 'grad_norm': 9.696870803833008, 'learning_rate': 6.800000000000001e-06, 'epoch': 0.66}\n",
      "{'loss': 0.6858, 'grad_norm': 4.302794933319092, 'learning_rate': 6.4000000000000006e-06, 'epoch': 0.68}\n",
      "{'loss': 0.7519, 'grad_norm': 6.855058193206787, 'learning_rate': 6e-06, 'epoch': 0.7}\n",
      "{'loss': 0.8476, 'grad_norm': 7.999073505401611, 'learning_rate': 5.600000000000001e-06, 'epoch': 0.72}\n",
      "{'loss': 0.5527, 'grad_norm': 11.168270111083984, 'learning_rate': 5.2e-06, 'epoch': 0.74}\n",
      "{'loss': 0.7366, 'grad_norm': 5.334952354431152, 'learning_rate': 4.800000000000001e-06, 'epoch': 0.76}\n",
      "{'loss': 0.7092, 'grad_norm': 7.634847164154053, 'learning_rate': 4.4e-06, 'epoch': 0.78}\n",
      "{'loss': 0.6774, 'grad_norm': 6.06909704208374, 'learning_rate': 4.000000000000001e-06, 'epoch': 0.8}\n",
      "{'loss': 0.7558, 'grad_norm': 9.252458572387695, 'learning_rate': 3.6000000000000003e-06, 'epoch': 0.82}\n",
      "{'loss': 0.7714, 'grad_norm': 6.9279890060424805, 'learning_rate': 3.2000000000000003e-06, 'epoch': 0.84}\n",
      "{'loss': 0.7648, 'grad_norm': 6.905421257019043, 'learning_rate': 2.8000000000000003e-06, 'epoch': 0.86}\n",
      "{'loss': 0.7249, 'grad_norm': 6.445469379425049, 'learning_rate': 2.4000000000000003e-06, 'epoch': 0.88}\n",
      "{'loss': 0.8095, 'grad_norm': 10.109691619873047, 'learning_rate': 2.0000000000000003e-06, 'epoch': 0.9}\n",
      "{'loss': 0.6679, 'grad_norm': 6.7809929847717285, 'learning_rate': 1.6000000000000001e-06, 'epoch': 0.92}\n",
      "{'loss': 0.6966, 'grad_norm': 7.1303277015686035, 'learning_rate': 1.2000000000000002e-06, 'epoch': 0.94}\n",
      "{'loss': 0.8148, 'grad_norm': 7.411207675933838, 'learning_rate': 8.000000000000001e-07, 'epoch': 0.96}\n",
      "{'loss': 0.6774, 'grad_norm': 4.519221782684326, 'learning_rate': 4.0000000000000003e-07, 'epoch': 0.98}\n",
      "{'loss': 0.6811, 'grad_norm': 13.47497844696045, 'learning_rate': 0.0, 'epoch': 1.0}\n"
     ]
    },
    {
     "data": {
      "application/vnd.jupyter.widget-view+json": {
       "model_id": "b646fa4b87df4275b6d587279928cab0",
       "version_major": 2,
       "version_minor": 0
      },
      "text/plain": [
       "  0%|          | 0/250 [00:00<?, ?it/s]"
      ]
     },
     "metadata": {},
     "output_type": "display_data"
    },
    {
     "name": "stdout",
     "output_type": "stream",
     "text": [
      "{'eval_loss': 0.7050573825836182, 'eval_accuracy': 0.7260000109672546, 'eval_runtime': 3.7007, 'eval_samples_per_second': 540.44, 'eval_steps_per_second': 67.555, 'epoch': 1.0}\n",
      "{'train_runtime': 52.9311, 'train_samples_per_second': 151.083, 'train_steps_per_second': 9.446, 'train_loss': 0.8203132238388061, 'epoch': 1.0}\n"
     ]
    },
    {
     "data": {
      "application/vnd.jupyter.widget-view+json": {
       "model_id": "9ed95fb5642a409fb632fab3b7a592d5",
       "version_major": 2,
       "version_minor": 0
      },
      "text/plain": [
       "  0%|          | 0/250 [00:00<?, ?it/s]"
      ]
     },
     "metadata": {},
     "output_type": "display_data"
    },
    {
     "data": {
      "text/plain": [
       "'Wrong parameters or input data'"
      ]
     },
     "execution_count": 3,
     "metadata": {},
     "output_type": "execute_result"
    }
   ],
   "source": [
    "from codes.download_model import download_and_tune_bert\n",
    "unbalanced = \"models/Video_games_star_predictor_unbalanced\"\n",
    "download_and_tune_bert(unbalanced, data)"
   ]
  },
  {
   "cell_type": "code",
   "execution_count": 4,
   "metadata": {},
   "outputs": [
    {
     "name": "stderr",
     "output_type": "stream",
     "text": [
      "Some weights of BertForSequenceClassification were not initialized from the model checkpoint at bert-base-uncased and are newly initialized: ['classifier.bias', 'classifier.weight']\n",
      "You should probably TRAIN this model on a down-stream task to be able to use it for predictions and inference.\n",
      "C:\\Users\\Michał\\AppData\\Local\\Packages\\PythonSoftwareFoundation.Python.3.11_qbz5n2kfra8p0\\LocalCache\\local-packages\\Python311\\site-packages\\transformers\\training_args.py:1575: FutureWarning: `evaluation_strategy` is deprecated and will be removed in version 4.46 of 🤗 Transformers. Use `eval_strategy` instead\n",
      "  warnings.warn(\n",
      "c:\\Users\\Michał\\Inżynierka\\Diploma-Project-Sentiment-analysis-based-on-products-reviews\\codes\\download_model.py:85: FutureWarning: `tokenizer` is deprecated and will be removed in version 5.0.0 for `Trainer.__init__`. Use `processing_class` instead.\n",
      "  trainer = Trainer(\n"
     ]
    },
    {
     "data": {
      "application/vnd.jupyter.widget-view+json": {
       "model_id": "b1dd41b850bd4b98b2566c27bcedcfec",
       "version_major": 2,
       "version_minor": 0
      },
      "text/plain": [
       "  0%|          | 0/111 [00:00<?, ?it/s]"
      ]
     },
     "metadata": {},
     "output_type": "display_data"
    },
    {
     "name": "stdout",
     "output_type": "stream",
     "text": [
      "{'loss': 1.613, 'grad_norm': 4.4217305183410645, 'learning_rate': 1.81981981981982e-05, 'epoch': 0.09}\n",
      "{'loss': 1.6985, 'grad_norm': 7.309696674346924, 'learning_rate': 1.6396396396396396e-05, 'epoch': 0.18}\n",
      "{'loss': 1.6406, 'grad_norm': 5.526374816894531, 'learning_rate': 1.4594594594594596e-05, 'epoch': 0.27}\n",
      "{'loss': 1.6208, 'grad_norm': 4.973039627075195, 'learning_rate': 1.2792792792792795e-05, 'epoch': 0.36}\n",
      "{'loss': 1.6057, 'grad_norm': 5.535070419311523, 'learning_rate': 1.0990990990990992e-05, 'epoch': 0.45}\n",
      "{'loss': 1.5678, 'grad_norm': 4.472963809967041, 'learning_rate': 9.189189189189191e-06, 'epoch': 0.54}\n",
      "{'loss': 1.599, 'grad_norm': 7.984443664550781, 'learning_rate': 7.387387387387388e-06, 'epoch': 0.63}\n",
      "{'loss': 1.5918, 'grad_norm': 2.9622232913970947, 'learning_rate': 5.585585585585585e-06, 'epoch': 0.72}\n",
      "{'loss': 1.6039, 'grad_norm': 4.9745259284973145, 'learning_rate': 3.7837837837837844e-06, 'epoch': 0.81}\n",
      "{'loss': 1.5851, 'grad_norm': 3.546496629714966, 'learning_rate': 1.9819819819819822e-06, 'epoch': 0.9}\n",
      "{'loss': 1.5571, 'grad_norm': 3.6510727405548096, 'learning_rate': 1.801801801801802e-07, 'epoch': 0.99}\n"
     ]
    },
    {
     "data": {
      "application/vnd.jupyter.widget-view+json": {
       "model_id": "fd3785e56366403286eb2a82c5ab872a",
       "version_major": 2,
       "version_minor": 0
      },
      "text/plain": [
       "  0%|          | 0/56 [00:00<?, ?it/s]"
      ]
     },
     "metadata": {},
     "output_type": "display_data"
    },
    {
     "name": "stdout",
     "output_type": "stream",
     "text": [
      "{'eval_loss': 1.5691187381744385, 'eval_accuracy': 0.28378379344940186, 'eval_runtime': 0.8348, 'eval_samples_per_second': 531.892, 'eval_steps_per_second': 67.086, 'epoch': 1.0}\n",
      "{'train_runtime': 14.1142, 'train_samples_per_second': 125.83, 'train_steps_per_second': 7.864, 'train_loss': 1.6072894281095214, 'epoch': 1.0}\n"
     ]
    },
    {
     "data": {
      "application/vnd.jupyter.widget-view+json": {
       "model_id": "9be5d6291e564c73aad74799d08c909e",
       "version_major": 2,
       "version_minor": 0
      },
      "text/plain": [
       "  0%|          | 0/56 [00:00<?, ?it/s]"
      ]
     },
     "metadata": {},
     "output_type": "display_data"
    },
    {
     "data": {
      "text/plain": [
       "'Wrong parameters or input data'"
      ]
     },
     "execution_count": 4,
     "metadata": {},
     "output_type": "execute_result"
    }
   ],
   "source": [
    "balanced = \"models/Video_games_star_predictor_balanced\"\n",
    "download_and_tune_bert(balanced, balanced_data)"
   ]
  },
  {
   "cell_type": "code",
   "execution_count": 17,
   "metadata": {},
   "outputs": [],
   "source": [
    "from codes.predict_on_model import predict_stars\n",
    "\n",
    "def accuracy(labels, predictions):\n",
    "    correct = sum(t == p for t, p in zip(predictions, labels))\n",
    "    return (correct / len(predictions)) * 100\n",
    "\n",
    "sample = data.sample(500)\n",
    "balanced_prediction = predict_stars(sample, balanced)\n",
    "prediction = predict_stars(sample, unbalanced)"
   ]
  },
  {
   "cell_type": "code",
   "execution_count": 18,
   "metadata": {},
   "outputs": [
    {
     "name": "stdout",
     "output_type": "stream",
     "text": [
      "Accuracy for unbalanced trained model 75.4\n",
      "Accuracy for balanced trained model 35.8\n"
     ]
    }
   ],
   "source": [
    "print(\"Accuracy for unbalanced trained model\", accuracy(sample.rating, prediction))\n",
    "print(\"Accuracy for balanced trained model\", accuracy(sample.rating, balanced_prediction))"
   ]
  },
  {
   "cell_type": "markdown",
   "metadata": {},
   "source": [
    "Predykcja sentymentu"
   ]
  },
  {
   "cell_type": "code",
   "execution_count": 7,
   "metadata": {},
   "outputs": [
    {
     "name": "stderr",
     "output_type": "stream",
     "text": [
      "Some weights of BertForSequenceClassification were not initialized from the model checkpoint at bert-base-uncased and are newly initialized: ['classifier.bias', 'classifier.weight']\n",
      "You should probably TRAIN this model on a down-stream task to be able to use it for predictions and inference.\n",
      "C:\\Users\\Michał\\AppData\\Local\\Packages\\PythonSoftwareFoundation.Python.3.11_qbz5n2kfra8p0\\LocalCache\\local-packages\\Python311\\site-packages\\transformers\\training_args.py:1575: FutureWarning: `evaluation_strategy` is deprecated and will be removed in version 4.46 of 🤗 Transformers. Use `eval_strategy` instead\n",
      "  warnings.warn(\n",
      "c:\\Users\\Michał\\Inżynierka\\Diploma-Project-Sentiment-analysis-based-on-products-reviews\\codes\\download_model.py:85: FutureWarning: `tokenizer` is deprecated and will be removed in version 5.0.0 for `Trainer.__init__`. Use `processing_class` instead.\n",
      "  trainer = Trainer(\n"
     ]
    },
    {
     "data": {
      "application/vnd.jupyter.widget-view+json": {
       "model_id": "bf7eab79bc1440a0a367005764c79c03",
       "version_major": 2,
       "version_minor": 0
      },
      "text/plain": [
       "  0%|          | 0/500 [00:00<?, ?it/s]"
      ]
     },
     "metadata": {},
     "output_type": "display_data"
    },
    {
     "name": "stdout",
     "output_type": "stream",
     "text": [
      "{'loss': 0.5722, 'grad_norm': 4.702661037445068, 'learning_rate': 1.9600000000000002e-05, 'epoch': 0.02}\n",
      "{'loss': 0.5136, 'grad_norm': 2.866863250732422, 'learning_rate': 1.9200000000000003e-05, 'epoch': 0.04}\n",
      "{'loss': 0.4912, 'grad_norm': 4.1566290855407715, 'learning_rate': 1.88e-05, 'epoch': 0.06}\n",
      "{'loss': 0.3774, 'grad_norm': 3.0584380626678467, 'learning_rate': 1.8400000000000003e-05, 'epoch': 0.08}\n",
      "{'loss': 0.3721, 'grad_norm': 2.9078361988067627, 'learning_rate': 1.8e-05, 'epoch': 0.1}\n",
      "{'loss': 0.3781, 'grad_norm': 5.779260635375977, 'learning_rate': 1.76e-05, 'epoch': 0.12}\n",
      "{'loss': 0.2771, 'grad_norm': 2.678269863128662, 'learning_rate': 1.72e-05, 'epoch': 0.14}\n",
      "{'loss': 0.2868, 'grad_norm': 4.828853130340576, 'learning_rate': 1.6800000000000002e-05, 'epoch': 0.16}\n",
      "{'loss': 0.2183, 'grad_norm': 4.869346618652344, 'learning_rate': 1.64e-05, 'epoch': 0.18}\n",
      "{'loss': 0.3751, 'grad_norm': 3.3468821048736572, 'learning_rate': 1.6000000000000003e-05, 'epoch': 0.2}\n",
      "{'loss': 0.2476, 'grad_norm': 3.4669532775878906, 'learning_rate': 1.5600000000000003e-05, 'epoch': 0.22}\n",
      "{'loss': 0.3118, 'grad_norm': 5.542993545532227, 'learning_rate': 1.5200000000000002e-05, 'epoch': 0.24}\n",
      "{'loss': 0.2919, 'grad_norm': 4.692183017730713, 'learning_rate': 1.48e-05, 'epoch': 0.26}\n",
      "{'loss': 0.303, 'grad_norm': 7.065396785736084, 'learning_rate': 1.4400000000000001e-05, 'epoch': 0.28}\n",
      "{'loss': 0.2451, 'grad_norm': 5.016270637512207, 'learning_rate': 1.4e-05, 'epoch': 0.3}\n",
      "{'loss': 0.2814, 'grad_norm': 6.874539852142334, 'learning_rate': 1.3600000000000002e-05, 'epoch': 0.32}\n",
      "{'loss': 0.222, 'grad_norm': 2.4224562644958496, 'learning_rate': 1.3200000000000002e-05, 'epoch': 0.34}\n",
      "{'loss': 0.2134, 'grad_norm': 5.354944705963135, 'learning_rate': 1.2800000000000001e-05, 'epoch': 0.36}\n",
      "{'loss': 0.2019, 'grad_norm': 1.921470046043396, 'learning_rate': 1.2400000000000002e-05, 'epoch': 0.38}\n",
      "{'loss': 0.2378, 'grad_norm': 4.1277546882629395, 'learning_rate': 1.2e-05, 'epoch': 0.4}\n",
      "{'loss': 0.3321, 'grad_norm': 17.610532760620117, 'learning_rate': 1.16e-05, 'epoch': 0.42}\n",
      "{'loss': 0.2535, 'grad_norm': 0.7836868166923523, 'learning_rate': 1.1200000000000001e-05, 'epoch': 0.44}\n",
      "{'loss': 0.2963, 'grad_norm': 0.6353194713592529, 'learning_rate': 1.0800000000000002e-05, 'epoch': 0.46}\n",
      "{'loss': 0.206, 'grad_norm': 3.736774206161499, 'learning_rate': 1.04e-05, 'epoch': 0.48}\n",
      "{'loss': 0.2525, 'grad_norm': 12.447344779968262, 'learning_rate': 1e-05, 'epoch': 0.5}\n",
      "{'loss': 0.2799, 'grad_norm': 3.787818193435669, 'learning_rate': 9.600000000000001e-06, 'epoch': 0.52}\n",
      "{'loss': 0.2287, 'grad_norm': 2.133129358291626, 'learning_rate': 9.200000000000002e-06, 'epoch': 0.54}\n",
      "{'loss': 0.1976, 'grad_norm': 2.929332971572876, 'learning_rate': 8.8e-06, 'epoch': 0.56}\n",
      "{'loss': 0.286, 'grad_norm': 15.81834888458252, 'learning_rate': 8.400000000000001e-06, 'epoch': 0.58}\n",
      "{'loss': 0.2597, 'grad_norm': 3.0251851081848145, 'learning_rate': 8.000000000000001e-06, 'epoch': 0.6}\n",
      "{'loss': 0.2772, 'grad_norm': 8.092479705810547, 'learning_rate': 7.600000000000001e-06, 'epoch': 0.62}\n",
      "{'loss': 0.2179, 'grad_norm': 0.8144183158874512, 'learning_rate': 7.2000000000000005e-06, 'epoch': 0.64}\n",
      "{'loss': 0.2291, 'grad_norm': 1.1149582862854004, 'learning_rate': 6.800000000000001e-06, 'epoch': 0.66}\n",
      "{'loss': 0.2034, 'grad_norm': 1.6310064792633057, 'learning_rate': 6.4000000000000006e-06, 'epoch': 0.68}\n",
      "{'loss': 0.1634, 'grad_norm': 3.757519006729126, 'learning_rate': 6e-06, 'epoch': 0.7}\n",
      "{'loss': 0.3127, 'grad_norm': 5.8519744873046875, 'learning_rate': 5.600000000000001e-06, 'epoch': 0.72}\n",
      "{'loss': 0.2552, 'grad_norm': 7.14745569229126, 'learning_rate': 5.2e-06, 'epoch': 0.74}\n",
      "{'loss': 0.311, 'grad_norm': 7.085098743438721, 'learning_rate': 4.800000000000001e-06, 'epoch': 0.76}\n",
      "{'loss': 0.2235, 'grad_norm': 5.750409126281738, 'learning_rate': 4.4e-06, 'epoch': 0.78}\n",
      "{'loss': 0.1816, 'grad_norm': 8.19503116607666, 'learning_rate': 4.000000000000001e-06, 'epoch': 0.8}\n",
      "{'loss': 0.3278, 'grad_norm': 9.729074478149414, 'learning_rate': 3.6000000000000003e-06, 'epoch': 0.82}\n",
      "{'loss': 0.2304, 'grad_norm': 3.797586679458618, 'learning_rate': 3.2000000000000003e-06, 'epoch': 0.84}\n",
      "{'loss': 0.2704, 'grad_norm': 6.540139675140381, 'learning_rate': 2.8000000000000003e-06, 'epoch': 0.86}\n",
      "{'loss': 0.2663, 'grad_norm': 5.43143892288208, 'learning_rate': 2.4000000000000003e-06, 'epoch': 0.88}\n",
      "{'loss': 0.2503, 'grad_norm': 8.369153022766113, 'learning_rate': 2.0000000000000003e-06, 'epoch': 0.9}\n",
      "{'loss': 0.2271, 'grad_norm': 6.295734882354736, 'learning_rate': 1.6000000000000001e-06, 'epoch': 0.92}\n",
      "{'loss': 0.2276, 'grad_norm': 8.30525016784668, 'learning_rate': 1.2000000000000002e-06, 'epoch': 0.94}\n",
      "{'loss': 0.2426, 'grad_norm': 6.462167263031006, 'learning_rate': 8.000000000000001e-07, 'epoch': 0.96}\n",
      "{'loss': 0.2016, 'grad_norm': 2.5908396244049072, 'learning_rate': 4.0000000000000003e-07, 'epoch': 0.98}\n",
      "{'loss': 0.2104, 'grad_norm': 8.605253219604492, 'learning_rate': 0.0, 'epoch': 1.0}\n"
     ]
    },
    {
     "data": {
      "application/vnd.jupyter.widget-view+json": {
       "model_id": "e860ffffc10045a081e7b00375d64c9f",
       "version_major": 2,
       "version_minor": 0
      },
      "text/plain": [
       "  0%|          | 0/250 [00:00<?, ?it/s]"
      ]
     },
     "metadata": {},
     "output_type": "display_data"
    },
    {
     "name": "stdout",
     "output_type": "stream",
     "text": [
      "{'eval_loss': 0.22859832644462585, 'eval_accuracy': 0.9105000495910645, 'eval_runtime': 3.7898, 'eval_samples_per_second': 527.733, 'eval_steps_per_second': 65.967, 'epoch': 1.0}\n",
      "{'train_runtime': 53.3508, 'train_samples_per_second': 149.895, 'train_steps_per_second': 9.372, 'train_loss': 0.27679563784599304, 'epoch': 1.0}\n"
     ]
    },
    {
     "data": {
      "application/vnd.jupyter.widget-view+json": {
       "model_id": "6bacfd3693974ba2972e37db28a58a07",
       "version_major": 2,
       "version_minor": 0
      },
      "text/plain": [
       "  0%|          | 0/250 [00:00<?, ?it/s]"
      ]
     },
     "metadata": {},
     "output_type": "display_data"
    },
    {
     "data": {
      "text/plain": [
       "'Wrong parameters or input data'"
      ]
     },
     "execution_count": 7,
     "metadata": {},
     "output_type": "execute_result"
    }
   ],
   "source": [
    "sentiment_bert_model = \"models/Video_games_sentiment_bert\"\n",
    "download_and_tune_bert(sentiment_bert_model, data,\"star_based_sentiment\")"
   ]
  },
  {
   "cell_type": "code",
   "execution_count": 8,
   "metadata": {},
   "outputs": [
    {
     "name": "stderr",
     "output_type": "stream",
     "text": [
      "[nltk_data] Downloading package vader_lexicon to\n",
      "[nltk_data]     C:\\Users\\Michał\\AppData\\Roaming\\nltk_data...\n"
     ]
    }
   ],
   "source": [
    "from codes.predict_on_model import predict_on_roberta, predict_sentiment_bert, predict_on_vader\n",
    "import pandas as pd\n",
    "\n",
    "roberta_results = predict_on_roberta(sample)\n",
    "bert_resutls = predict_sentiment_bert(sample,sentiment_bert_model)\n",
    "vader_results = predict_on_vader(sample)"
   ]
  },
  {
   "cell_type": "code",
   "execution_count": 13,
   "metadata": {},
   "outputs": [],
   "source": [
    "\n",
    "results = pd.DataFrame([{\"Roberta Labels\": roberta_results,\n",
    "                        \"Bert Labels\": bert_resutls,\n",
    "                        \"Vader Labels\": vader_results.sentiment,\n",
    "                        \"True Labels\": sample.rating}])"
   ]
  },
  {
   "cell_type": "code",
   "execution_count": 14,
   "metadata": {},
   "outputs": [
    {
     "data": {
      "image/png": "[encoded data removed]",
      "text/plain": [
       "<Figure size 800x600 with 2 Axes>"
      ]
     },
     "metadata": {},
     "output_type": "display_data"
    }
   ],
   "source": [
    "from codes.heatmap_file import heatmap\n",
    "heatmap(results,\"Roberta Labels\",\"True Labels\")\n"
   ]
  },
  {
   "cell_type": "code",
   "execution_count": 15,
   "metadata": {},
   "outputs": [
    {
     "data": {
      "image/png": "[encoded data removed]",
      "text/plain": [
       "<Figure size 800x600 with 2 Axes>"
      ]
     },
     "metadata": {},
     "output_type": "display_data"
    }
   ],
   "source": [
    "heatmap(results,\"Bert Labels\",\"True Labels\")"
   ]
  },
  {
   "cell_type": "code",
   "execution_count": 16,
   "metadata": {},
   "outputs": [
    {
     "data": {
      "image/png": "[encoded data removed]",
      "text/plain": [
       "<Figure size 800x600 with 2 Axes>"
      ]
     },
     "metadata": {},
     "output_type": "display_data"
    }
   ],
   "source": [
    "heatmap(results,\"Vader Labels\",\"True Labels\")"
   ]
  },
  {
   "cell_type": "code",
   "execution_count": 24,
   "metadata": {},
   "outputs": [
    {
     "data": {
      "text/plain": [
       "np.float64(91.60000000000001)"
      ]
     },
     "execution_count": 24,
     "metadata": {},
     "output_type": "execute_result"
    }
   ],
   "source": [
    "accuracy(sample.star_based_sentiment, bert_resutls)"
   ]
  },
  {
   "cell_type": "code",
   "execution_count": 26,
   "metadata": {},
   "outputs": [
    {
     "data": {
      "text/plain": [
       "88.4"
      ]
     },
     "execution_count": 26,
     "metadata": {},
     "output_type": "execute_result"
    }
   ],
   "source": [
    "accuracy(sample.star_based_sentiment, roberta_results)"
   ]
  },
  {
   "cell_type": "code",
   "execution_count": 28,
   "metadata": {},
   "outputs": [
    {
     "data": {
      "text/plain": [
       "83.39999999999999"
      ]
     },
     "execution_count": 28,
     "metadata": {},
     "output_type": "execute_result"
    }
   ],
   "source": [
    "accuracy(sample.star_based_sentiment, vader_results.sentiment)"
   ]
  },
  {
   "cell_type": "code",
   "execution_count": 1,
   "metadata": {},
   "outputs": [
    {
     "name": "stdout",
     "output_type": "stream",
     "text": [
      "Model cardiffnlp/twitter-roberta-base-sentiment downloaded and saved.\n"
     ]
    },
    {
     "name": "stderr",
     "output_type": "stream",
     "text": [
      "Some weights of BertForSequenceClassification were not initialized from the model checkpoint at bert-base-uncased and are newly initialized: ['classifier.bias', 'classifier.weight']\n",
      "You should probably TRAIN this model on a down-stream task to be able to use it for predictions and inference.\n",
      "Some weights of BertForSequenceClassification were not initialized from the model checkpoint at bert-base-uncased and are newly initialized: ['classifier.bias', 'classifier.weight']\n",
      "You should probably TRAIN this model on a down-stream task to be able to use it for predictions and inference.\n"
     ]
    },
    {
     "name": "stdout",
     "output_type": "stream",
     "text": [
      "Model bert-base-uncased downloaded and saved.\n"
     ]
    }
   ],
   "source": [
    "from codes.download_model import download_and_save_hugging_face_models\n",
    "download_and_save_hugging_face_models()"
   ]
  },
  {
   "cell_type": "code",
   "execution_count": 4,
   "metadata": {},
   "outputs": [
    {
     "name": "stdout",
     "output_type": "stream",
     "text": [
      "Epoch 1/3, Loss: 1.526379942893982\n",
      "Epoch 2/3, Loss: 1.5199611186981201\n",
      "Epoch 3/3, Loss: 1.5403428077697754\n",
      "Predictions: tensor([[0.1331, 0.1513, 0.1585, 0.0965, 0.4605],\n",
      "        [0.1351, 0.1492, 0.1549, 0.0955, 0.4653]])\n"
     ]
    }
   ],
   "source": []
  },
  {
   "cell_type": "code",
   "execution_count": 5,
   "metadata": {},
   "outputs": [
    {
     "name": "stdout",
     "output_type": "stream",
     "text": [
      "Epoch 1/3, Loss: 0.09477029740810394\n",
      "Epoch 2/3, Loss: 0.08474448323249817\n",
      "Epoch 3/3, Loss: 0.08718577027320862\n",
      "Predictions: tensor([0.4844, 0.4945])\n"
     ]
    }
   ],
   "source": [
    "import torch\n",
    "import torch.nn as nn\n",
    "import torch.optim as optim\n",
    "from transformers import BertModel, BertTokenizer\n",
    "\n",
    "class BERTRegressionOrClassification(nn.Module):\n",
    "    def __init__(self, task_type=\"regression\"):\n",
    "        super(BERTRegressionOrClassification, self).__init__()\n",
    "        self.bert = BertModel.from_pretrained(\"bert-base-uncased\")\n",
    "        self.task_type = task_type\n",
    "        self.fc = nn.Linear(self.bert.config.hidden_size, 1 if task_type == \"regression\" else 5)\n",
    "        self.sigmoid = nn.Sigmoid()  # For regression\n",
    "        self.softmax = nn.Softmax(dim=-1)  # For classification\n",
    "\n",
    "    def forward(self, input_ids, attention_mask):\n",
    "        outputs = self.bert(input_ids=input_ids, attention_mask=attention_mask)\n",
    "        cls_output = outputs.pooler_output\n",
    "        logits = self.fc(cls_output)\n",
    "\n",
    "        if self.task_type == \"regression\":\n",
    "            return self.sigmoid(logits).squeeze(-1)  # Scale to [0, 1]\n",
    "        else:  # Classification\n",
    "            return self.softmax(logits)\n",
    "\n",
    "# Przygotowanie danych (przykład)\n",
    "tokenizer = BertTokenizer.from_pretrained(\"bert-base-uncased\")\n",
    "texts = [\"Example sentence 1.\", \"Example sentence 2.\"]\n",
    "labels_regression = [0.2, 0.8]  # Dla ordinal regression: wartości z przedziału [0, 1]\n",
    "labels_classification = [1, 4]  # Dla klasyfikacji: klasy całkowite (np. 0-4)\n",
    "\n",
    "# Tokenizacja\n",
    "inputs = tokenizer(texts, padding=True, truncation=True, return_tensors=\"pt\")\n",
    "input_ids, attention_mask = inputs[\"input_ids\"], inputs[\"attention_mask\"]\n",
    "\n",
    "# Przygotowanie modelu i funkcji straty\n",
    "task_type = \"regression\"  # Zmień na \"classification\", aby zmienić tryb\n",
    "model = BERTRegressionOrClassification(task_type=task_type)\n",
    "\n",
    "if task_type == \"regression\":\n",
    "    criterion = nn.MSELoss()\n",
    "    labels = torch.tensor(labels_regression, dtype=torch.float32)\n",
    "else:\n",
    "    criterion = nn.CrossEntropyLoss()\n",
    "    labels = torch.tensor(labels_classification, dtype=torch.long)\n",
    "\n",
    "optimizer = optim.AdamW(model.parameters(), lr=1e-5)\n",
    "\n",
    "# Trenowanie modelu\n",
    "model.train()\n",
    "epochs = 3\n",
    "for epoch in range(epochs):\n",
    "    optimizer.zero_grad()\n",
    "\n",
    "    outputs = model(input_ids=input_ids, attention_mask=attention_mask)\n",
    "    \n",
    "    if task_type == \"regression\":\n",
    "        loss = criterion(outputs, labels)\n",
    "    else:  # Classification\n",
    "        loss = criterion(outputs, labels)\n",
    "\n",
    "    loss.backward()\n",
    "    optimizer.step()\n",
    "\n",
    "    print(f\"Epoch {epoch + 1}/{epochs}, Loss: {loss.item()}\")\n",
    "\n",
    "# Testowanie modelu\n",
    "model.eval()\n",
    "with torch.no_grad():\n",
    "    predictions = model(input_ids=input_ids, attention_mask=attention_mask)\n",
    "    print(\"Predictions:\", predictions)\n"
   ]
  },
  {
   "cell_type": "code",
   "execution_count": 6,
   "metadata": {},
   "outputs": [
    {
     "name": "stdout",
     "output_type": "stream",
     "text": [
      "{'MAE': 0.10000000894069672, 'MSE': 0.010000002570450306, 'Accuracy': 1.0}\n"
     ]
    }
   ],
   "source": [
    "import torch\n",
    "\n",
    "def calculate_metrics(predictions, labels, task_type=\"regression\"):\n",
    "    \"\"\"\n",
    "    Oblicza MAE, MSE i accuracy dla przewidywań modelu.\n",
    "    \n",
    "    Args:\n",
    "        predictions (torch.Tensor): Przewidywane wartości modelu.\n",
    "            - Dla regresji: wartości ciągłe w przedziale [0, 1].\n",
    "            - Dla klasyfikacji: prawdopodobieństwa klas (logits po softmaxie).\n",
    "        labels (torch.Tensor): Rzeczywiste wartości.\n",
    "            - Dla regresji: wartości ciągłe w przedziale [0, 1].\n",
    "            - Dla klasyfikacji: klasy całkowite (np. 0, 1, 2, ...).\n",
    "        task_type (str): Typ zadania, \"regression\" lub \"classification\".\n",
    "\n",
    "    Returns:\n",
    "        dict: Słownik z wartościami metryk (MAE, MSE, accuracy).\n",
    "    \"\"\"\n",
    "    if task_type == \"regression\":\n",
    "        # MAE i MSE dla regresji\n",
    "        mae = torch.mean(torch.abs(predictions - labels)).item()\n",
    "        mse = torch.mean((predictions - labels) ** 2).item()\n",
    "        \n",
    "        # Konwersja ciągłych wyników do dyskretnych klas dla accuracy\n",
    "        predicted_classes = torch.round(predictions * 4).long()  # Zakładamy 5 klas (0-4)\n",
    "        true_classes = torch.round(labels * 4).long()\n",
    "        accuracy = (predicted_classes == true_classes).float().mean().item()\n",
    "    \n",
    "    elif task_type == \"classification\":\n",
    "        # Konwersja prawdopodobieństw na klasy\n",
    "        predicted_classes = torch.argmax(predictions, dim=-1)\n",
    "        true_classes = labels\n",
    "\n",
    "        # Accuracy dla klasyfikacji\n",
    "        accuracy = (predicted_classes == true_classes).float().mean().item()\n",
    "\n",
    "        # Konwersja do \"ciągłych\" wartości dla MAE i MSE (opcjonalne)\n",
    "        predicted_values = predicted_classes.float()\n",
    "        true_values = true_classes.float()\n",
    "        mae = torch.mean(torch.abs(predicted_values - true_values)).item()\n",
    "        mse = torch.mean((predicted_values - true_values) ** 2).item()\n",
    "\n",
    "    else:\n",
    "        raise ValueError(\"task_type must be 'regression' or 'classification'\")\n",
    "    \n",
    "    return {\"MAE\": mae, \"MSE\": mse, \"Accuracy\": accuracy}\n",
    "\n",
    "# Przykładowe użycie\n",
    "if __name__ == \"__main__\":\n",
    "    # Przykładowe dane wyjściowe modelu i etykiety\n",
    "    task_type = \"regression\"  # Zmień na \"classification\", aby zmienić tryb\n",
    "\n",
    "    if task_type == \"regression\":\n",
    "        # Regresja: Przewidywania ciągłe, etykiety w przedziale [0, 1]\n",
    "        predictions = torch.tensor([0.1, 0.7, 0.4, 0.9])\n",
    "        labels = torch.tensor([0.0, 0.8, 0.5, 1.0])\n",
    "    else:\n",
    "        # Klasyfikacja: Prawdopodobieństwa klas, etykiety dyskretne\n",
    "        predictions = torch.tensor([[0.1, 0.7, 0.2, 0.0, 0.0],\n",
    "                                    [0.0, 0.2, 0.1, 0.6, 0.1],\n",
    "                                    [0.3, 0.3, 0.3, 0.1, 0.0]])\n",
    "        labels = torch.tensor([1, 3, 0])\n",
    "\n",
    "    # Obliczanie metryk\n",
    "    metrics = calculate_metrics(predictions, labels, task_type=task_type)\n",
    "    print(metrics)\n"
   ]
  },
  {
   "cell_type": "code",
   "execution_count": null,
   "metadata": {},
   "outputs": [],
   "source": []
  }
 ],
 "metadata": {
  "kernelspec": {
   "display_name": "Python 3",
   "language": "python",
   "name": "python3"
  },
  "language_info": {
   "codemirror_mode": {
    "name": "ipython",
    "version": 3
   },
   "file_extension": ".py",
   "mimetype": "text/x-python",
   "name": "python",
   "nbconvert_exporter": "python",
   "pygments_lexer": "ipython3",
   "version": "3.11.9"
  }
 },
 "nbformat": 4,
 "nbformat_minor": 2
}

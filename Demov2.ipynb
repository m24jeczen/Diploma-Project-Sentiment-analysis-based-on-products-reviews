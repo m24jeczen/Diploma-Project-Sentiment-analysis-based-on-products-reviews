{
 "cells": [
  {
   "cell_type": "code",
   "execution_count": 1,
   "metadata": {},
   "outputs": [],
   "source": [
    "from codes.parameters import categories\n",
    "from codes.data_loader import load_reviews\n",
    "category = categories[32]\n",
    "data = load_reviews(category).head(10000)\n",
    "data = data[data[\"text\"].str.split().str.len() >= 1]"
   ]
  },
  {
   "cell_type": "code",
   "execution_count": 2,
   "metadata": {},
   "outputs": [],
   "source": [
    "from codes.preprocessing import balance_data, map_ratings_into_sentiment\n",
    "balanced_data = balance_data(data,\"rating\")\n",
    "data = map_ratings_into_sentiment(data)"
   ]
  },
  {
   "cell_type": "markdown",
   "metadata": {},
   "source": [
    "Test trenowania na zbalansowanym kontra na niezbalansowanym zbiorze"
   ]
  },
  {
   "cell_type": "code",
   "execution_count": 3,
   "metadata": {},
   "outputs": [
    {
     "name": "stderr",
     "output_type": "stream",
     "text": [
      "Some weights of BertForSequenceClassification were not initialized from the model checkpoint at bert-base-uncased and are newly initialized: ['classifier.bias', 'classifier.weight']\n",
      "You should probably TRAIN this model on a down-stream task to be able to use it for predictions and inference.\n",
      "C:\\Users\\Michał\\AppData\\Local\\Packages\\PythonSoftwareFoundation.Python.3.11_qbz5n2kfra8p0\\LocalCache\\local-packages\\Python311\\site-packages\\transformers\\training_args.py:1575: FutureWarning: `evaluation_strategy` is deprecated and will be removed in version 4.46 of 🤗 Transformers. Use `eval_strategy` instead\n",
      "  warnings.warn(\n",
      "c:\\Users\\Michał\\Inżynierka\\Diploma-Project-Sentiment-analysis-based-on-products-reviews\\codes\\download_model.py:85: FutureWarning: `tokenizer` is deprecated and will be removed in version 5.0.0 for `Trainer.__init__`. Use `processing_class` instead.\n",
      "  trainer = Trainer(\n"
     ]
    },
    {
     "data": {
      "application/vnd.jupyter.widget-view+json": {
       "model_id": "c9c7ecbeafe94fcf949a3f6bf7facf40",
       "version_major": 2,
       "version_minor": 0
      },
      "text/plain": [
       "  0%|          | 0/500 [00:00<?, ?it/s]"
      ]
     },
     "metadata": {},
     "output_type": "display_data"
    },
    {
     "name": "stdout",
     "output_type": "stream",
     "text": [
      "{'loss': 1.436, 'grad_norm': 8.57140064239502, 'learning_rate': 1.9600000000000002e-05, 'epoch': 0.02}\n",
      "{'loss': 1.2609, 'grad_norm': 4.445563316345215, 'learning_rate': 1.9200000000000003e-05, 'epoch': 0.04}\n",
      "{'loss': 1.1525, 'grad_norm': 5.1935505867004395, 'learning_rate': 1.88e-05, 'epoch': 0.06}\n",
      "{'loss': 0.9604, 'grad_norm': 3.6386775970458984, 'learning_rate': 1.8400000000000003e-05, 'epoch': 0.08}\n",
      "{'loss': 0.9732, 'grad_norm': 4.83483362197876, 'learning_rate': 1.8e-05, 'epoch': 0.1}\n",
      "{'loss': 1.0543, 'grad_norm': 5.03246545791626, 'learning_rate': 1.76e-05, 'epoch': 0.12}\n",
      "{'loss': 0.9077, 'grad_norm': 4.660675525665283, 'learning_rate': 1.72e-05, 'epoch': 0.14}\n",
      "{'loss': 0.9413, 'grad_norm': 3.557111978530884, 'learning_rate': 1.6800000000000002e-05, 'epoch': 0.16}\n",
      "{'loss': 0.9488, 'grad_norm': 8.736278533935547, 'learning_rate': 1.64e-05, 'epoch': 0.18}\n",
      "{'loss': 0.9541, 'grad_norm': 3.451516628265381, 'learning_rate': 1.6000000000000003e-05, 'epoch': 0.2}\n",
      "{'loss': 0.806, 'grad_norm': 4.5600714683532715, 'learning_rate': 1.5600000000000003e-05, 'epoch': 0.22}\n",
      "{'loss': 0.9029, 'grad_norm': 5.894700050354004, 'learning_rate': 1.5200000000000002e-05, 'epoch': 0.24}\n",
      "{'loss': 0.9371, 'grad_norm': 4.982257843017578, 'learning_rate': 1.48e-05, 'epoch': 0.26}\n",
      "{'loss': 0.9939, 'grad_norm': 5.96914005279541, 'learning_rate': 1.4400000000000001e-05, 'epoch': 0.28}\n",
      "{'loss': 0.9345, 'grad_norm': 6.262556552886963, 'learning_rate': 1.4e-05, 'epoch': 0.3}\n",
      "{'loss': 0.9424, 'grad_norm': 6.925121784210205, 'learning_rate': 1.3600000000000002e-05, 'epoch': 0.32}\n",
      "{'loss': 0.7946, 'grad_norm': 4.999310493469238, 'learning_rate': 1.3200000000000002e-05, 'epoch': 0.34}\n",
      "{'loss': 0.7388, 'grad_norm': 6.778252601623535, 'learning_rate': 1.2800000000000001e-05, 'epoch': 0.36}\n",
      "{'loss': 0.7652, 'grad_norm': 4.9311628341674805, 'learning_rate': 1.2400000000000002e-05, 'epoch': 0.38}\n",
      "{'loss': 0.7696, 'grad_norm': 7.536590576171875, 'learning_rate': 1.2e-05, 'epoch': 0.4}\n",
      "{'loss': 0.9116, 'grad_norm': 7.638668060302734, 'learning_rate': 1.16e-05, 'epoch': 0.42}\n",
      "{'loss': 0.806, 'grad_norm': 6.96272611618042, 'learning_rate': 1.1200000000000001e-05, 'epoch': 0.44}\n",
      "{'loss': 0.8551, 'grad_norm': 7.011388301849365, 'learning_rate': 1.0800000000000002e-05, 'epoch': 0.46}\n",
      "{'loss': 0.8041, 'grad_norm': 10.476202964782715, 'learning_rate': 1.04e-05, 'epoch': 0.48}\n",
      "{'loss': 0.8682, 'grad_norm': 6.90321683883667, 'learning_rate': 1e-05, 'epoch': 0.5}\n",
      "{'loss': 0.7859, 'grad_norm': 4.010605812072754, 'learning_rate': 9.600000000000001e-06, 'epoch': 0.52}\n",
      "{'loss': 0.6668, 'grad_norm': 5.4180707931518555, 'learning_rate': 9.200000000000002e-06, 'epoch': 0.54}\n",
      "{'loss': 0.635, 'grad_norm': 3.119419574737549, 'learning_rate': 8.8e-06, 'epoch': 0.56}\n",
      "{'loss': 0.8441, 'grad_norm': 6.27186918258667, 'learning_rate': 8.400000000000001e-06, 'epoch': 0.58}\n",
      "{'loss': 0.7678, 'grad_norm': 5.708547592163086, 'learning_rate': 8.000000000000001e-06, 'epoch': 0.6}\n",
      "{'loss': 0.8305, 'grad_norm': 8.6375093460083, 'learning_rate': 7.600000000000001e-06, 'epoch': 0.62}\n",
      "{'loss': 0.7105, 'grad_norm': 6.865261077880859, 'learning_rate': 7.2000000000000005e-06, 'epoch': 0.64}\n",
      "{'loss': 0.7228, 'grad_norm': 6.642006874084473, 'learning_rate': 6.800000000000001e-06, 'epoch': 0.66}\n",
      "{'loss': 0.6894, 'grad_norm': 5.741991996765137, 'learning_rate': 6.4000000000000006e-06, 'epoch': 0.68}\n",
      "{'loss': 0.7648, 'grad_norm': 6.249150276184082, 'learning_rate': 6e-06, 'epoch': 0.7}\n",
      "{'loss': 0.8249, 'grad_norm': 8.369060516357422, 'learning_rate': 5.600000000000001e-06, 'epoch': 0.72}\n",
      "{'loss': 0.5668, 'grad_norm': 7.319943904876709, 'learning_rate': 5.2e-06, 'epoch': 0.74}\n",
      "{'loss': 0.7413, 'grad_norm': 5.490297794342041, 'learning_rate': 4.800000000000001e-06, 'epoch': 0.76}\n",
      "{'loss': 0.7448, 'grad_norm': 7.711076736450195, 'learning_rate': 4.4e-06, 'epoch': 0.78}\n",
      "{'loss': 0.6666, 'grad_norm': 7.31119441986084, 'learning_rate': 4.000000000000001e-06, 'epoch': 0.8}\n",
      "{'loss': 0.7652, 'grad_norm': 6.689334392547607, 'learning_rate': 3.6000000000000003e-06, 'epoch': 0.82}\n",
      "{'loss': 0.7612, 'grad_norm': 6.8052167892456055, 'learning_rate': 3.2000000000000003e-06, 'epoch': 0.84}\n",
      "{'loss': 0.738, 'grad_norm': 7.227145195007324, 'learning_rate': 2.8000000000000003e-06, 'epoch': 0.86}\n",
      "{'loss': 0.6973, 'grad_norm': 6.642561912536621, 'learning_rate': 2.4000000000000003e-06, 'epoch': 0.88}\n",
      "{'loss': 0.811, 'grad_norm': 10.888077735900879, 'learning_rate': 2.0000000000000003e-06, 'epoch': 0.9}\n",
      "{'loss': 0.6451, 'grad_norm': 5.8163275718688965, 'learning_rate': 1.6000000000000001e-06, 'epoch': 0.92}\n",
      "{'loss': 0.6894, 'grad_norm': 6.360605239868164, 'learning_rate': 1.2000000000000002e-06, 'epoch': 0.94}\n",
      "{'loss': 0.8284, 'grad_norm': 5.843343734741211, 'learning_rate': 8.000000000000001e-07, 'epoch': 0.96}\n",
      "{'loss': 0.6924, 'grad_norm': 3.550173282623291, 'learning_rate': 4.0000000000000003e-07, 'epoch': 0.98}\n",
      "{'loss': 0.7034, 'grad_norm': 11.959444999694824, 'learning_rate': 0.0, 'epoch': 1.0}\n"
     ]
    },
    {
     "data": {
      "application/vnd.jupyter.widget-view+json": {
       "model_id": "25f72a1faeaa4e8e83f1023b764e27f4",
       "version_major": 2,
       "version_minor": 0
      },
      "text/plain": [
       "  0%|          | 0/250 [00:00<?, ?it/s]"
      ]
     },
     "metadata": {},
     "output_type": "display_data"
    },
    {
     "name": "stdout",
     "output_type": "stream",
     "text": [
      "{'eval_loss': 0.6983637809753418, 'eval_accuracy': 0.7290000319480896, 'eval_runtime': 3.8642, 'eval_samples_per_second': 517.576, 'eval_steps_per_second': 64.697, 'epoch': 1.0}\n",
      "{'train_runtime': 53.7809, 'train_samples_per_second': 148.696, 'train_steps_per_second': 9.297, 'train_loss': 0.8342472867965698, 'epoch': 1.0}\n"
     ]
    },
    {
     "data": {
      "application/vnd.jupyter.widget-view+json": {
       "model_id": "eefb9109c7d14895b9102686a5a547df",
       "version_major": 2,
       "version_minor": 0
      },
      "text/plain": [
       "  0%|          | 0/250 [00:00<?, ?it/s]"
      ]
     },
     "metadata": {},
     "output_type": "display_data"
    },
    {
     "data": {
      "text/plain": [
       "'Wrong parameters or input data'"
      ]
     },
     "execution_count": 3,
     "metadata": {},
     "output_type": "execute_result"
    }
   ],
   "source": [
    "from codes.download_model import download_and_tune_bert\n",
    "unbalanced = \"models/Video_games_star_predictor_unbalanced\"\n",
    "download_and_tune_bert(unbalanced, data)"
   ]
  },
  {
   "cell_type": "code",
   "execution_count": 4,
   "metadata": {},
   "outputs": [
    {
     "name": "stderr",
     "output_type": "stream",
     "text": [
      "Some weights of BertForSequenceClassification were not initialized from the model checkpoint at bert-base-uncased and are newly initialized: ['classifier.bias', 'classifier.weight']\n",
      "You should probably TRAIN this model on a down-stream task to be able to use it for predictions and inference.\n",
      "C:\\Users\\Michał\\AppData\\Local\\Packages\\PythonSoftwareFoundation.Python.3.11_qbz5n2kfra8p0\\LocalCache\\local-packages\\Python311\\site-packages\\transformers\\training_args.py:1575: FutureWarning: `evaluation_strategy` is deprecated and will be removed in version 4.46 of 🤗 Transformers. Use `eval_strategy` instead\n",
      "  warnings.warn(\n",
      "c:\\Users\\Michał\\Inżynierka\\Diploma-Project-Sentiment-analysis-based-on-products-reviews\\codes\\download_model.py:85: FutureWarning: `tokenizer` is deprecated and will be removed in version 5.0.0 for `Trainer.__init__`. Use `processing_class` instead.\n",
      "  trainer = Trainer(\n"
     ]
    },
    {
     "data": {
      "application/vnd.jupyter.widget-view+json": {
       "model_id": "65cb92273e4e47fdbbf5d1b9b0f01a53",
       "version_major": 2,
       "version_minor": 0
      },
      "text/plain": [
       "  0%|          | 0/111 [00:00<?, ?it/s]"
      ]
     },
     "metadata": {},
     "output_type": "display_data"
    },
    {
     "name": "stdout",
     "output_type": "stream",
     "text": [
      "{'loss': 1.613, 'grad_norm': 4.4217305183410645, 'learning_rate': 1.81981981981982e-05, 'epoch': 0.09}\n",
      "{'loss': 1.6985, 'grad_norm': 7.309696674346924, 'learning_rate': 1.6396396396396396e-05, 'epoch': 0.18}\n",
      "{'loss': 1.6406, 'grad_norm': 5.526374816894531, 'learning_rate': 1.4594594594594596e-05, 'epoch': 0.27}\n",
      "{'loss': 1.6208, 'grad_norm': 4.973039627075195, 'learning_rate': 1.2792792792792795e-05, 'epoch': 0.36}\n",
      "{'loss': 1.6057, 'grad_norm': 5.535070419311523, 'learning_rate': 1.0990990990990992e-05, 'epoch': 0.45}\n",
      "{'loss': 1.5678, 'grad_norm': 4.472963809967041, 'learning_rate': 9.189189189189191e-06, 'epoch': 0.54}\n",
      "{'loss': 1.599, 'grad_norm': 7.984443664550781, 'learning_rate': 7.387387387387388e-06, 'epoch': 0.63}\n",
      "{'loss': 1.5918, 'grad_norm': 2.9622232913970947, 'learning_rate': 5.585585585585585e-06, 'epoch': 0.72}\n",
      "{'loss': 1.6039, 'grad_norm': 4.9745259284973145, 'learning_rate': 3.7837837837837844e-06, 'epoch': 0.81}\n",
      "{'loss': 1.5851, 'grad_norm': 3.546496629714966, 'learning_rate': 1.9819819819819822e-06, 'epoch': 0.9}\n",
      "{'loss': 1.5571, 'grad_norm': 3.6510727405548096, 'learning_rate': 1.801801801801802e-07, 'epoch': 0.99}\n"
     ]
    },
    {
     "data": {
      "application/vnd.jupyter.widget-view+json": {
       "model_id": "dab27e82d4114077b1ba4e91e8921d53",
       "version_major": 2,
       "version_minor": 0
      },
      "text/plain": [
       "  0%|          | 0/56 [00:00<?, ?it/s]"
      ]
     },
     "metadata": {},
     "output_type": "display_data"
    },
    {
     "name": "stdout",
     "output_type": "stream",
     "text": [
      "{'eval_loss': 1.5691187381744385, 'eval_accuracy': 0.28378379344940186, 'eval_runtime': 0.8581, 'eval_samples_per_second': 517.401, 'eval_steps_per_second': 65.258, 'epoch': 1.0}\n",
      "{'train_runtime': 14.2137, 'train_samples_per_second': 124.95, 'train_steps_per_second': 7.809, 'train_loss': 1.6072894281095214, 'epoch': 1.0}\n"
     ]
    },
    {
     "data": {
      "application/vnd.jupyter.widget-view+json": {
       "model_id": "9f903790302947b3bd68d4f70f19c83c",
       "version_major": 2,
       "version_minor": 0
      },
      "text/plain": [
       "  0%|          | 0/56 [00:00<?, ?it/s]"
      ]
     },
     "metadata": {},
     "output_type": "display_data"
    },
    {
     "data": {
      "text/plain": [
       "'Wrong parameters or input data'"
      ]
     },
     "execution_count": 4,
     "metadata": {},
     "output_type": "execute_result"
    }
   ],
   "source": [
    "balanced = \"models/Video_games_star_predictor_balanced\"\n",
    "download_and_tune_bert(balanced, balanced_data)"
   ]
  },
  {
   "cell_type": "code",
   "execution_count": 1,
   "metadata": {},
   "outputs": [
    {
     "ename": "NameError",
     "evalue": "name 'data' is not defined",
     "output_type": "error",
     "traceback": [
      "\u001b[1;31m---------------------------------------------------------------------------\u001b[0m",
      "\u001b[1;31mNameError\u001b[0m                                 Traceback (most recent call last)",
      "Cell \u001b[1;32mIn[1], line 7\u001b[0m\n\u001b[0;32m      4\u001b[0m     correct \u001b[38;5;241m=\u001b[39m \u001b[38;5;28msum\u001b[39m(t \u001b[38;5;241m==\u001b[39m p \u001b[38;5;28;01mfor\u001b[39;00m t, p \u001b[38;5;129;01min\u001b[39;00m \u001b[38;5;28mzip\u001b[39m(predictions, labels))\n\u001b[0;32m      5\u001b[0m     \u001b[38;5;28;01mreturn\u001b[39;00m (correct \u001b[38;5;241m/\u001b[39m \u001b[38;5;28mlen\u001b[39m(predictions)) \u001b[38;5;241m*\u001b[39m \u001b[38;5;241m100\u001b[39m\n\u001b[1;32m----> 7\u001b[0m sample \u001b[38;5;241m=\u001b[39m \u001b[43mdata\u001b[49m\u001b[38;5;241m.\u001b[39msample(\u001b[38;5;241m500\u001b[39m)\n\u001b[0;32m      8\u001b[0m balanced_prediction \u001b[38;5;241m=\u001b[39m predict_stars(sample, balanced)\n\u001b[0;32m      9\u001b[0m prediction \u001b[38;5;241m=\u001b[39m predict_stars(sample, balanced)\n",
      "\u001b[1;31mNameError\u001b[0m: name 'data' is not defined"
     ]
    }
   ],
   "source": [
    "from codes.predict_on_model import predict_stars\n",
    "\n",
    "def accuracy(labels, predictions):\n",
    "    correct = sum(t == p for t, p in zip(predictions, labels))\n",
    "    return (correct / len(predictions)) * 100\n",
    "\n",
    "sample = data.sample(500)\n",
    "balanced_prediction = predict_stars(sample, balanced)\n",
    "prediction = predict_stars(sample, balanced)"
   ]
  },
  {
   "cell_type": "code",
   "execution_count": null,
   "metadata": {},
   "outputs": [],
   "source": [
    "print(\"Accuracy for unbalanced trained model\", accuracy(sample.rating, prediction))\n",
    "print(\"Accuracy for balanced trained model\", accuracy(sample.rating, balanced_prediction))"
   ]
  },
  {
   "cell_type": "markdown",
   "metadata": {},
   "source": [
    "Predykcja sentymentu"
   ]
  },
  {
   "cell_type": "code",
   "execution_count": null,
   "metadata": {},
   "outputs": [],
   "source": [
    "sentiment_bert_model = \"models/Video_games_sentiment_bert\"\n",
    "download_and_tune_bert(sentiment_bert_model, data,\"star_based_sentiment\")"
   ]
  },
  {
   "cell_type": "code",
   "execution_count": null,
   "metadata": {},
   "outputs": [],
   "source": [
    "from codes.predict_on_model import predict_on_roberta, predict_sentiment_bert, predict_on_vader\n",
    "import pandas as pd\n",
    "\n",
    "roberta_results = predict_on_roberta(sample)\n",
    "bert_resutls = predict_sentiment_bert(sample,sentiment_bert_model)\n",
    "vader_results = predict_on_vader(sample)\n",
    "results = pd.DataFrame([{\"Roberta Labels\": roberta_results,\n",
    "                        \"Bert Labels\": bert_resutls,\n",
    "                        \"Vader Labels\": vader_results,\n",
    "                        \"True Labels\": sample.rating}])"
   ]
  },
  {
   "cell_type": "code",
   "execution_count": null,
   "metadata": {},
   "outputs": [],
   "source": [
    "from codes.heatmap_file import heatmap\n",
    "heatmap(results,\"Roberta Labels\",\"True Labels\")\n"
   ]
  },
  {
   "cell_type": "code",
   "execution_count": null,
   "metadata": {},
   "outputs": [],
   "source": [
    "heatmap(results,\"Bert Labels\",\"True Labels\")"
   ]
  },
  {
   "cell_type": "code",
   "execution_count": null,
   "metadata": {},
   "outputs": [],
   "source": [
    "heatmap(results,\"Vader Labels\",\"True Labels\")"
   ]
  }
 ],
 "metadata": {
  "kernelspec": {
   "display_name": "Python 3",
   "language": "python",
   "name": "python3"
  },
  "language_info": {
   "codemirror_mode": {
    "name": "ipython",
    "version": 3
   },
   "file_extension": ".py",
   "mimetype": "text/x-python",
   "name": "python",
   "nbconvert_exporter": "python",
   "pygments_lexer": "ipython3",
   "version": "3.11.9"
  }
 },
 "nbformat": 4,
 "nbformat_minor": 2
}

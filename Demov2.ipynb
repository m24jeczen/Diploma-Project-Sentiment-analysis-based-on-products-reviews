{
 "cells": [
  {
   "cell_type": "code",
   "execution_count": 1,
   "metadata": {},
   "outputs": [],
   "source": [
    "from codes.parameters import categories\n",
    "from codes.data_loader import load_reviews\n",
    "category = categories[32]\n",
    "data = load_reviews(category).head(10000)\n",
    "data = data[data[\"text\"].str.split().str.len() >= 1]"
   ]
  },
  {
   "cell_type": "code",
   "execution_count": 2,
   "metadata": {},
   "outputs": [],
   "source": [
    "from codes.preprocessing import balance_data, map_ratings_into_sentiment\n",
    "balanced_data = balance_data(data,\"rating\")\n",
    "data = map_ratings_into_sentiment(data)"
   ]
  },
  {
   "cell_type": "markdown",
   "metadata": {},
   "source": [
    "Test trenowania na zbalansowanym kontra na niezbalansowanym zbiorze"
   ]
  },
  {
   "cell_type": "code",
   "execution_count": 3,
   "metadata": {},
   "outputs": [
    {
     "name": "stderr",
     "output_type": "stream",
     "text": [
      "Some weights of BertForSequenceClassification were not initialized from the model checkpoint at bert-base-uncased and are newly initialized: ['classifier.bias', 'classifier.weight']\n",
      "You should probably TRAIN this model on a down-stream task to be able to use it for predictions and inference.\n",
      "C:\\Users\\Michał\\AppData\\Local\\Packages\\PythonSoftwareFoundation.Python.3.11_qbz5n2kfra8p0\\LocalCache\\local-packages\\Python311\\site-packages\\transformers\\training_args.py:1575: FutureWarning: `evaluation_strategy` is deprecated and will be removed in version 4.46 of 🤗 Transformers. Use `eval_strategy` instead\n",
      "  warnings.warn(\n",
      "c:\\Users\\Michał\\Inżynierka\\Diploma-Project-Sentiment-analysis-based-on-products-reviews\\codes\\download_model.py:85: FutureWarning: `tokenizer` is deprecated and will be removed in version 5.0.0 for `Trainer.__init__`. Use `processing_class` instead.\n",
      "  trainer = Trainer(\n"
     ]
    },
    {
     "data": {
      "application/vnd.jupyter.widget-view+json": {
       "model_id": "3ce0ca6bda244b7db3f57eb2ee2e31f0",
       "version_major": 2,
       "version_minor": 0
      },
      "text/plain": [
       "  0%|          | 0/500 [00:00<?, ?it/s]"
      ]
     },
     "metadata": {},
     "output_type": "display_data"
    },
    {
     "name": "stdout",
     "output_type": "stream",
     "text": [
      "{'loss': 1.3912, 'grad_norm': 7.2025604248046875, 'learning_rate': 1.9600000000000002e-05, 'epoch': 0.02}\n",
      "{'loss': 1.2049, 'grad_norm': 4.734626770019531, 'learning_rate': 1.9200000000000003e-05, 'epoch': 0.04}\n",
      "{'loss': 1.1195, 'grad_norm': 4.874087810516357, 'learning_rate': 1.88e-05, 'epoch': 0.06}\n",
      "{'loss': 0.9379, 'grad_norm': 4.291230201721191, 'learning_rate': 1.8400000000000003e-05, 'epoch': 0.08}\n",
      "{'loss': 0.9662, 'grad_norm': 3.5537049770355225, 'learning_rate': 1.8e-05, 'epoch': 0.1}\n",
      "{'loss': 1.0144, 'grad_norm': 3.7647528648376465, 'learning_rate': 1.76e-05, 'epoch': 0.12}\n",
      "{'loss': 0.8855, 'grad_norm': 6.7126145362854, 'learning_rate': 1.72e-05, 'epoch': 0.14}\n",
      "{'loss': 0.8664, 'grad_norm': 4.557473182678223, 'learning_rate': 1.6800000000000002e-05, 'epoch': 0.16}\n",
      "{'loss': 0.8948, 'grad_norm': 7.393646717071533, 'learning_rate': 1.64e-05, 'epoch': 0.18}\n",
      "{'loss': 0.8946, 'grad_norm': 4.168301105499268, 'learning_rate': 1.6000000000000003e-05, 'epoch': 0.2}\n",
      "{'loss': 0.7934, 'grad_norm': 5.771547317504883, 'learning_rate': 1.5600000000000003e-05, 'epoch': 0.22}\n",
      "{'loss': 0.8607, 'grad_norm': 6.046510219573975, 'learning_rate': 1.5200000000000002e-05, 'epoch': 0.24}\n",
      "{'loss': 0.9219, 'grad_norm': 6.957048416137695, 'learning_rate': 1.48e-05, 'epoch': 0.26}\n",
      "{'loss': 0.963, 'grad_norm': 6.13059139251709, 'learning_rate': 1.4400000000000001e-05, 'epoch': 0.28}\n",
      "{'loss': 0.8463, 'grad_norm': 6.237102031707764, 'learning_rate': 1.4e-05, 'epoch': 0.3}\n",
      "{'loss': 0.8731, 'grad_norm': 9.936463356018066, 'learning_rate': 1.3600000000000002e-05, 'epoch': 0.32}\n",
      "{'loss': 0.8189, 'grad_norm': 7.050184726715088, 'learning_rate': 1.3200000000000002e-05, 'epoch': 0.34}\n",
      "{'loss': 0.6933, 'grad_norm': 7.708778381347656, 'learning_rate': 1.2800000000000001e-05, 'epoch': 0.36}\n",
      "{'loss': 0.7828, 'grad_norm': 6.032880783081055, 'learning_rate': 1.2400000000000002e-05, 'epoch': 0.38}\n",
      "{'loss': 0.7737, 'grad_norm': 6.2706170082092285, 'learning_rate': 1.2e-05, 'epoch': 0.4}\n",
      "{'loss': 0.9412, 'grad_norm': 6.637453079223633, 'learning_rate': 1.16e-05, 'epoch': 0.42}\n",
      "{'loss': 0.7774, 'grad_norm': 4.977807521820068, 'learning_rate': 1.1200000000000001e-05, 'epoch': 0.44}\n",
      "{'loss': 0.8538, 'grad_norm': 5.184281826019287, 'learning_rate': 1.0800000000000002e-05, 'epoch': 0.46}\n",
      "{'loss': 0.7813, 'grad_norm': 7.502144813537598, 'learning_rate': 1.04e-05, 'epoch': 0.48}\n",
      "{'loss': 0.8529, 'grad_norm': 8.954094886779785, 'learning_rate': 1e-05, 'epoch': 0.5}\n",
      "{'loss': 0.7962, 'grad_norm': 5.3671555519104, 'learning_rate': 9.600000000000001e-06, 'epoch': 0.52}\n",
      "{'loss': 0.6458, 'grad_norm': 5.249648094177246, 'learning_rate': 9.200000000000002e-06, 'epoch': 0.54}\n",
      "{'loss': 0.6195, 'grad_norm': 2.6024162769317627, 'learning_rate': 8.8e-06, 'epoch': 0.56}\n",
      "{'loss': 0.863, 'grad_norm': 6.363536357879639, 'learning_rate': 8.400000000000001e-06, 'epoch': 0.58}\n",
      "{'loss': 0.7793, 'grad_norm': 6.730618953704834, 'learning_rate': 8.000000000000001e-06, 'epoch': 0.6}\n",
      "{'loss': 0.8441, 'grad_norm': 6.97283411026001, 'learning_rate': 7.600000000000001e-06, 'epoch': 0.62}\n",
      "{'loss': 0.7034, 'grad_norm': 6.843763828277588, 'learning_rate': 7.2000000000000005e-06, 'epoch': 0.64}\n",
      "{'loss': 0.7297, 'grad_norm': 9.696870803833008, 'learning_rate': 6.800000000000001e-06, 'epoch': 0.66}\n",
      "{'loss': 0.6858, 'grad_norm': 4.302794933319092, 'learning_rate': 6.4000000000000006e-06, 'epoch': 0.68}\n",
      "{'loss': 0.7519, 'grad_norm': 6.855058193206787, 'learning_rate': 6e-06, 'epoch': 0.7}\n",
      "{'loss': 0.8476, 'grad_norm': 7.999073505401611, 'learning_rate': 5.600000000000001e-06, 'epoch': 0.72}\n",
      "{'loss': 0.5527, 'grad_norm': 11.168270111083984, 'learning_rate': 5.2e-06, 'epoch': 0.74}\n",
      "{'loss': 0.7366, 'grad_norm': 5.334952354431152, 'learning_rate': 4.800000000000001e-06, 'epoch': 0.76}\n",
      "{'loss': 0.7092, 'grad_norm': 7.634847164154053, 'learning_rate': 4.4e-06, 'epoch': 0.78}\n",
      "{'loss': 0.6774, 'grad_norm': 6.06909704208374, 'learning_rate': 4.000000000000001e-06, 'epoch': 0.8}\n",
      "{'loss': 0.7558, 'grad_norm': 9.252458572387695, 'learning_rate': 3.6000000000000003e-06, 'epoch': 0.82}\n",
      "{'loss': 0.7714, 'grad_norm': 6.9279890060424805, 'learning_rate': 3.2000000000000003e-06, 'epoch': 0.84}\n",
      "{'loss': 0.7648, 'grad_norm': 6.905421257019043, 'learning_rate': 2.8000000000000003e-06, 'epoch': 0.86}\n",
      "{'loss': 0.7249, 'grad_norm': 6.445469379425049, 'learning_rate': 2.4000000000000003e-06, 'epoch': 0.88}\n",
      "{'loss': 0.8095, 'grad_norm': 10.109691619873047, 'learning_rate': 2.0000000000000003e-06, 'epoch': 0.9}\n",
      "{'loss': 0.6679, 'grad_norm': 6.7809929847717285, 'learning_rate': 1.6000000000000001e-06, 'epoch': 0.92}\n",
      "{'loss': 0.6966, 'grad_norm': 7.1303277015686035, 'learning_rate': 1.2000000000000002e-06, 'epoch': 0.94}\n",
      "{'loss': 0.8148, 'grad_norm': 7.411207675933838, 'learning_rate': 8.000000000000001e-07, 'epoch': 0.96}\n",
      "{'loss': 0.6774, 'grad_norm': 4.519221782684326, 'learning_rate': 4.0000000000000003e-07, 'epoch': 0.98}\n",
      "{'loss': 0.6811, 'grad_norm': 13.47497844696045, 'learning_rate': 0.0, 'epoch': 1.0}\n"
     ]
    },
    {
     "data": {
      "application/vnd.jupyter.widget-view+json": {
       "model_id": "b646fa4b87df4275b6d587279928cab0",
       "version_major": 2,
       "version_minor": 0
      },
      "text/plain": [
       "  0%|          | 0/250 [00:00<?, ?it/s]"
      ]
     },
     "metadata": {},
     "output_type": "display_data"
    },
    {
     "name": "stdout",
     "output_type": "stream",
     "text": [
      "{'eval_loss': 0.7050573825836182, 'eval_accuracy': 0.7260000109672546, 'eval_runtime': 3.7007, 'eval_samples_per_second': 540.44, 'eval_steps_per_second': 67.555, 'epoch': 1.0}\n",
      "{'train_runtime': 52.9311, 'train_samples_per_second': 151.083, 'train_steps_per_second': 9.446, 'train_loss': 0.8203132238388061, 'epoch': 1.0}\n"
     ]
    },
    {
     "data": {
      "application/vnd.jupyter.widget-view+json": {
       "model_id": "9ed95fb5642a409fb632fab3b7a592d5",
       "version_major": 2,
       "version_minor": 0
      },
      "text/plain": [
       "  0%|          | 0/250 [00:00<?, ?it/s]"
      ]
     },
     "metadata": {},
     "output_type": "display_data"
    },
    {
     "data": {
      "text/plain": [
       "'Wrong parameters or input data'"
      ]
     },
     "execution_count": 3,
     "metadata": {},
     "output_type": "execute_result"
    }
   ],
   "source": [
    "from codes.download_model import download_and_tune_bert\n",
    "unbalanced = \"models/Video_games_star_predictor_unbalanced\"\n",
    "download_and_tune_bert(unbalanced, data)"
   ]
  },
  {
   "cell_type": "code",
   "execution_count": 4,
   "metadata": {},
   "outputs": [
    {
     "name": "stderr",
     "output_type": "stream",
     "text": [
      "Some weights of BertForSequenceClassification were not initialized from the model checkpoint at bert-base-uncased and are newly initialized: ['classifier.bias', 'classifier.weight']\n",
      "You should probably TRAIN this model on a down-stream task to be able to use it for predictions and inference.\n",
      "C:\\Users\\Michał\\AppData\\Local\\Packages\\PythonSoftwareFoundation.Python.3.11_qbz5n2kfra8p0\\LocalCache\\local-packages\\Python311\\site-packages\\transformers\\training_args.py:1575: FutureWarning: `evaluation_strategy` is deprecated and will be removed in version 4.46 of 🤗 Transformers. Use `eval_strategy` instead\n",
      "  warnings.warn(\n",
      "c:\\Users\\Michał\\Inżynierka\\Diploma-Project-Sentiment-analysis-based-on-products-reviews\\codes\\download_model.py:85: FutureWarning: `tokenizer` is deprecated and will be removed in version 5.0.0 for `Trainer.__init__`. Use `processing_class` instead.\n",
      "  trainer = Trainer(\n"
     ]
    },
    {
     "data": {
      "application/vnd.jupyter.widget-view+json": {
       "model_id": "b1dd41b850bd4b98b2566c27bcedcfec",
       "version_major": 2,
       "version_minor": 0
      },
      "text/plain": [
       "  0%|          | 0/111 [00:00<?, ?it/s]"
      ]
     },
     "metadata": {},
     "output_type": "display_data"
    },
    {
     "name": "stdout",
     "output_type": "stream",
     "text": [
      "{'loss': 1.613, 'grad_norm': 4.4217305183410645, 'learning_rate': 1.81981981981982e-05, 'epoch': 0.09}\n",
      "{'loss': 1.6985, 'grad_norm': 7.309696674346924, 'learning_rate': 1.6396396396396396e-05, 'epoch': 0.18}\n",
      "{'loss': 1.6406, 'grad_norm': 5.526374816894531, 'learning_rate': 1.4594594594594596e-05, 'epoch': 0.27}\n",
      "{'loss': 1.6208, 'grad_norm': 4.973039627075195, 'learning_rate': 1.2792792792792795e-05, 'epoch': 0.36}\n",
      "{'loss': 1.6057, 'grad_norm': 5.535070419311523, 'learning_rate': 1.0990990990990992e-05, 'epoch': 0.45}\n",
      "{'loss': 1.5678, 'grad_norm': 4.472963809967041, 'learning_rate': 9.189189189189191e-06, 'epoch': 0.54}\n",
      "{'loss': 1.599, 'grad_norm': 7.984443664550781, 'learning_rate': 7.387387387387388e-06, 'epoch': 0.63}\n",
      "{'loss': 1.5918, 'grad_norm': 2.9622232913970947, 'learning_rate': 5.585585585585585e-06, 'epoch': 0.72}\n",
      "{'loss': 1.6039, 'grad_norm': 4.9745259284973145, 'learning_rate': 3.7837837837837844e-06, 'epoch': 0.81}\n",
      "{'loss': 1.5851, 'grad_norm': 3.546496629714966, 'learning_rate': 1.9819819819819822e-06, 'epoch': 0.9}\n",
      "{'loss': 1.5571, 'grad_norm': 3.6510727405548096, 'learning_rate': 1.801801801801802e-07, 'epoch': 0.99}\n"
     ]
    },
    {
     "data": {
      "application/vnd.jupyter.widget-view+json": {
       "model_id": "fd3785e56366403286eb2a82c5ab872a",
       "version_major": 2,
       "version_minor": 0
      },
      "text/plain": [
       "  0%|          | 0/56 [00:00<?, ?it/s]"
      ]
     },
     "metadata": {},
     "output_type": "display_data"
    },
    {
     "name": "stdout",
     "output_type": "stream",
     "text": [
      "{'eval_loss': 1.5691187381744385, 'eval_accuracy': 0.28378379344940186, 'eval_runtime': 0.8348, 'eval_samples_per_second': 531.892, 'eval_steps_per_second': 67.086, 'epoch': 1.0}\n",
      "{'train_runtime': 14.1142, 'train_samples_per_second': 125.83, 'train_steps_per_second': 7.864, 'train_loss': 1.6072894281095214, 'epoch': 1.0}\n"
     ]
    },
    {
     "data": {
      "application/vnd.jupyter.widget-view+json": {
       "model_id": "9be5d6291e564c73aad74799d08c909e",
       "version_major": 2,
       "version_minor": 0
      },
      "text/plain": [
       "  0%|          | 0/56 [00:00<?, ?it/s]"
      ]
     },
     "metadata": {},
     "output_type": "display_data"
    },
    {
     "data": {
      "text/plain": [
       "'Wrong parameters or input data'"
      ]
     },
     "execution_count": 4,
     "metadata": {},
     "output_type": "execute_result"
    }
   ],
   "source": [
    "balanced = \"models/Video_games_star_predictor_balanced\"\n",
    "download_and_tune_bert(balanced, balanced_data)"
   ]
  },
  {
   "cell_type": "code",
   "execution_count": 17,
   "metadata": {},
   "outputs": [],
   "source": [
    "from codes.predict_on_model import predict_stars\n",
    "\n",
    "def accuracy(labels, predictions):\n",
    "    correct = sum(t == p for t, p in zip(predictions, labels))\n",
    "    return (correct / len(predictions)) * 100\n",
    "\n",
    "sample = data.sample(500)\n",
    "balanced_prediction = predict_stars(sample, balanced)\n",
    "prediction = predict_stars(sample, unbalanced)"
   ]
  },
  {
   "cell_type": "code",
   "execution_count": 18,
   "metadata": {},
   "outputs": [
    {
     "name": "stdout",
     "output_type": "stream",
     "text": [
      "Accuracy for unbalanced trained model 75.4\n",
      "Accuracy for balanced trained model 35.8\n"
     ]
    }
   ],
   "source": [
    "print(\"Accuracy for unbalanced trained model\", accuracy(sample.rating, prediction))\n",
    "print(\"Accuracy for balanced trained model\", accuracy(sample.rating, balanced_prediction))"
   ]
  },
  {
   "cell_type": "markdown",
   "metadata": {},
   "source": [
    "Predykcja sentymentu"
   ]
  },
  {
   "cell_type": "code",
   "execution_count": 7,
   "metadata": {},
   "outputs": [
    {
     "name": "stderr",
     "output_type": "stream",
     "text": [
      "Some weights of BertForSequenceClassification were not initialized from the model checkpoint at bert-base-uncased and are newly initialized: ['classifier.bias', 'classifier.weight']\n",
      "You should probably TRAIN this model on a down-stream task to be able to use it for predictions and inference.\n",
      "C:\\Users\\Michał\\AppData\\Local\\Packages\\PythonSoftwareFoundation.Python.3.11_qbz5n2kfra8p0\\LocalCache\\local-packages\\Python311\\site-packages\\transformers\\training_args.py:1575: FutureWarning: `evaluation_strategy` is deprecated and will be removed in version 4.46 of 🤗 Transformers. Use `eval_strategy` instead\n",
      "  warnings.warn(\n",
      "c:\\Users\\Michał\\Inżynierka\\Diploma-Project-Sentiment-analysis-based-on-products-reviews\\codes\\download_model.py:85: FutureWarning: `tokenizer` is deprecated and will be removed in version 5.0.0 for `Trainer.__init__`. Use `processing_class` instead.\n",
      "  trainer = Trainer(\n"
     ]
    },
    {
     "data": {
      "application/vnd.jupyter.widget-view+json": {
       "model_id": "bf7eab79bc1440a0a367005764c79c03",
       "version_major": 2,
       "version_minor": 0
      },
      "text/plain": [
       "  0%|          | 0/500 [00:00<?, ?it/s]"
      ]
     },
     "metadata": {},
     "output_type": "display_data"
    },
    {
     "name": "stdout",
     "output_type": "stream",
     "text": [
      "{'loss': 0.5722, 'grad_norm': 4.702661037445068, 'learning_rate': 1.9600000000000002e-05, 'epoch': 0.02}\n",
      "{'loss': 0.5136, 'grad_norm': 2.866863250732422, 'learning_rate': 1.9200000000000003e-05, 'epoch': 0.04}\n",
      "{'loss': 0.4912, 'grad_norm': 4.1566290855407715, 'learning_rate': 1.88e-05, 'epoch': 0.06}\n",
      "{'loss': 0.3774, 'grad_norm': 3.0584380626678467, 'learning_rate': 1.8400000000000003e-05, 'epoch': 0.08}\n",
      "{'loss': 0.3721, 'grad_norm': 2.9078361988067627, 'learning_rate': 1.8e-05, 'epoch': 0.1}\n",
      "{'loss': 0.3781, 'grad_norm': 5.779260635375977, 'learning_rate': 1.76e-05, 'epoch': 0.12}\n",
      "{'loss': 0.2771, 'grad_norm': 2.678269863128662, 'learning_rate': 1.72e-05, 'epoch': 0.14}\n",
      "{'loss': 0.2868, 'grad_norm': 4.828853130340576, 'learning_rate': 1.6800000000000002e-05, 'epoch': 0.16}\n",
      "{'loss': 0.2183, 'grad_norm': 4.869346618652344, 'learning_rate': 1.64e-05, 'epoch': 0.18}\n",
      "{'loss': 0.3751, 'grad_norm': 3.3468821048736572, 'learning_rate': 1.6000000000000003e-05, 'epoch': 0.2}\n",
      "{'loss': 0.2476, 'grad_norm': 3.4669532775878906, 'learning_rate': 1.5600000000000003e-05, 'epoch': 0.22}\n",
      "{'loss': 0.3118, 'grad_norm': 5.542993545532227, 'learning_rate': 1.5200000000000002e-05, 'epoch': 0.24}\n",
      "{'loss': 0.2919, 'grad_norm': 4.692183017730713, 'learning_rate': 1.48e-05, 'epoch': 0.26}\n",
      "{'loss': 0.303, 'grad_norm': 7.065396785736084, 'learning_rate': 1.4400000000000001e-05, 'epoch': 0.28}\n",
      "{'loss': 0.2451, 'grad_norm': 5.016270637512207, 'learning_rate': 1.4e-05, 'epoch': 0.3}\n",
      "{'loss': 0.2814, 'grad_norm': 6.874539852142334, 'learning_rate': 1.3600000000000002e-05, 'epoch': 0.32}\n",
      "{'loss': 0.222, 'grad_norm': 2.4224562644958496, 'learning_rate': 1.3200000000000002e-05, 'epoch': 0.34}\n",
      "{'loss': 0.2134, 'grad_norm': 5.354944705963135, 'learning_rate': 1.2800000000000001e-05, 'epoch': 0.36}\n",
      "{'loss': 0.2019, 'grad_norm': 1.921470046043396, 'learning_rate': 1.2400000000000002e-05, 'epoch': 0.38}\n",
      "{'loss': 0.2378, 'grad_norm': 4.1277546882629395, 'learning_rate': 1.2e-05, 'epoch': 0.4}\n",
      "{'loss': 0.3321, 'grad_norm': 17.610532760620117, 'learning_rate': 1.16e-05, 'epoch': 0.42}\n",
      "{'loss': 0.2535, 'grad_norm': 0.7836868166923523, 'learning_rate': 1.1200000000000001e-05, 'epoch': 0.44}\n",
      "{'loss': 0.2963, 'grad_norm': 0.6353194713592529, 'learning_rate': 1.0800000000000002e-05, 'epoch': 0.46}\n",
      "{'loss': 0.206, 'grad_norm': 3.736774206161499, 'learning_rate': 1.04e-05, 'epoch': 0.48}\n",
      "{'loss': 0.2525, 'grad_norm': 12.447344779968262, 'learning_rate': 1e-05, 'epoch': 0.5}\n",
      "{'loss': 0.2799, 'grad_norm': 3.787818193435669, 'learning_rate': 9.600000000000001e-06, 'epoch': 0.52}\n",
      "{'loss': 0.2287, 'grad_norm': 2.133129358291626, 'learning_rate': 9.200000000000002e-06, 'epoch': 0.54}\n",
      "{'loss': 0.1976, 'grad_norm': 2.929332971572876, 'learning_rate': 8.8e-06, 'epoch': 0.56}\n",
      "{'loss': 0.286, 'grad_norm': 15.81834888458252, 'learning_rate': 8.400000000000001e-06, 'epoch': 0.58}\n",
      "{'loss': 0.2597, 'grad_norm': 3.0251851081848145, 'learning_rate': 8.000000000000001e-06, 'epoch': 0.6}\n",
      "{'loss': 0.2772, 'grad_norm': 8.092479705810547, 'learning_rate': 7.600000000000001e-06, 'epoch': 0.62}\n",
      "{'loss': 0.2179, 'grad_norm': 0.8144183158874512, 'learning_rate': 7.2000000000000005e-06, 'epoch': 0.64}\n",
      "{'loss': 0.2291, 'grad_norm': 1.1149582862854004, 'learning_rate': 6.800000000000001e-06, 'epoch': 0.66}\n",
      "{'loss': 0.2034, 'grad_norm': 1.6310064792633057, 'learning_rate': 6.4000000000000006e-06, 'epoch': 0.68}\n",
      "{'loss': 0.1634, 'grad_norm': 3.757519006729126, 'learning_rate': 6e-06, 'epoch': 0.7}\n",
      "{'loss': 0.3127, 'grad_norm': 5.8519744873046875, 'learning_rate': 5.600000000000001e-06, 'epoch': 0.72}\n",
      "{'loss': 0.2552, 'grad_norm': 7.14745569229126, 'learning_rate': 5.2e-06, 'epoch': 0.74}\n",
      "{'loss': 0.311, 'grad_norm': 7.085098743438721, 'learning_rate': 4.800000000000001e-06, 'epoch': 0.76}\n",
      "{'loss': 0.2235, 'grad_norm': 5.750409126281738, 'learning_rate': 4.4e-06, 'epoch': 0.78}\n",
      "{'loss': 0.1816, 'grad_norm': 8.19503116607666, 'learning_rate': 4.000000000000001e-06, 'epoch': 0.8}\n",
      "{'loss': 0.3278, 'grad_norm': 9.729074478149414, 'learning_rate': 3.6000000000000003e-06, 'epoch': 0.82}\n",
      "{'loss': 0.2304, 'grad_norm': 3.797586679458618, 'learning_rate': 3.2000000000000003e-06, 'epoch': 0.84}\n",
      "{'loss': 0.2704, 'grad_norm': 6.540139675140381, 'learning_rate': 2.8000000000000003e-06, 'epoch': 0.86}\n",
      "{'loss': 0.2663, 'grad_norm': 5.43143892288208, 'learning_rate': 2.4000000000000003e-06, 'epoch': 0.88}\n",
      "{'loss': 0.2503, 'grad_norm': 8.369153022766113, 'learning_rate': 2.0000000000000003e-06, 'epoch': 0.9}\n",
      "{'loss': 0.2271, 'grad_norm': 6.295734882354736, 'learning_rate': 1.6000000000000001e-06, 'epoch': 0.92}\n",
      "{'loss': 0.2276, 'grad_norm': 8.30525016784668, 'learning_rate': 1.2000000000000002e-06, 'epoch': 0.94}\n",
      "{'loss': 0.2426, 'grad_norm': 6.462167263031006, 'learning_rate': 8.000000000000001e-07, 'epoch': 0.96}\n",
      "{'loss': 0.2016, 'grad_norm': 2.5908396244049072, 'learning_rate': 4.0000000000000003e-07, 'epoch': 0.98}\n",
      "{'loss': 0.2104, 'grad_norm': 8.605253219604492, 'learning_rate': 0.0, 'epoch': 1.0}\n"
     ]
    },
    {
     "data": {
      "application/vnd.jupyter.widget-view+json": {
       "model_id": "e860ffffc10045a081e7b00375d64c9f",
       "version_major": 2,
       "version_minor": 0
      },
      "text/plain": [
       "  0%|          | 0/250 [00:00<?, ?it/s]"
      ]
     },
     "metadata": {},
     "output_type": "display_data"
    },
    {
     "name": "stdout",
     "output_type": "stream",
     "text": [
      "{'eval_loss': 0.22859832644462585, 'eval_accuracy': 0.9105000495910645, 'eval_runtime': 3.7898, 'eval_samples_per_second': 527.733, 'eval_steps_per_second': 65.967, 'epoch': 1.0}\n",
      "{'train_runtime': 53.3508, 'train_samples_per_second': 149.895, 'train_steps_per_second': 9.372, 'train_loss': 0.27679563784599304, 'epoch': 1.0}\n"
     ]
    },
    {
     "data": {
      "application/vnd.jupyter.widget-view+json": {
       "model_id": "6bacfd3693974ba2972e37db28a58a07",
       "version_major": 2,
       "version_minor": 0
      },
      "text/plain": [
       "  0%|          | 0/250 [00:00<?, ?it/s]"
      ]
     },
     "metadata": {},
     "output_type": "display_data"
    },
    {
     "data": {
      "text/plain": [
       "'Wrong parameters or input data'"
      ]
     },
     "execution_count": 7,
     "metadata": {},
     "output_type": "execute_result"
    }
   ],
   "source": [
    "sentiment_bert_model = \"models/Video_games_sentiment_bert\"\n",
    "download_and_tune_bert(sentiment_bert_model, data,\"star_based_sentiment\")"
   ]
  },
  {
   "cell_type": "code",
   "execution_count": 8,
   "metadata": {},
   "outputs": [
    {
     "name": "stderr",
     "output_type": "stream",
     "text": [
      "[nltk_data] Downloading package vader_lexicon to\n",
      "[nltk_data]     C:\\Users\\Michał\\AppData\\Roaming\\nltk_data...\n"
     ]
    }
   ],
   "source": [
    "from codes.predict_on_model import predict_on_roberta, predict_sentiment_bert, predict_on_vader\n",
    "import pandas as pd\n",
    "\n",
    "roberta_results = predict_on_roberta(sample)\n",
    "bert_resutls = predict_sentiment_bert(sample,sentiment_bert_model)\n",
    "vader_results = predict_on_vader(sample)"
   ]
  },
  {
   "cell_type": "code",
   "execution_count": 13,
   "metadata": {},
   "outputs": [],
   "source": [
    "\n",
    "results = pd.DataFrame([{\"Roberta Labels\": roberta_results,\n",
    "                        \"Bert Labels\": bert_resutls,\n",
    "                        \"Vader Labels\": vader_results.sentiment,\n",
    "                        \"True Labels\": sample.rating}])"
   ]
  },
  {
   "cell_type": "code",
   "execution_count": 14,
   "metadata": {},
   "outputs": [
    {
     "data": {
      "image/png": "[encoded data removed]",
      "text/plain": [
       "<Figure size 800x600 with 2 Axes>"
      ]
     },
     "metadata": {},
     "output_type": "display_data"
    }
   ],
   "source": [
    "from codes.heatmap_file import heatmap\n",
    "heatmap(results,\"Roberta Labels\",\"True Labels\")\n"
   ]
  },
  {
   "cell_type": "code",
   "execution_count": 15,
   "metadata": {},
   "outputs": [
    {
     "data": {
      "image/png": "[encoded data removed]",
      "text/plain": [
       "<Figure size 800x600 with 2 Axes>"
      ]
     },
     "metadata": {},
     "output_type": "display_data"
    }
   ],
   "source": [
    "heatmap(results,\"Bert Labels\",\"True Labels\")"
   ]
  },
  {
   "cell_type": "code",
   "execution_count": 16,
   "metadata": {},
   "outputs": [
    {
     "data": {
      "image/png": "[encoded data removed]",
      "text/plain": [
       "<Figure size 800x600 with 2 Axes>"
      ]
     },
     "metadata": {},
     "output_type": "display_data"
    }
   ],
   "source": [
    "heatmap(results,\"Vader Labels\",\"True Labels\")"
   ]
  },
  {
   "cell_type": "code",
   "execution_count": 24,
   "metadata": {},
   "outputs": [
    {
     "data": {
      "text/plain": [
       "np.float64(91.60000000000001)"
      ]
     },
     "execution_count": 24,
     "metadata": {},
     "output_type": "execute_result"
    }
   ],
   "source": [
    "accuracy(sample.star_based_sentiment, bert_resutls)"
   ]
  },
  {
   "cell_type": "code",
   "execution_count": 26,
   "metadata": {},
   "outputs": [
    {
     "data": {
      "text/plain": [
       "88.4"
      ]
     },
     "execution_count": 26,
     "metadata": {},
     "output_type": "execute_result"
    }
   ],
   "source": [
    "accuracy(sample.star_based_sentiment, roberta_results)"
   ]
  },
  {
   "cell_type": "code",
   "execution_count": 28,
   "metadata": {},
   "outputs": [
    {
     "data": {
      "text/plain": [
       "83.39999999999999"
      ]
     },
     "execution_count": 28,
     "metadata": {},
     "output_type": "execute_result"
    }
   ],
   "source": [
    "accuracy(sample.star_based_sentiment, vader_results.sentiment)"
   ]
  },
  {
   "cell_type": "code",
   "execution_count": 1,
   "metadata": {},
   "outputs": [
    {
     "name": "stdout",
     "output_type": "stream",
     "text": [
      "Model cardiffnlp/twitter-roberta-base-sentiment downloaded and saved.\n",
      "Model bert-base-uncased downloaded and saved.\n"
     ]
    }
   ],
   "source": [
    "from codes.download_model import download_and_save_hugging_face_models\n",
    "download_and_save_hugging_face_models()"
   ]
  },
  {
   "cell_type": "code",
   "execution_count": 4,
   "metadata": {},
   "outputs": [
    {
     "name": "stdout",
     "output_type": "stream",
     "text": [
      "Epoch 1/3, Loss: 1.526379942893982\n",
      "Epoch 2/3, Loss: 1.5199611186981201\n",
      "Epoch 3/3, Loss: 1.5403428077697754\n",
      "Predictions: tensor([[0.1331, 0.1513, 0.1585, 0.0965, 0.4605],\n",
      "        [0.1351, 0.1492, 0.1549, 0.0955, 0.4653]])\n"
     ]
    }
   ],
   "source": []
  },
  {
   "cell_type": "code",
   "execution_count": 5,
   "metadata": {},
   "outputs": [
    {
     "name": "stdout",
     "output_type": "stream",
     "text": [
      "Epoch 1/3, Loss: 0.09477029740810394\n",
      "Epoch 2/3, Loss: 0.08474448323249817\n",
      "Epoch 3/3, Loss: 0.08718577027320862\n",
      "Predictions: tensor([0.4844, 0.4945])\n"
     ]
    }
   ],
   "source": [
    "import torch\n",
    "import torch.nn as nn\n",
    "import torch.optim as optim\n",
    "from transformers import BertModel, BertTokenizer\n",
    "\n",
    "class BERTRegressionOrClassification(nn.Module):\n",
    "    def __init__(self, task_type=\"regression\"):\n",
    "        super(BERTRegressionOrClassification, self).__init__()\n",
    "        self.bert = BertModel.from_pretrained(\"bert-base-uncased\")\n",
    "        self.task_type = task_type\n",
    "        self.fc = nn.Linear(self.bert.config.hidden_size, 1 if task_type == \"regression\" else 5)\n",
    "        self.sigmoid = nn.Sigmoid()  # For regression\n",
    "        self.softmax = nn.Softmax(dim=-1)  # For classification\n",
    "\n",
    "    def forward(self, input_ids, attention_mask):\n",
    "        outputs = self.bert(input_ids=input_ids, attention_mask=attention_mask)\n",
    "        cls_output = outputs.pooler_output\n",
    "        logits = self.fc(cls_output)\n",
    "\n",
    "        if self.task_type == \"regression\":\n",
    "            return self.sigmoid(logits).squeeze(-1)  # Scale to [0, 1]\n",
    "        else:  # Classification\n",
    "            return self.softmax(logits)\n",
    "\n",
    "# Przygotowanie danych (przykład)\n",
    "tokenizer = BertTokenizer.from_pretrained(\"bert-base-uncased\")\n",
    "texts = [\"Example sentence 1.\", \"Example sentence 2.\"]\n",
    "labels_regression = [0.2, 0.8]  # Dla ordinal regression: wartości z przedziału [0, 1]\n",
    "labels_classification = [1, 4]  # Dla klasyfikacji: klasy całkowite (np. 0-4)\n",
    "\n",
    "# Tokenizacja\n",
    "inputs = tokenizer(texts, padding=True, truncation=True, return_tensors=\"pt\")\n",
    "input_ids, attention_mask = inputs[\"input_ids\"], inputs[\"attention_mask\"]\n",
    "\n",
    "# Przygotowanie modelu i funkcji straty\n",
    "task_type = \"regression\"  # Zmień na \"classification\", aby zmienić tryb\n",
    "model = BERTRegressionOrClassification(task_type=task_type)\n",
    "\n",
    "if task_type == \"regression\":\n",
    "    criterion = nn.MSELoss()\n",
    "    labels = torch.tensor(labels_regression, dtype=torch.float32)\n",
    "else:\n",
    "    criterion = nn.CrossEntropyLoss()\n",
    "    labels = torch.tensor(labels_classification, dtype=torch.long)\n",
    "\n",
    "optimizer = optim.AdamW(model.parameters(), lr=1e-5)\n",
    "\n",
    "# Trenowanie modelu\n",
    "model.train()\n",
    "epochs = 3\n",
    "for epoch in range(epochs):\n",
    "    optimizer.zero_grad()\n",
    "\n",
    "    outputs = model(input_ids=input_ids, attention_mask=attention_mask)\n",
    "    \n",
    "    if task_type == \"regression\":\n",
    "        loss = criterion(outputs, labels)\n",
    "    else:  # Classification\n",
    "        loss = criterion(outputs, labels)\n",
    "\n",
    "    loss.backward()\n",
    "    optimizer.step()\n",
    "\n",
    "    print(f\"Epoch {epoch + 1}/{epochs}, Loss: {loss.item()}\")\n",
    "\n",
    "# Testowanie modelu\n",
    "model.eval()\n",
    "with torch.no_grad():\n",
    "    predictions = model(input_ids=input_ids, attention_mask=attention_mask)\n",
    "    print(\"Predictions:\", predictions)\n"
   ]
  },
  {
   "cell_type": "code",
   "execution_count": null,
   "metadata": {},
   "outputs": [
    {
     "name": "stdout",
     "output_type": "stream",
     "text": [
      "Urządzenie: cuda\n",
      "Epoch 1/300, Loss: 0.0424\n",
      "Epoch 2/300, Loss: 0.0710\n",
      "Epoch 3/300, Loss: 0.0435\n",
      "Epoch 4/300, Loss: 0.0793\n",
      "Epoch 5/300, Loss: 0.0785\n",
      "Epoch 6/300, Loss: 0.0445\n",
      "Epoch 7/300, Loss: 0.0806\n",
      "Epoch 8/300, Loss: 0.0620\n",
      "Epoch 9/300, Loss: 0.0706\n",
      "Epoch 10/300, Loss: 0.0630\n",
      "Epoch 11/300, Loss: 0.0657\n",
      "Epoch 12/300, Loss: 0.0413\n",
      "Epoch 13/300, Loss: 0.0736\n",
      "Epoch 14/300, Loss: 0.0590\n",
      "Epoch 15/300, Loss: 0.0357\n",
      "Epoch 16/300, Loss: 0.0663\n",
      "Epoch 17/300, Loss: 0.0603\n",
      "Epoch 18/300, Loss: 0.0399\n",
      "Epoch 19/300, Loss: 0.0587\n",
      "Epoch 20/300, Loss: 0.0598\n",
      "Epoch 21/300, Loss: 0.0309\n",
      "Epoch 22/300, Loss: 0.0501\n",
      "Epoch 23/300, Loss: 0.0430\n",
      "Epoch 24/300, Loss: 0.0439\n",
      "Epoch 25/300, Loss: 0.0285\n",
      "Epoch 26/300, Loss: 0.0179\n",
      "Epoch 27/300, Loss: 0.0098\n",
      "Epoch 28/300, Loss: 0.0311\n",
      "Epoch 29/300, Loss: 0.0074\n",
      "Epoch 30/300, Loss: 0.0067\n",
      "Epoch 31/300, Loss: 0.0353\n",
      "Epoch 32/300, Loss: 0.0163\n",
      "Epoch 33/300, Loss: 0.0107\n",
      "Epoch 34/300, Loss: 0.0076\n",
      "Epoch 35/300, Loss: 0.0036\n",
      "Epoch 36/300, Loss: 0.0066\n",
      "Epoch 37/300, Loss: 0.0008\n",
      "Epoch 38/300, Loss: 0.0032\n",
      "Epoch 39/300, Loss: 0.0008\n",
      "Epoch 40/300, Loss: 0.0012\n",
      "Epoch 41/300, Loss: 0.0006\n",
      "Epoch 42/300, Loss: 0.0005\n",
      "Epoch 43/300, Loss: 0.0006\n",
      "Epoch 44/300, Loss: 0.0003\n",
      "Epoch 45/300, Loss: 0.0008\n",
      "Epoch 46/300, Loss: 0.0004\n",
      "Epoch 47/300, Loss: 0.0005\n",
      "Epoch 48/300, Loss: 0.0004\n",
      "Epoch 49/300, Loss: 0.0019\n",
      "Epoch 50/300, Loss: 0.0039\n",
      "Epoch 51/300, Loss: 0.0006\n",
      "Epoch 52/300, Loss: 0.0006\n",
      "Epoch 53/300, Loss: 0.0001\n",
      "Epoch 54/300, Loss: 0.0002\n",
      "Epoch 55/300, Loss: 0.0005\n",
      "Epoch 56/300, Loss: 0.0003\n",
      "Epoch 57/300, Loss: 0.0003\n",
      "Epoch 58/300, Loss: 0.0005\n",
      "Epoch 59/300, Loss: 0.0001\n",
      "Epoch 60/300, Loss: 0.0016\n",
      "Epoch 61/300, Loss: 0.0003\n",
      "Epoch 62/300, Loss: 0.0004\n",
      "Epoch 63/300, Loss: 0.0003\n",
      "Epoch 64/300, Loss: 0.0004\n",
      "Epoch 65/300, Loss: 0.0015\n",
      "Epoch 66/300, Loss: 0.0003\n",
      "Epoch 67/300, Loss: 0.0002\n",
      "Epoch 68/300, Loss: 0.0011\n",
      "Epoch 69/300, Loss: 0.0003\n",
      "Epoch 70/300, Loss: 0.0000\n",
      "Epoch 71/300, Loss: 0.0001\n",
      "Epoch 72/300, Loss: 0.0000\n",
      "Epoch 73/300, Loss: 0.0001\n",
      "Epoch 74/300, Loss: 0.0002\n",
      "Epoch 75/300, Loss: 0.0002\n",
      "Epoch 76/300, Loss: 0.0002\n",
      "Epoch 77/300, Loss: 0.0003\n",
      "Epoch 78/300, Loss: 0.0002\n",
      "Epoch 79/300, Loss: 0.0001\n",
      "Epoch 80/300, Loss: 0.0001\n",
      "Epoch 81/300, Loss: 0.0001\n",
      "Epoch 82/300, Loss: 0.0001\n",
      "Epoch 83/300, Loss: 0.0000\n",
      "Epoch 84/300, Loss: 0.0000\n",
      "Epoch 85/300, Loss: 0.0009\n",
      "Epoch 86/300, Loss: 0.0001\n",
      "Epoch 87/300, Loss: 0.0001\n",
      "Epoch 88/300, Loss: 0.0000\n",
      "Epoch 89/300, Loss: 0.0003\n",
      "Epoch 90/300, Loss: 0.0002\n",
      "Epoch 91/300, Loss: 0.0004\n",
      "Epoch 92/300, Loss: 0.0001\n",
      "Epoch 93/300, Loss: 0.0001\n",
      "Epoch 94/300, Loss: 0.0000\n",
      "Epoch 95/300, Loss: 0.0003\n",
      "Epoch 96/300, Loss: 0.0003\n",
      "Epoch 97/300, Loss: 0.0002\n",
      "Epoch 98/300, Loss: 0.0002\n",
      "Epoch 99/300, Loss: 0.0000\n",
      "Epoch 100/300, Loss: 0.0001\n",
      "Epoch 101/300, Loss: 0.0002\n",
      "Epoch 102/300, Loss: 0.0017\n",
      "Epoch 103/300, Loss: 0.0001\n",
      "Epoch 104/300, Loss: 0.0001\n",
      "Epoch 105/300, Loss: 0.0003\n",
      "Epoch 106/300, Loss: 0.0003\n",
      "Epoch 107/300, Loss: 0.0000\n",
      "Epoch 108/300, Loss: 0.0003\n",
      "Epoch 109/300, Loss: 0.0002\n",
      "Epoch 110/300, Loss: 0.0000\n",
      "Epoch 111/300, Loss: 0.0001\n",
      "Epoch 112/300, Loss: 0.0001\n",
      "Epoch 113/300, Loss: 0.0001\n",
      "Epoch 114/300, Loss: 0.0002\n",
      "Epoch 115/300, Loss: 0.0004\n",
      "Epoch 116/300, Loss: 0.0003\n",
      "Epoch 117/300, Loss: 0.0003\n",
      "Epoch 118/300, Loss: 0.0001\n",
      "Epoch 119/300, Loss: 0.0001\n",
      "Epoch 120/300, Loss: 0.0000\n",
      "Epoch 121/300, Loss: 0.0002\n",
      "Epoch 122/300, Loss: 0.0014\n",
      "Epoch 123/300, Loss: 0.0001\n",
      "Epoch 124/300, Loss: 0.0003\n",
      "Epoch 125/300, Loss: 0.0002\n",
      "Epoch 126/300, Loss: 0.0004\n",
      "Epoch 127/300, Loss: 0.0000\n",
      "Epoch 128/300, Loss: 0.0000\n",
      "Epoch 129/300, Loss: 0.0003\n",
      "Epoch 130/300, Loss: 0.0002\n",
      "Epoch 131/300, Loss: 0.0001\n",
      "Epoch 132/300, Loss: 0.0000\n",
      "Epoch 133/300, Loss: 0.0002\n",
      "Epoch 134/300, Loss: 0.0002\n",
      "Epoch 135/300, Loss: 0.0000\n",
      "Epoch 136/300, Loss: 0.0001\n",
      "Epoch 137/300, Loss: 0.0001\n",
      "Epoch 138/300, Loss: 0.0002\n",
      "Epoch 139/300, Loss: 0.0005\n",
      "Epoch 140/300, Loss: 0.0002\n",
      "Epoch 141/300, Loss: 0.0000\n",
      "Epoch 142/300, Loss: 0.0000\n",
      "Epoch 143/300, Loss: 0.0001\n",
      "Epoch 144/300, Loss: 0.0003\n",
      "Epoch 145/300, Loss: 0.0000\n",
      "Epoch 146/300, Loss: 0.0000\n",
      "Epoch 147/300, Loss: 0.0000\n",
      "Epoch 148/300, Loss: 0.0002\n",
      "Epoch 149/300, Loss: 0.0000\n",
      "Epoch 150/300, Loss: 0.0000\n",
      "Epoch 151/300, Loss: 0.0001\n",
      "Epoch 152/300, Loss: 0.0000\n",
      "Epoch 153/300, Loss: 0.0003\n",
      "Epoch 154/300, Loss: 0.0001\n",
      "Epoch 155/300, Loss: 0.0001\n",
      "Epoch 156/300, Loss: 0.0002\n",
      "Epoch 157/300, Loss: 0.0001\n",
      "Epoch 158/300, Loss: 0.0001\n",
      "Epoch 159/300, Loss: 0.0002\n",
      "Epoch 160/300, Loss: 0.0000\n",
      "Epoch 161/300, Loss: 0.0001\n",
      "Epoch 162/300, Loss: 0.0000\n",
      "Epoch 163/300, Loss: 0.0000\n",
      "Epoch 164/300, Loss: 0.0000\n",
      "Epoch 165/300, Loss: 0.0001\n",
      "Epoch 166/300, Loss: 0.0001\n",
      "Epoch 167/300, Loss: 0.0001\n",
      "Epoch 168/300, Loss: 0.0000\n",
      "Epoch 169/300, Loss: 0.0001\n",
      "Epoch 170/300, Loss: 0.0001\n",
      "Epoch 171/300, Loss: 0.0000\n",
      "Epoch 172/300, Loss: 0.0001\n",
      "Epoch 173/300, Loss: 0.0001\n",
      "Epoch 174/300, Loss: 0.0000\n",
      "Epoch 175/300, Loss: 0.0000\n",
      "Epoch 176/300, Loss: 0.0000\n",
      "Epoch 177/300, Loss: 0.0000\n",
      "Epoch 178/300, Loss: 0.0001\n",
      "Epoch 179/300, Loss: 0.0001\n",
      "Epoch 180/300, Loss: 0.0002\n",
      "Epoch 181/300, Loss: 0.0001\n",
      "Epoch 182/300, Loss: 0.0000\n",
      "Epoch 183/300, Loss: 0.0002\n",
      "Epoch 184/300, Loss: 0.0000\n",
      "Epoch 185/300, Loss: 0.0000\n",
      "Epoch 186/300, Loss: 0.0000\n",
      "Epoch 187/300, Loss: 0.0001\n",
      "Epoch 188/300, Loss: 0.0002\n",
      "Epoch 189/300, Loss: 0.0000\n",
      "Epoch 190/300, Loss: 0.0000\n",
      "Epoch 191/300, Loss: 0.0000\n",
      "Epoch 192/300, Loss: 0.0001\n",
      "Epoch 193/300, Loss: 0.0000\n",
      "Epoch 194/300, Loss: 0.0001\n",
      "Epoch 195/300, Loss: 0.0001\n",
      "Epoch 196/300, Loss: 0.0000\n",
      "Epoch 197/300, Loss: 0.0000\n",
      "Epoch 198/300, Loss: 0.0001\n",
      "Epoch 199/300, Loss: 0.0000\n",
      "Epoch 200/300, Loss: 0.0001\n",
      "Epoch 201/300, Loss: 0.0000\n",
      "Epoch 202/300, Loss: 0.0001\n",
      "Epoch 203/300, Loss: 0.0002\n",
      "Epoch 204/300, Loss: 0.0000\n",
      "Epoch 205/300, Loss: 0.0000\n",
      "Epoch 206/300, Loss: 0.0001\n",
      "Epoch 207/300, Loss: 0.0000\n",
      "Epoch 208/300, Loss: 0.0002\n",
      "Epoch 209/300, Loss: 0.0001\n",
      "Epoch 210/300, Loss: 0.0001\n",
      "Epoch 211/300, Loss: 0.0003\n",
      "Epoch 212/300, Loss: 0.0000\n",
      "Epoch 213/300, Loss: 0.0001\n",
      "Epoch 214/300, Loss: 0.0000\n",
      "Epoch 215/300, Loss: 0.0002\n",
      "Epoch 216/300, Loss: 0.0000\n",
      "Epoch 217/300, Loss: 0.0000\n",
      "Epoch 218/300, Loss: 0.0001\n",
      "Epoch 219/300, Loss: 0.0000\n",
      "Epoch 220/300, Loss: 0.0001\n",
      "Epoch 221/300, Loss: 0.0000\n",
      "Epoch 222/300, Loss: 0.0000\n",
      "Epoch 223/300, Loss: 0.0001\n",
      "Epoch 224/300, Loss: 0.0002\n",
      "Epoch 225/300, Loss: 0.0001\n",
      "Epoch 226/300, Loss: 0.0000\n",
      "Epoch 227/300, Loss: 0.0001\n",
      "Epoch 228/300, Loss: 0.0000\n",
      "Epoch 229/300, Loss: 0.0002\n",
      "Epoch 230/300, Loss: 0.0002\n",
      "Epoch 231/300, Loss: 0.0001\n",
      "Epoch 232/300, Loss: 0.0000\n",
      "Epoch 233/300, Loss: 0.0002\n",
      "Epoch 234/300, Loss: 0.0000\n",
      "Epoch 235/300, Loss: 0.0000\n",
      "Epoch 236/300, Loss: 0.0003\n",
      "Epoch 237/300, Loss: 0.0000\n",
      "Epoch 238/300, Loss: 0.0001\n",
      "Epoch 239/300, Loss: 0.0000\n",
      "Epoch 240/300, Loss: 0.0000\n",
      "Epoch 241/300, Loss: 0.0000\n",
      "Epoch 242/300, Loss: 0.0002\n",
      "Epoch 243/300, Loss: 0.0001\n",
      "Epoch 244/300, Loss: 0.0001\n",
      "Epoch 245/300, Loss: 0.0001\n",
      "Epoch 246/300, Loss: 0.0001\n",
      "Epoch 247/300, Loss: 0.0001\n",
      "Epoch 248/300, Loss: 0.0000\n",
      "Epoch 249/300, Loss: 0.0001\n",
      "Epoch 250/300, Loss: 0.0000\n",
      "Epoch 251/300, Loss: 0.0000\n",
      "Epoch 252/300, Loss: 0.0001\n",
      "Epoch 253/300, Loss: 0.0000\n",
      "Epoch 254/300, Loss: 0.0001\n",
      "Epoch 255/300, Loss: 0.0001\n",
      "Epoch 256/300, Loss: 0.0000\n",
      "Epoch 257/300, Loss: 0.0001\n",
      "Epoch 258/300, Loss: 0.0001\n",
      "Epoch 259/300, Loss: 0.0000\n",
      "Epoch 260/300, Loss: 0.0001\n",
      "Epoch 261/300, Loss: 0.0004\n",
      "Epoch 262/300, Loss: 0.0001\n",
      "Epoch 263/300, Loss: 0.0001\n",
      "Epoch 264/300, Loss: 0.0000\n",
      "Epoch 265/300, Loss: 0.0000\n",
      "Epoch 266/300, Loss: 0.0000\n",
      "Epoch 267/300, Loss: 0.0001\n",
      "Epoch 268/300, Loss: 0.0000\n",
      "Epoch 269/300, Loss: 0.0000\n",
      "Epoch 270/300, Loss: 0.0000\n",
      "Epoch 271/300, Loss: 0.0001\n",
      "Epoch 272/300, Loss: 0.0001\n",
      "Epoch 273/300, Loss: 0.0001\n",
      "Epoch 274/300, Loss: 0.0000\n",
      "Epoch 275/300, Loss: 0.0001\n",
      "Epoch 276/300, Loss: 0.0001\n",
      "Epoch 277/300, Loss: 0.0000\n",
      "Epoch 278/300, Loss: 0.0001\n",
      "Epoch 279/300, Loss: 0.0001\n",
      "Epoch 280/300, Loss: 0.0000\n",
      "Epoch 281/300, Loss: 0.0001\n",
      "Epoch 282/300, Loss: 0.0000\n",
      "Epoch 283/300, Loss: 0.0002\n",
      "Epoch 284/300, Loss: 0.0000\n",
      "Epoch 285/300, Loss: 0.0000\n",
      "Epoch 286/300, Loss: 0.0002\n",
      "Epoch 287/300, Loss: 0.0001\n",
      "Epoch 288/300, Loss: 0.0001\n",
      "Epoch 289/300, Loss: 0.0000\n",
      "Epoch 290/300, Loss: 0.0000\n",
      "Epoch 291/300, Loss: 0.0001\n",
      "Epoch 292/300, Loss: 0.0002\n",
      "Epoch 293/300, Loss: 0.0001\n",
      "Epoch 294/300, Loss: 0.0002\n",
      "Epoch 295/300, Loss: 0.0000\n",
      "Epoch 296/300, Loss: 0.0000\n",
      "Epoch 297/300, Loss: 0.0000\n",
      "Epoch 298/300, Loss: 0.0000\n",
      "Epoch 299/300, Loss: 0.0000\n",
      "Epoch 300/300, Loss: 0.0002\n",
      "Predictions: tensor([0.1907, 0.7994, 0.4981])\n",
      "True Labels: tensor([0.2000, 0.8000, 0.5000])\n"
     ]
    }
   ],
   "source": [
    "import torch\n",
    "import torch.nn as nn\n",
    "import torch.optim as optim\n",
    "from transformers import BertModel, BertTokenizer\n",
    "\n",
    "class LocalBERTModel(nn.Module):\n",
    "    def __init__(self, task_type=\"regression\"):\n",
    "        super(LocalBERTModel, self).__init__()\n",
    "        self.bert = BertModel.from_pretrained(\"bert-base-uncased\")\n",
    "        self.task_type = task_type\n",
    "        self.fc = nn.Linear(self.bert.config.hidden_size, 1 if task_type == \"regression\" else 5)\n",
    "        self.sigmoid = nn.Sigmoid()  # Dla regresji\n",
    "        self.softmax = nn.Softmax(dim=-1)  # Dla klasyfikacji\n",
    "\n",
    "    def forward(self, input_ids, attention_mask):\n",
    "        outputs = self.bert(input_ids=input_ids, attention_mask=attention_mask)\n",
    "        cls_output = outputs.pooler_output\n",
    "        logits = self.fc(cls_output)\n",
    "\n",
    "        if self.task_type == \"regression\":\n",
    "            return self.sigmoid(logits).squeeze(-1)  # Skalowanie do [0, 1]\n",
    "        else:\n",
    "            return self.softmax(logits)\n",
    "\n",
    "def train_model(model, dataloader, criterion, optimizer, device, task_type=\"regression\"):\n",
    "    model.train()\n",
    "    total_loss = 0\n",
    "\n",
    "    for batch in dataloader:\n",
    "        input_ids, attention_mask, labels = batch\n",
    "        input_ids, attention_mask, labels = input_ids.to(device), attention_mask.to(device), labels.to(device)\n",
    "\n",
    "        optimizer.zero_grad()\n",
    "        outputs = model(input_ids=input_ids, attention_mask=attention_mask)\n",
    "\n",
    "        if task_type == \"regression\":\n",
    "            loss = criterion(outputs, labels.float())\n",
    "        else:\n",
    "            loss = criterion(outputs, labels)\n",
    "\n",
    "        loss.backward()\n",
    "        optimizer.step()\n",
    "        total_loss += loss.item()\n",
    "\n",
    "    return total_loss / len(dataloader)\n",
    "\n",
    "def evaluate_model(model, dataloader, device, task_type=\"regression\"):\n",
    "    model.eval()\n",
    "    predictions = []\n",
    "    true_labels = []\n",
    "\n",
    "    with torch.no_grad():\n",
    "        for batch in dataloader:\n",
    "            input_ids, attention_mask, labels = batch\n",
    "            input_ids, attention_mask, labels = input_ids.to(device), attention_mask.to(device), labels.to(device)\n",
    "\n",
    "            outputs = model(input_ids=input_ids, attention_mask=attention_mask)\n",
    "            predictions.append(outputs)\n",
    "            true_labels.append(labels)\n",
    "\n",
    "    predictions = torch.cat(predictions, dim=0).cpu()\n",
    "    true_labels = torch.cat(true_labels, dim=0).cpu()\n",
    "    return predictions, true_labels\n",
    "\n",
    "# Przygotowanie danych i GPU\n",
    "def prepare_dataloader(tokenizer, texts, labels, task_type=\"regression\", batch_size=16):\n",
    "    inputs = tokenizer(texts, padding=True, truncation=True, return_tensors=\"pt\")\n",
    "    input_ids, attention_mask = inputs[\"input_ids\"], inputs[\"attention_mask\"]\n",
    "\n",
    "    if task_type == \"regression\":\n",
    "        labels = torch.tensor(labels, dtype=torch.float32)\n",
    "    else:\n",
    "        labels = torch.tensor(labels, dtype=torch.long)\n",
    "\n",
    "    dataset = torch.utils.data.TensorDataset(input_ids, attention_mask, labels)\n",
    "    dataloader = torch.utils.data.DataLoader(dataset, batch_size=batch_size, shuffle=True)\n",
    "    return dataloader\n",
    "\n",
    "if __name__ == \"__main__\":\n",
    "    # Sprawdzenie dostępności GPU\n",
    "    device = torch.device(\"cuda\" if torch.cuda.is_available() else \"cpu\")\n",
    "    print(f\"Urządzenie: {device}\")\n",
    "\n",
    "    # Dane przykładowe\n",
    "    tokenizer = BertTokenizer.from_pretrained(\"bert-base-uncased\")\n",
    "    texts = [\"Example sentence 1.\", \"Example sentence 2.\", \"Another example.\"]\n",
    "    labels_regression = [0.2, 0.8, 0.5]\n",
    "    labels_classification = [0, 1, 3]\n",
    "\n",
    "    task_type = \"regression\"  # Zmień na \"classification\", aby użyć innego trybu\n",
    "    model = LocalBERTModel(task_type=task_type).to(device)\n",
    "    criterion = nn.MSELoss() if task_type == \"regression\" else nn.CrossEntropyLoss()\n",
    "    labels = labels_regression if task_type == \"regression\" else labels_classification\n",
    "\n",
    "    dataloader = prepare_dataloader(tokenizer, texts, labels, task_type=task_type, batch_size=2)\n",
    "\n",
    "    optimizer = optim.AdamW(model.parameters(), lr=1e-5)\n",
    "\n",
    "    # Trenowanie\n",
    "    epochs = 300\n",
    "    for epoch in range(epochs):\n",
    "        avg_loss = train_model(model, dataloader, criterion, optimizer, device, task_type=task_type)\n",
    "        print(f\"Epoch {epoch + 1}/{epochs}, Loss: {avg_loss:.4f}\")\n",
    "\n",
    "    # Ewaluacja\n",
    "    predictions, true_labels = evaluate_model(model, dataloader, device, task_type=task_type)\n",
    "    print(f\"Predictions: {predictions}\")\n",
    "    print(f\"True Labels: {true_labels}\")\n"
   ]
  },
  {
   "cell_type": "code",
   "execution_count": 6,
   "metadata": {},
   "outputs": [],
   "source": [
    "import torch\n",
    "import torch.nn as nn\n",
    "from torch.utils.data import DataLoader, Dataset, random_split\n",
    "from transformers import BertTokenizer, BertModel\n",
    "from torch.optim import AdamW\n",
    "from datetime import datetime\n",
    "from codes.parameters import bert_model, device\n",
    "\n",
    "# Dataset\n",
    "class TextDataset(Dataset):\n",
    "    def __init__(self, texts, labels, tokenizer, max_len):\n",
    "        self.texts = texts\n",
    "        self.labels = labels\n",
    "        self.tokenizer = tokenizer\n",
    "        self.max_len = max_len\n",
    "\n",
    "    def __len__(self):\n",
    "        return len(self.texts)\n",
    "\n",
    "    def __getitem__(self, idx):\n",
    "        text = self.texts[idx]\n",
    "        label = self.labels[idx]\n",
    "        inputs = self.tokenizer(\n",
    "            text,\n",
    "            max_length=self.max_len,\n",
    "            padding='max_length',\n",
    "            truncation=True,\n",
    "            return_tensors=\"pt\"\n",
    "        )\n",
    "        return {\n",
    "            'input_ids': inputs['input_ids'].squeeze(0),\n",
    "            'attention_mask': inputs['attention_mask'].squeeze(0),\n",
    "            'label': torch.tensor(label, dtype=torch.float if isinstance(label, float) else torch.long)\n",
    "        }\n",
    "def evaluate_model(model, dataloader, task, criterion, device):\n",
    "    model.eval()\n",
    "    total_loss = 0\n",
    "    correct = 0\n",
    "    total = 0\n",
    "    all_predictions = []\n",
    "    all_labels = []\n",
    "\n",
    "    with torch.no_grad():\n",
    "        for batch in dataloader:\n",
    "            input_ids = batch['input_ids'].to(device)\n",
    "            attention_mask = batch['attention_mask'].to(device)\n",
    "            labels = batch['label'].to(device)\n",
    "            if task == \"regression\":\n",
    "                ratings = torch.round(labels * 4 + 1)\n",
    "\n",
    "            with torch.amp.autocast('cuda'):\n",
    "                outputs = model(input_ids=input_ids, attention_mask=attention_mask)\n",
    "            \n",
    "            if task == \"classification\":\n",
    "                loss = criterion(outputs, labels)\n",
    "                predictions = torch.argmax(outputs, dim=1)\n",
    "                correct += (predictions == labels).sum().item()\n",
    "                total += labels.size(0)\n",
    "            elif task == \"regression\":\n",
    "                outputs = outputs.squeeze(-1)\n",
    "                loss = criterion(outputs, labels)\n",
    "                predictions = torch.round(outputs * 4 + 1)  # Apply scaling and rounding\n",
    "                correct += (predictions == ratings).sum().item()\n",
    "                total += labels.size(0)\n",
    "\n",
    "            total_loss += loss.item()\n",
    "\n",
    "    accuracy = correct / total\n",
    "    return total_loss / len(dataloader), accuracy\n",
    "    \n",
    "\n",
    "# Model\n",
    "class BertForTask(nn.Module):\n",
    "    def __init__(self, task, num_classes=None):\n",
    "        super(BertForTask, self).__init__()\n",
    "        self.task = task\n",
    "        self.bert = BertModel.from_pretrained(bert_model.local_path)\n",
    "        self.dropout = nn.Dropout(0)\n",
    "        if task == \"classification\":\n",
    "            self.classifier = nn.Linear(self.bert.config.hidden_size, num_classes)\n",
    "        elif task == \"regression\":\n",
    "            self.regressor = nn.Linear(self.bert.config.hidden_size, 1)\n",
    "\n",
    "    def forward(self, input_ids, attention_mask):\n",
    "        outputs = self.bert(input_ids=input_ids, attention_mask=attention_mask)\n",
    "        pooled_output = self.dropout(outputs.pooler_output)\n",
    "        if self.task == \"classification\":\n",
    "            return self.classifier(pooled_output)\n",
    "        elif self.task == \"regression\":\n",
    "            return self.regressor(pooled_output)\n",
    "\n",
    "# Training function\n",
    "def train_model(dataframe, task = \"classification\", num_classes=None, max_epochs=3, batch_size=16, lr=2e-5, max_len=128, val_split=0.2):\n",
    "    tokenizer = BertTokenizer.from_pretrained(bert_model.local_path)\n",
    "    dataset = TextDataset(\n",
    "        texts=dataframe['text'].tolist(),\n",
    "        labels=dataframe['label'].tolist(),\n",
    "        tokenizer=tokenizer,\n",
    "        max_len=max_len\n",
    "    )\n",
    "\n",
    "    val_size = int(len(dataset) * val_split)\n",
    "    train_size = len(dataset) - val_size\n",
    "    train_dataset, val_dataset = random_split(dataset, [train_size, val_size])\n",
    "\n",
    "    train_loader = DataLoader(train_dataset, batch_size=batch_size, shuffle=True)\n",
    "    val_loader = DataLoader(val_dataset, batch_size=batch_size, shuffle=False)\n",
    "\n",
    "    # Initialize model\n",
    "    model = BertForTask(task, num_classes=num_classes).to(device)\n",
    "\n",
    "    # Define optimizer and loss function\n",
    "    optimizer = AdamW(model.parameters(), lr=lr)\n",
    "    if task == \"classification\":\n",
    "        criterion = nn.CrossEntropyLoss()\n",
    "    elif task == \"regression\":\n",
    "        criterion = nn.MSELoss()\n",
    "\n",
    "    # Training loop\n",
    "    for epoch in range(max_epochs):\n",
    "        model.train()\n",
    "        total_loss = 0\n",
    "        for batch in train_loader:\n",
    "            input_ids = batch['input_ids'].to(device)\n",
    "            attention_mask = batch['attention_mask'].to(device)\n",
    "            labels = batch['label'].to(device)\n",
    "\n",
    "            optimizer.zero_grad()\n",
    "            outputs = model(input_ids=input_ids, attention_mask=attention_mask)\n",
    "            \n",
    "            if task == \"classification\":\n",
    "                loss = criterion(outputs, labels)\n",
    "            elif task == \"regression\":\n",
    "                outputs = outputs.squeeze(-1)\n",
    "                loss = criterion(outputs, labels)\n",
    "\n",
    "            loss.backward()\n",
    "            optimizer.step()\n",
    "            total_loss += loss.item()\n",
    "\n",
    "        train_loss = total_loss / len(train_loader)\n",
    "\n",
    "        # Evaluate on validation set\n",
    "        val_loss, metric = evaluate_model(model, val_loader, task, criterion, device)\n",
    "\n",
    "        print(f\"Epoch {epoch + 1}/{max_epochs}, Train Loss: {train_loss:.4f}, Val Loss: {val_loss:.4f}, Val Accuracy: {metric:.4f}\")\n",
    "        \n",
    "    name = \"models/testowymodel\"\n",
    "    model.bert.save_pretrained(name)\n",
    "    tokenizer.save_pretrained(name)\n",
    "        \n",
    "\n",
    "\n",
    "\n"
   ]
  },
  {
   "cell_type": "code",
   "execution_count": 1,
   "metadata": {},
   "outputs": [
    {
     "name": "stdout",
     "output_type": "stream",
     "text": [
      "WARNING:tensorflow:From C:\\Users\\Michał\\AppData\\Local\\Packages\\PythonSoftwareFoundation.Python.3.11_qbz5n2kfra8p0\\LocalCache\\local-packages\\Python311\\site-packages\\tf_keras\\src\\losses.py:2976: The name tf.losses.sparse_softmax_cross_entropy is deprecated. Please use tf.compat.v1.losses.sparse_softmax_cross_entropy instead.\n",
      "\n"
     ]
    },
    {
     "data": {
      "text/html": [
       "<div>\n",
       "<style scoped>\n",
       "    .dataframe tbody tr th:only-of-type {\n",
       "        vertical-align: middle;\n",
       "    }\n",
       "\n",
       "    .dataframe tbody tr th {\n",
       "        vertical-align: top;\n",
       "    }\n",
       "\n",
       "    .dataframe thead th {\n",
       "        text-align: right;\n",
       "    }\n",
       "</style>\n",
       "<table border=\"1\" class=\"dataframe\">\n",
       "  <thead>\n",
       "    <tr style=\"text-align: right;\">\n",
       "      <th></th>\n",
       "      <th>rating</th>\n",
       "      <th>text</th>\n",
       "      <th>parent_asin</th>\n",
       "      <th>timestamp</th>\n",
       "      <th>label</th>\n",
       "    </tr>\n",
       "  </thead>\n",
       "  <tbody>\n",
       "    <tr>\n",
       "      <th>0</th>\n",
       "      <td>4.0</td>\n",
       "      <td>I’m playing on ps5 and it’s interesting.  It’s...</td>\n",
       "      <td>B07DK1H3H5</td>\n",
       "      <td>2020-12-17 06:33:24.795</td>\n",
       "      <td>0.75</td>\n",
       "    </tr>\n",
       "    <tr>\n",
       "      <th>1</th>\n",
       "      <td>5.0</td>\n",
       "      <td>Nostalgic fun.  A bit slow.  I hope they don’t...</td>\n",
       "      <td>B07SRWRH5D</td>\n",
       "      <td>2020-04-16 15:31:54.941</td>\n",
       "      <td>1.00</td>\n",
       "    </tr>\n",
       "    <tr>\n",
       "      <th>2</th>\n",
       "      <td>5.0</td>\n",
       "      <td>This was an order for my kids &amp; they have real...</td>\n",
       "      <td>B07MFMFW34</td>\n",
       "      <td>2017-03-30 12:37:11.000</td>\n",
       "      <td>1.00</td>\n",
       "    </tr>\n",
       "    <tr>\n",
       "      <th>3</th>\n",
       "      <td>5.0</td>\n",
       "      <td>These work great, They use batteries which is ...</td>\n",
       "      <td>B0BCHWZX95</td>\n",
       "      <td>2019-12-29 16:40:34.017</td>\n",
       "      <td>1.00</td>\n",
       "    </tr>\n",
       "    <tr>\n",
       "      <th>4</th>\n",
       "      <td>5.0</td>\n",
       "      <td>I would recommend to anyone looking to add jus...</td>\n",
       "      <td>B00HUWA45W</td>\n",
       "      <td>2015-03-29 01:18:52.000</td>\n",
       "      <td>1.00</td>\n",
       "    </tr>\n",
       "    <tr>\n",
       "      <th>...</th>\n",
       "      <td>...</td>\n",
       "      <td>...</td>\n",
       "      <td>...</td>\n",
       "      <td>...</td>\n",
       "      <td>...</td>\n",
       "    </tr>\n",
       "    <tr>\n",
       "      <th>9995</th>\n",
       "      <td>3.0</td>\n",
       "      <td>Works well, and is very fun to play! I have no...</td>\n",
       "      <td>B00VG3PUFA</td>\n",
       "      <td>2018-09-13 13:00:27.630</td>\n",
       "      <td>0.50</td>\n",
       "    </tr>\n",
       "    <tr>\n",
       "      <th>9996</th>\n",
       "      <td>5.0</td>\n",
       "      <td>Ordered to replace the cord on PlayStation 4. ...</td>\n",
       "      <td>B0BDWVBWC9</td>\n",
       "      <td>2022-02-25 20:27:23.135</td>\n",
       "      <td>1.00</td>\n",
       "    </tr>\n",
       "    <tr>\n",
       "      <th>9997</th>\n",
       "      <td>5.0</td>\n",
       "      <td>Not even a Star Wars fan…still really good game.</td>\n",
       "      <td>B07QQTJMRF</td>\n",
       "      <td>2021-08-22 02:13:50.441</td>\n",
       "      <td>1.00</td>\n",
       "    </tr>\n",
       "    <tr>\n",
       "      <th>9998</th>\n",
       "      <td>2.0</td>\n",
       "      <td>Booooo!</td>\n",
       "      <td>B07NVTR5FD</td>\n",
       "      <td>2021-08-22 02:13:03.833</td>\n",
       "      <td>0.25</td>\n",
       "    </tr>\n",
       "    <tr>\n",
       "      <th>9999</th>\n",
       "      <td>5.0</td>\n",
       "      <td>Sure still the same 60$ for a twelve year old ...</td>\n",
       "      <td>B078HMHPR7</td>\n",
       "      <td>2021-08-22 02:12:40.123</td>\n",
       "      <td>1.00</td>\n",
       "    </tr>\n",
       "  </tbody>\n",
       "</table>\n",
       "<p>9997 rows × 5 columns</p>\n",
       "</div>"
      ],
      "text/plain": [
       "      rating                                               text parent_asin  \\\n",
       "0        4.0  I’m playing on ps5 and it’s interesting.  It’s...  B07DK1H3H5   \n",
       "1        5.0  Nostalgic fun.  A bit slow.  I hope they don’t...  B07SRWRH5D   \n",
       "2        5.0  This was an order for my kids & they have real...  B07MFMFW34   \n",
       "3        5.0  These work great, They use batteries which is ...  B0BCHWZX95   \n",
       "4        5.0  I would recommend to anyone looking to add jus...  B00HUWA45W   \n",
       "...      ...                                                ...         ...   \n",
       "9995     3.0  Works well, and is very fun to play! I have no...  B00VG3PUFA   \n",
       "9996     5.0  Ordered to replace the cord on PlayStation 4. ...  B0BDWVBWC9   \n",
       "9997     5.0   Not even a Star Wars fan…still really good game.  B07QQTJMRF   \n",
       "9998     2.0                                            Booooo!  B07NVTR5FD   \n",
       "9999     5.0  Sure still the same 60$ for a twelve year old ...  B078HMHPR7   \n",
       "\n",
       "                    timestamp  label  \n",
       "0     2020-12-17 06:33:24.795   0.75  \n",
       "1     2020-04-16 15:31:54.941   1.00  \n",
       "2     2017-03-30 12:37:11.000   1.00  \n",
       "3     2019-12-29 16:40:34.017   1.00  \n",
       "4     2015-03-29 01:18:52.000   1.00  \n",
       "...                       ...    ...  \n",
       "9995  2018-09-13 13:00:27.630   0.50  \n",
       "9996  2022-02-25 20:27:23.135   1.00  \n",
       "9997  2021-08-22 02:13:50.441   1.00  \n",
       "9998  2021-08-22 02:13:03.833   0.25  \n",
       "9999  2021-08-22 02:12:40.123   1.00  \n",
       "\n",
       "[9997 rows x 5 columns]"
      ]
     },
     "execution_count": 1,
     "metadata": {},
     "output_type": "execute_result"
    }
   ],
   "source": [
    "from codes.parameters import categories\n",
    "from codes.data_loader import load_reviews\n",
    "from codes.download_model import train_model\n",
    "category = categories[32]\n",
    "data = load_reviews(category).head(10000)\n",
    "data = data[data[\"text\"].str.split().str.len() >= 1]\n",
    "data[\"label\"] = [(x-1)/4 for x in data[\"rating\"]]\n",
    "data"
   ]
  },
  {
   "cell_type": "code",
   "execution_count": 2,
   "metadata": {},
   "outputs": [
    {
     "name": "stdout",
     "output_type": "stream",
     "text": [
      "Epoch 1/3, Train Loss: 0.0765, Val Loss: 0.0343, Val Accuracy: 0.6213\n",
      "Epoch 2/3, Train Loss: 0.0287, Val Loss: 0.0313, Val Accuracy: 0.6743\n",
      "Epoch 3/3, Train Loss: 0.0177, Val Loss: 0.0350, Val Accuracy: 0.6763\n",
      "No improvement for 1 epochs. Patience: 3\n"
     ]
    }
   ],
   "source": [
    "train_model(data,task= \"regression\",num_classes=5)"
   ]
  },
  {
   "cell_type": "code",
   "execution_count": 4,
   "metadata": {},
   "outputs": [
    {
     "name": "stdout",
     "output_type": "stream",
     "text": [
      "Epoch 1/3, Train Loss: 0.8194, Val Loss: 0.7116, Val Accuracy: 0.7214\n",
      "Epoch 2/3, Train Loss: 0.6213, Val Loss: 0.7081, Val Accuracy: 0.7239\n",
      "Epoch 3/3, Train Loss: 0.4849, Val Loss: 0.7668, Val Accuracy: 0.7294\n",
      "No improvement for 1 epochs. Patience: 3\n"
     ]
    }
   ],
   "source": [
    "data[\"label\"] = [int(x)-1 for x in data[\"rating\"]]\n",
    "train_model(data, localname = \"classifikator\")\n"
   ]
  },
  {
   "cell_type": "code",
   "execution_count": 3,
   "metadata": {},
   "outputs": [
    {
     "name": "stderr",
     "output_type": "stream",
     "text": [
      "c:\\Users\\Michał\\Inżynierka\\Diploma-Project-Sentiment-analysis-based-on-products-reviews\\codes\\download_model.py:70: FutureWarning: You are using `torch.load` with `weights_only=False` (the current default value), which uses the default pickle module implicitly. It is possible to construct malicious pickle data which will execute arbitrary code during unpickling (See https://github.com/pytorch/pytorch/blob/main/SECURITY.md#untrusted-models for more details). In a future release, the default value for `weights_only` will be flipped to `True`. This limits the functions that could be executed during unpickling. Arbitrary objects will no longer be allowed to be loaded via this mode unless they are explicitly allowlisted by the user via `torch.serialization.add_safe_globals`. We recommend you start setting `weights_only=True` for any use case where you don't have full control of the loaded file. Please open an issue on GitHub for any issues related to this experimental feature.\n",
      "  model.load_state_dict(torch.load(os.path.join(path, \"model_state.pth\")))\n",
      "C:\\Users\\Michał\\AppData\\Local\\Temp\\ipykernel_7392\\751659482.py:3: SettingWithCopyWarning: \n",
      "A value is trying to be set on a copy of a slice from a DataFrame.\n",
      "Try using .loc[row_indexer,col_indexer] = value instead\n",
      "\n",
      "See the caveats in the documentation: https://pandas.pydata.org/pandas-docs/stable/user_guide/indexing.html#returning-a-view-versus-a-copy\n",
      "  sample[\"prediction\"] = predict_stars(sample,\"models\\classification\\classifikator\")\n"
     ]
    },
    {
     "data": {
      "text/html": [
       "<div>\n",
       "<style scoped>\n",
       "    .dataframe tbody tr th:only-of-type {\n",
       "        vertical-align: middle;\n",
       "    }\n",
       "\n",
       "    .dataframe tbody tr th {\n",
       "        vertical-align: top;\n",
       "    }\n",
       "\n",
       "    .dataframe thead th {\n",
       "        text-align: right;\n",
       "    }\n",
       "</style>\n",
       "<table border=\"1\" class=\"dataframe\">\n",
       "  <thead>\n",
       "    <tr style=\"text-align: right;\">\n",
       "      <th></th>\n",
       "      <th>rating</th>\n",
       "      <th>text</th>\n",
       "      <th>parent_asin</th>\n",
       "      <th>timestamp</th>\n",
       "      <th>label</th>\n",
       "      <th>prediction</th>\n",
       "    </tr>\n",
       "  </thead>\n",
       "  <tbody>\n",
       "    <tr>\n",
       "      <th>0</th>\n",
       "      <td>4.0</td>\n",
       "      <td>I’m playing on ps5 and it’s interesting.  It’s...</td>\n",
       "      <td>B07DK1H3H5</td>\n",
       "      <td>2020-12-17 06:33:24.795</td>\n",
       "      <td>0.75</td>\n",
       "      <td>3</td>\n",
       "    </tr>\n",
       "    <tr>\n",
       "      <th>1</th>\n",
       "      <td>5.0</td>\n",
       "      <td>Nostalgic fun.  A bit slow.  I hope they don’t...</td>\n",
       "      <td>B07SRWRH5D</td>\n",
       "      <td>2020-04-16 15:31:54.941</td>\n",
       "      <td>1.00</td>\n",
       "      <td>5</td>\n",
       "    </tr>\n",
       "    <tr>\n",
       "      <th>2</th>\n",
       "      <td>5.0</td>\n",
       "      <td>This was an order for my kids &amp; they have real...</td>\n",
       "      <td>B07MFMFW34</td>\n",
       "      <td>2017-03-30 12:37:11.000</td>\n",
       "      <td>1.00</td>\n",
       "      <td>5</td>\n",
       "    </tr>\n",
       "    <tr>\n",
       "      <th>3</th>\n",
       "      <td>5.0</td>\n",
       "      <td>These work great, They use batteries which is ...</td>\n",
       "      <td>B0BCHWZX95</td>\n",
       "      <td>2019-12-29 16:40:34.017</td>\n",
       "      <td>1.00</td>\n",
       "      <td>5</td>\n",
       "    </tr>\n",
       "    <tr>\n",
       "      <th>4</th>\n",
       "      <td>5.0</td>\n",
       "      <td>I would recommend to anyone looking to add jus...</td>\n",
       "      <td>B00HUWA45W</td>\n",
       "      <td>2015-03-29 01:18:52.000</td>\n",
       "      <td>1.00</td>\n",
       "      <td>5</td>\n",
       "    </tr>\n",
       "    <tr>\n",
       "      <th>...</th>\n",
       "      <td>...</td>\n",
       "      <td>...</td>\n",
       "      <td>...</td>\n",
       "      <td>...</td>\n",
       "      <td>...</td>\n",
       "      <td>...</td>\n",
       "    </tr>\n",
       "    <tr>\n",
       "      <th>995</th>\n",
       "      <td>5.0</td>\n",
       "      <td>excellent</td>\n",
       "      <td>B00YQ74LVM</td>\n",
       "      <td>2015-04-25 23:34:32.000</td>\n",
       "      <td>1.00</td>\n",
       "      <td>5</td>\n",
       "    </tr>\n",
       "    <tr>\n",
       "      <th>996</th>\n",
       "      <td>5.0</td>\n",
       "      <td>excellent</td>\n",
       "      <td>B00DC7G2W8</td>\n",
       "      <td>2015-03-09 19:21:48.000</td>\n",
       "      <td>1.00</td>\n",
       "      <td>5</td>\n",
       "    </tr>\n",
       "    <tr>\n",
       "      <th>997</th>\n",
       "      <td>5.0</td>\n",
       "      <td>excellent</td>\n",
       "      <td>B07DPK5NPD</td>\n",
       "      <td>2015-03-09 19:20:16.000</td>\n",
       "      <td>1.00</td>\n",
       "      <td>5</td>\n",
       "    </tr>\n",
       "    <tr>\n",
       "      <th>998</th>\n",
       "      <td>5.0</td>\n",
       "      <td>excellent</td>\n",
       "      <td>B00KTORA0K</td>\n",
       "      <td>2015-03-09 19:19:51.000</td>\n",
       "      <td>1.00</td>\n",
       "      <td>5</td>\n",
       "    </tr>\n",
       "    <tr>\n",
       "      <th>999</th>\n",
       "      <td>5.0</td>\n",
       "      <td>excellent</td>\n",
       "      <td>B07DPK5NPD</td>\n",
       "      <td>2015-03-09 19:19:41.000</td>\n",
       "      <td>1.00</td>\n",
       "      <td>5</td>\n",
       "    </tr>\n",
       "  </tbody>\n",
       "</table>\n",
       "<p>1000 rows × 6 columns</p>\n",
       "</div>"
      ],
      "text/plain": [
       "     rating                                               text parent_asin  \\\n",
       "0       4.0  I’m playing on ps5 and it’s interesting.  It’s...  B07DK1H3H5   \n",
       "1       5.0  Nostalgic fun.  A bit slow.  I hope they don’t...  B07SRWRH5D   \n",
       "2       5.0  This was an order for my kids & they have real...  B07MFMFW34   \n",
       "3       5.0  These work great, They use batteries which is ...  B0BCHWZX95   \n",
       "4       5.0  I would recommend to anyone looking to add jus...  B00HUWA45W   \n",
       "..      ...                                                ...         ...   \n",
       "995     5.0                                          excellent  B00YQ74LVM   \n",
       "996     5.0                                          excellent  B00DC7G2W8   \n",
       "997     5.0                                          excellent  B07DPK5NPD   \n",
       "998     5.0                                          excellent  B00KTORA0K   \n",
       "999     5.0                                          excellent  B07DPK5NPD   \n",
       "\n",
       "                   timestamp  label  prediction  \n",
       "0    2020-12-17 06:33:24.795   0.75           3  \n",
       "1    2020-04-16 15:31:54.941   1.00           5  \n",
       "2    2017-03-30 12:37:11.000   1.00           5  \n",
       "3    2019-12-29 16:40:34.017   1.00           5  \n",
       "4    2015-03-29 01:18:52.000   1.00           5  \n",
       "..                       ...    ...         ...  \n",
       "995  2015-04-25 23:34:32.000   1.00           5  \n",
       "996  2015-03-09 19:21:48.000   1.00           5  \n",
       "997  2015-03-09 19:20:16.000   1.00           5  \n",
       "998  2015-03-09 19:19:51.000   1.00           5  \n",
       "999  2015-03-09 19:19:41.000   1.00           5  \n",
       "\n",
       "[1000 rows x 6 columns]"
      ]
     },
     "execution_count": 3,
     "metadata": {},
     "output_type": "execute_result"
    }
   ],
   "source": [
    "from codes.predict_on_model import predict_on_tuned_model, predict_stars, predict_sentiment_bert\n",
    "sample = data.head(1000)\n",
    "sample[\"prediction\"] = predict_stars(sample,\"models\\classification\\classifikator\")\n",
    "sample"
   ]
  },
  {
   "cell_type": "code",
   "execution_count": 4,
   "metadata": {},
   "outputs": [
    {
     "data": {
      "image/png": "[encoded data removed]",
      "text/plain": [
       "<Figure size 800x600 with 2 Axes>"
      ]
     },
     "metadata": {},
     "output_type": "display_data"
    }
   ],
   "source": [
    "from codes.heatmap_file import heatmap\n",
    "heatmap(sample, \"rating\",\"prediction\")"
   ]
  },
  {
   "cell_type": "code",
   "execution_count": 5,
   "metadata": {},
   "outputs": [
    {
     "data": {
      "text/html": [
       "<div>\n",
       "<style scoped>\n",
       "    .dataframe tbody tr th:only-of-type {\n",
       "        vertical-align: middle;\n",
       "    }\n",
       "\n",
       "    .dataframe tbody tr th {\n",
       "        vertical-align: top;\n",
       "    }\n",
       "\n",
       "    .dataframe thead th {\n",
       "        text-align: right;\n",
       "    }\n",
       "</style>\n",
       "<table border=\"1\" class=\"dataframe\">\n",
       "  <thead>\n",
       "    <tr style=\"text-align: right;\">\n",
       "      <th></th>\n",
       "      <th>rating</th>\n",
       "      <th>text</th>\n",
       "      <th>parent_asin</th>\n",
       "      <th>timestamp</th>\n",
       "      <th>label</th>\n",
       "      <th>star_based_sentiment</th>\n",
       "    </tr>\n",
       "  </thead>\n",
       "  <tbody>\n",
       "    <tr>\n",
       "      <th>0</th>\n",
       "      <td>4.0</td>\n",
       "      <td>I’m playing on ps5 and it’s interesting.  It’s...</td>\n",
       "      <td>B07DK1H3H5</td>\n",
       "      <td>2020-12-17 06:33:24.795</td>\n",
       "      <td>1</td>\n",
       "      <td>1</td>\n",
       "    </tr>\n",
       "    <tr>\n",
       "      <th>1</th>\n",
       "      <td>5.0</td>\n",
       "      <td>Nostalgic fun.  A bit slow.  I hope they don’t...</td>\n",
       "      <td>B07SRWRH5D</td>\n",
       "      <td>2020-04-16 15:31:54.941</td>\n",
       "      <td>1</td>\n",
       "      <td>1</td>\n",
       "    </tr>\n",
       "    <tr>\n",
       "      <th>2</th>\n",
       "      <td>5.0</td>\n",
       "      <td>This was an order for my kids &amp; they have real...</td>\n",
       "      <td>B07MFMFW34</td>\n",
       "      <td>2017-03-30 12:37:11.000</td>\n",
       "      <td>1</td>\n",
       "      <td>1</td>\n",
       "    </tr>\n",
       "    <tr>\n",
       "      <th>3</th>\n",
       "      <td>5.0</td>\n",
       "      <td>These work great, They use batteries which is ...</td>\n",
       "      <td>B0BCHWZX95</td>\n",
       "      <td>2019-12-29 16:40:34.017</td>\n",
       "      <td>1</td>\n",
       "      <td>1</td>\n",
       "    </tr>\n",
       "    <tr>\n",
       "      <th>4</th>\n",
       "      <td>5.0</td>\n",
       "      <td>I would recommend to anyone looking to add jus...</td>\n",
       "      <td>B00HUWA45W</td>\n",
       "      <td>2015-03-29 01:18:52.000</td>\n",
       "      <td>1</td>\n",
       "      <td>1</td>\n",
       "    </tr>\n",
       "    <tr>\n",
       "      <th>...</th>\n",
       "      <td>...</td>\n",
       "      <td>...</td>\n",
       "      <td>...</td>\n",
       "      <td>...</td>\n",
       "      <td>...</td>\n",
       "      <td>...</td>\n",
       "    </tr>\n",
       "    <tr>\n",
       "      <th>9995</th>\n",
       "      <td>3.0</td>\n",
       "      <td>Works well, and is very fun to play! I have no...</td>\n",
       "      <td>B00VG3PUFA</td>\n",
       "      <td>2018-09-13 13:00:27.630</td>\n",
       "      <td>0</td>\n",
       "      <td>0</td>\n",
       "    </tr>\n",
       "    <tr>\n",
       "      <th>9996</th>\n",
       "      <td>5.0</td>\n",
       "      <td>Ordered to replace the cord on PlayStation 4. ...</td>\n",
       "      <td>B0BDWVBWC9</td>\n",
       "      <td>2022-02-25 20:27:23.135</td>\n",
       "      <td>1</td>\n",
       "      <td>1</td>\n",
       "    </tr>\n",
       "    <tr>\n",
       "      <th>9997</th>\n",
       "      <td>5.0</td>\n",
       "      <td>Not even a Star Wars fan…still really good game.</td>\n",
       "      <td>B07QQTJMRF</td>\n",
       "      <td>2021-08-22 02:13:50.441</td>\n",
       "      <td>1</td>\n",
       "      <td>1</td>\n",
       "    </tr>\n",
       "    <tr>\n",
       "      <th>9998</th>\n",
       "      <td>2.0</td>\n",
       "      <td>Booooo!</td>\n",
       "      <td>B07NVTR5FD</td>\n",
       "      <td>2021-08-22 02:13:03.833</td>\n",
       "      <td>0</td>\n",
       "      <td>0</td>\n",
       "    </tr>\n",
       "    <tr>\n",
       "      <th>9999</th>\n",
       "      <td>5.0</td>\n",
       "      <td>Sure still the same 60$ for a twelve year old ...</td>\n",
       "      <td>B078HMHPR7</td>\n",
       "      <td>2021-08-22 02:12:40.123</td>\n",
       "      <td>1</td>\n",
       "      <td>1</td>\n",
       "    </tr>\n",
       "  </tbody>\n",
       "</table>\n",
       "<p>9997 rows × 6 columns</p>\n",
       "</div>"
      ],
      "text/plain": [
       "      rating                                               text parent_asin  \\\n",
       "0        4.0  I’m playing on ps5 and it’s interesting.  It’s...  B07DK1H3H5   \n",
       "1        5.0  Nostalgic fun.  A bit slow.  I hope they don’t...  B07SRWRH5D   \n",
       "2        5.0  This was an order for my kids & they have real...  B07MFMFW34   \n",
       "3        5.0  These work great, They use batteries which is ...  B0BCHWZX95   \n",
       "4        5.0  I would recommend to anyone looking to add jus...  B00HUWA45W   \n",
       "...      ...                                                ...         ...   \n",
       "9995     3.0  Works well, and is very fun to play! I have no...  B00VG3PUFA   \n",
       "9996     5.0  Ordered to replace the cord on PlayStation 4. ...  B0BDWVBWC9   \n",
       "9997     5.0   Not even a Star Wars fan…still really good game.  B07QQTJMRF   \n",
       "9998     2.0                                            Booooo!  B07NVTR5FD   \n",
       "9999     5.0  Sure still the same 60$ for a twelve year old ...  B078HMHPR7   \n",
       "\n",
       "                    timestamp  label  star_based_sentiment  \n",
       "0     2020-12-17 06:33:24.795      1                     1  \n",
       "1     2020-04-16 15:31:54.941      1                     1  \n",
       "2     2017-03-30 12:37:11.000      1                     1  \n",
       "3     2019-12-29 16:40:34.017      1                     1  \n",
       "4     2015-03-29 01:18:52.000      1                     1  \n",
       "...                       ...    ...                   ...  \n",
       "9995  2018-09-13 13:00:27.630      0                     0  \n",
       "9996  2022-02-25 20:27:23.135      1                     1  \n",
       "9997  2021-08-22 02:13:50.441      1                     1  \n",
       "9998  2021-08-22 02:13:03.833      0                     0  \n",
       "9999  2021-08-22 02:12:40.123      1                     1  \n",
       "\n",
       "[9997 rows x 6 columns]"
      ]
     },
     "execution_count": 5,
     "metadata": {},
     "output_type": "execute_result"
    }
   ],
   "source": [
    "from codes.preprocessing import map_ratings_into_sentiment\n",
    "data = map_ratings_into_sentiment(data)\n",
    "data[\"label\"] = data[\"star_based_sentiment\"]\n",
    "data"
   ]
  },
  {
   "cell_type": "code",
   "execution_count": 6,
   "metadata": {},
   "outputs": [
    {
     "name": "stdout",
     "output_type": "stream",
     "text": [
      "Epoch 1/3, Train Loss: 0.2767, Val Loss: 0.2203, Val Accuracy: 0.9090\n",
      "Epoch 2/3, Train Loss: 0.1474, Val Loss: 0.2638, Val Accuracy: 0.9065\n",
      "No improvement for 1 epochs. Patience: 3\n",
      "Epoch 3/3, Train Loss: 0.0744, Val Loss: 0.2812, Val Accuracy: 0.9025\n",
      "No improvement for 2 epochs. Patience: 3\n"
     ]
    }
   ],
   "source": [
    "train_model(data, num_classes=2)"
   ]
  },
  {
   "cell_type": "code",
   "execution_count": 14,
   "metadata": {},
   "outputs": [
    {
     "name": "stderr",
     "output_type": "stream",
     "text": [
      "c:\\Users\\Michał\\Inżynierka\\Diploma-Project-Sentiment-analysis-based-on-products-reviews\\codes\\download_model.py:70: FutureWarning: You are using `torch.load` with `weights_only=False` (the current default value), which uses the default pickle module implicitly. It is possible to construct malicious pickle data which will execute arbitrary code during unpickling (See https://github.com/pytorch/pytorch/blob/main/SECURITY.md#untrusted-models for more details). In a future release, the default value for `weights_only` will be flipped to `True`. This limits the functions that could be executed during unpickling. Arbitrary objects will no longer be allowed to be loaded via this mode unless they are explicitly allowlisted by the user via `torch.serialization.add_safe_globals`. We recommend you start setting `weights_only=True` for any use case where you don't have full control of the loaded file. Please open an issue on GitHub for any issues related to this experimental feature.\n",
      "  model.load_state_dict(torch.load(os.path.join(path, \"model_state.pth\")))\n"
     ]
    }
   ],
   "source": [
    "from codes.predict_on_model import predict_sentiment_bert\n",
    "data[\"predictions\"] =predict_sentiment_bert(data, r\"models\\sentiment_prediction\\bert_trained_at_2024-12-31_13-54-37\")"
   ]
  },
  {
   "cell_type": "code",
   "execution_count": 13,
   "metadata": {},
   "outputs": [
    {
     "data": {
      "image/png": "[encoded data removed]",
      "text/plain": [
       "<Figure size 800x600 with 2 Axes>"
      ]
     },
     "metadata": {},
     "output_type": "display_data"
    }
   ],
   "source": [
    "heatmap(data, \"label\",\"predictions\")"
   ]
  }
 ],
 "metadata": {
  "kernelspec": {
   "display_name": "Python 3",
   "language": "python",
   "name": "python3"
  },
  "language_info": {
   "codemirror_mode": {
    "name": "ipython",
    "version": 3
   },
   "file_extension": ".py",
   "mimetype": "text/x-python",
   "name": "python",
   "nbconvert_exporter": "python",
   "pygments_lexer": "ipython3",
   "version": "3.11.9"
  }
 },
 "nbformat": 4,
 "nbformat_minor": 2
}

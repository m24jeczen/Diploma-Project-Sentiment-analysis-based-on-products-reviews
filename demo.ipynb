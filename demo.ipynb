{
 "cells": [
  {
   "cell_type": "code",
   "execution_count": 2,
   "metadata": {},
   "outputs": [
    {
     "name": "stdout",
     "output_type": "stream",
     "text": [
      "Category Wrong category does not exist in available categories.\n"
     ]
    }
   ],
   "source": [
    "from codes.downloader import create_local_data, download_source_data\n",
    "from codes.parameters import categories\n",
    "category = categories[4] \n",
    "#download_source_data(category)\n",
    "create_local_data(\"Wrong category\")"
   ]
  },
  {
   "cell_type": "code",
   "execution_count": 3,
   "metadata": {},
   "outputs": [
    {
     "ename": "KeyboardInterrupt",
     "evalue": "",
     "output_type": "error",
     "traceback": [
      "\u001b[1;31m---------------------------------------------------------------------------\u001b[0m",
      "\u001b[1;31mKeyboardInterrupt\u001b[0m                         Traceback (most recent call last)",
      "Cell \u001b[1;32mIn[3], line 2\u001b[0m\n\u001b[0;32m      1\u001b[0m \u001b[38;5;28;01mfrom\u001b[39;00m \u001b[38;5;21;01mcodes\u001b[39;00m\u001b[38;5;21;01m.\u001b[39;00m\u001b[38;5;21;01mdownloader\u001b[39;00m \u001b[38;5;28;01mimport\u001b[39;00m create_local_data\n\u001b[1;32m----> 2\u001b[0m \u001b[43mcreate_local_data\u001b[49m\u001b[43m(\u001b[49m\u001b[43mcategory\u001b[49m\u001b[43m)\u001b[49m\n",
      "File \u001b[1;32mc:\\Users\\Michał\\Inżynierka\\Diploma-Project-Sentiment-analysis-based-on-products-reviews\\codes\\downloader.py:115\u001b[0m, in \u001b[0;36mcreate_local_data\u001b[1;34m(category)\u001b[0m\n\u001b[0;32m    112\u001b[0m     \u001b[38;5;28mprint\u001b[39m(\u001b[38;5;124mf\u001b[39m\u001b[38;5;124m\"\u001b[39m\u001b[38;5;124mData \u001b[39m\u001b[38;5;132;01m{\u001b[39;00mcategory\u001b[38;5;132;01m}\u001b[39;00m\u001b[38;5;124m  is not available locally. Downloading neccesary files.\u001b[39m\u001b[38;5;124m\"\u001b[39m)\n\u001b[0;32m    113\u001b[0m     download_source_data(category)\n\u001b[1;32m--> 115\u001b[0m aggregated \u001b[38;5;241m=\u001b[39m \u001b[43mcreate_aggregated_data_and_save_reviews_data\u001b[49m\u001b[43m(\u001b[49m\u001b[43mcategory\u001b[49m\u001b[43m)\u001b[49m\n\u001b[0;32m    116\u001b[0m product_data \u001b[38;5;241m=\u001b[39m create_store_product_data(category)\n\u001b[0;32m    117\u001b[0m product_data \u001b[38;5;241m=\u001b[39m product_data\u001b[38;5;241m.\u001b[39mmerge(aggregated, left_on\u001b[38;5;241m=\u001b[39m\u001b[38;5;124m'\u001b[39m\u001b[38;5;124mparent_asin\u001b[39m\u001b[38;5;124m'\u001b[39m, right_on\u001b[38;5;241m=\u001b[39m\u001b[38;5;124m'\u001b[39m\u001b[38;5;124mparent_asin\u001b[39m\u001b[38;5;124m'\u001b[39m)\n",
      "File \u001b[1;32mc:\\Users\\Michał\\Inżynierka\\Diploma-Project-Sentiment-analysis-based-on-products-reviews\\codes\\downloader.py:57\u001b[0m, in \u001b[0;36mcreate_aggregated_data_and_save_reviews_data\u001b[1;34m(category)\u001b[0m\n\u001b[0;32m     55\u001b[0m data \u001b[38;5;241m=\u001b[39m []\n\u001b[0;32m     56\u001b[0m \u001b[38;5;28;01mwith\u001b[39;00m \u001b[38;5;28mopen\u001b[39m(review_path, \u001b[38;5;124m'\u001b[39m\u001b[38;5;124mr\u001b[39m\u001b[38;5;124m'\u001b[39m, encoding\u001b[38;5;241m=\u001b[39m\u001b[38;5;124m'\u001b[39m\u001b[38;5;124mutf-8\u001b[39m\u001b[38;5;124m'\u001b[39m) \u001b[38;5;28;01mas\u001b[39;00m review_file:\n\u001b[1;32m---> 57\u001b[0m \u001b[43m    \u001b[49m\u001b[38;5;28;43;01mfor\u001b[39;49;00m\u001b[43m \u001b[49m\u001b[43mline\u001b[49m\u001b[43m \u001b[49m\u001b[38;5;129;43;01min\u001b[39;49;00m\u001b[43m \u001b[49m\u001b[43mreview_file\u001b[49m\u001b[43m:\u001b[49m\n\u001b[0;32m     58\u001b[0m \u001b[43m        \u001b[49m\u001b[38;5;28;43;01mif\u001b[39;49;00m\u001b[43m \u001b[49m\u001b[43mline\u001b[49m\u001b[38;5;241;43m.\u001b[39;49m\u001b[43mstrip\u001b[49m\u001b[43m(\u001b[49m\u001b[43m)\u001b[49m\u001b[43m:\u001b[49m\u001b[43m  \u001b[49m\n\u001b[0;32m     59\u001b[0m \u001b[43m            \u001b[49m\u001b[38;5;28;43;01mtry\u001b[39;49;00m\u001b[43m:\u001b[49m\n",
      "File \u001b[1;32m<frozen codecs>:319\u001b[0m, in \u001b[0;36mdecode\u001b[1;34m(self, input, final)\u001b[0m\n",
      "\u001b[1;31mKeyboardInterrupt\u001b[0m: "
     ]
    }
   ],
   "source": [
    "from codes.downloader import create_local_data\n",
    "create_local_data(category)"
   ]
  },
  {
   "cell_type": "code",
   "execution_count": null,
   "metadata": {},
   "outputs": [
    {
     "data": {
      "text/html": [
       "<div>\n",
       "<style scoped>\n",
       "    .dataframe tbody tr th:only-of-type {\n",
       "        vertical-align: middle;\n",
       "    }\n",
       "\n",
       "    .dataframe tbody tr th {\n",
       "        vertical-align: top;\n",
       "    }\n",
       "\n",
       "    .dataframe thead th {\n",
       "        text-align: right;\n",
       "    }\n",
       "</style>\n",
       "<table border=\"1\" class=\"dataframe\">\n",
       "  <thead>\n",
       "    <tr style=\"text-align: right;\">\n",
       "      <th></th>\n",
       "      <th>rating</th>\n",
       "      <th>text</th>\n",
       "      <th>parent_asin</th>\n",
       "      <th>timestamp</th>\n",
       "    </tr>\n",
       "  </thead>\n",
       "  <tbody>\n",
       "    <tr>\n",
       "      <th>0</th>\n",
       "      <td>2.0</td>\n",
       "      <td>Leather scrapes OFF</td>\n",
       "      <td>B00QMV34W2</td>\n",
       "      <td>2018-02-28 21:15:36.074</td>\n",
       "    </tr>\n",
       "    <tr>\n",
       "      <th>1</th>\n",
       "      <td>2.0</td>\n",
       "      <td>Sent back... leather started cracking in one d...</td>\n",
       "      <td>B00083U2TS</td>\n",
       "      <td>2017-05-01 17:58:00.000</td>\n",
       "    </tr>\n",
       "    <tr>\n",
       "      <th>2</th>\n",
       "      <td>5.0</td>\n",
       "      <td>I like this stretch belt. Best feature is the ...</td>\n",
       "      <td>B07NP12V7C</td>\n",
       "      <td>2020-07-11 16:07:06.398</td>\n",
       "    </tr>\n",
       "    <tr>\n",
       "      <th>3</th>\n",
       "      <td>1.0</td>\n",
       "      <td>This design was very cute however the belt was...</td>\n",
       "      <td>B00QMV34W2</td>\n",
       "      <td>2017-07-13 08:02:09.993</td>\n",
       "    </tr>\n",
       "  </tbody>\n",
       "</table>\n",
       "</div>"
      ],
      "text/plain": [
       "   rating                                               text parent_asin  \\\n",
       "0     2.0                                Leather scrapes OFF  B00QMV34W2   \n",
       "1     2.0  Sent back... leather started cracking in one d...  B00083U2TS   \n",
       "2     5.0  I like this stretch belt. Best feature is the ...  B07NP12V7C   \n",
       "3     1.0  This design was very cute however the belt was...  B00QMV34W2   \n",
       "\n",
       "                timestamp  \n",
       "0 2018-02-28 21:15:36.074  \n",
       "1 2017-05-01 17:58:00.000  \n",
       "2 2020-07-11 16:07:06.398  \n",
       "3 2017-07-13 08:02:09.993  "
      ]
     },
     "execution_count": 3,
     "metadata": {},
     "output_type": "execute_result"
    }
   ],
   "source": [
    "from codes.filter import filter\n",
    "from codes.parameters import categories\n",
    "category = categories[1]\n",
    "data = filter(category,start_date=\"2017\",end_date=\"2021\", store=\"Toneka\")\n",
    "data"
   ]
  },
  {
   "cell_type": "code",
   "execution_count": null,
   "metadata": {},
   "outputs": [],
   "source": [
    "from codes.downloader import load_reviews\n",
    "data = load_reviews(category)"
   ]
  },
  {
   "cell_type": "code",
   "execution_count": null,
   "metadata": {},
   "outputs": [
    {
     "data": {
      "text/html": [
       "<div>\n",
       "<style scoped>\n",
       "    .dataframe tbody tr th:only-of-type {\n",
       "        vertical-align: middle;\n",
       "    }\n",
       "\n",
       "    .dataframe tbody tr th {\n",
       "        vertical-align: top;\n",
       "    }\n",
       "\n",
       "    .dataframe thead th {\n",
       "        text-align: right;\n",
       "    }\n",
       "</style>\n",
       "<table border=\"1\" class=\"dataframe\">\n",
       "  <thead>\n",
       "    <tr style=\"text-align: right;\">\n",
       "      <th></th>\n",
       "      <th>rating</th>\n",
       "      <th>text</th>\n",
       "      <th>parent_asin</th>\n",
       "      <th>timestamp</th>\n",
       "      <th>rating_number</th>\n",
       "      <th>average_rating</th>\n",
       "    </tr>\n",
       "  </thead>\n",
       "  <tbody>\n",
       "    <tr>\n",
       "      <th>0</th>\n",
       "      <td>5.0</td>\n",
       "      <td>This spray is really nice. It smells really go...</td>\n",
       "      <td>B00YQ6X8EO</td>\n",
       "      <td>2020-05-05 14:08:48.923</td>\n",
       "      <td>99</td>\n",
       "      <td>3.868687</td>\n",
       "    </tr>\n",
       "    <tr>\n",
       "      <th>1</th>\n",
       "      <td>4.0</td>\n",
       "      <td>This product does what I need it to do, I just...</td>\n",
       "      <td>B081TJ8YS3</td>\n",
       "      <td>2020-05-04 18:10:55.070</td>\n",
       "      <td>13</td>\n",
       "      <td>3.923077</td>\n",
       "    </tr>\n",
       "    <tr>\n",
       "      <th>2</th>\n",
       "      <td>5.0</td>\n",
       "      <td>Smells good, feels great!</td>\n",
       "      <td>B097R46CSY</td>\n",
       "      <td>2020-05-16 21:41:06.052</td>\n",
       "      <td>26</td>\n",
       "      <td>3.769231</td>\n",
       "    </tr>\n",
       "    <tr>\n",
       "      <th>3</th>\n",
       "      <td>1.0</td>\n",
       "      <td>Felt synthetic</td>\n",
       "      <td>B09JS339BZ</td>\n",
       "      <td>2022-01-28 18:13:50.220</td>\n",
       "      <td>1</td>\n",
       "      <td>1.000000</td>\n",
       "    </tr>\n",
       "    <tr>\n",
       "      <th>4</th>\n",
       "      <td>5.0</td>\n",
       "      <td>Love it</td>\n",
       "      <td>B08BZ63GMJ</td>\n",
       "      <td>2020-12-30 10:02:43.534</td>\n",
       "      <td>3</td>\n",
       "      <td>5.000000</td>\n",
       "    </tr>\n",
       "    <tr>\n",
       "      <th>...</th>\n",
       "      <td>...</td>\n",
       "      <td>...</td>\n",
       "      <td>...</td>\n",
       "      <td>...</td>\n",
       "      <td>...</td>\n",
       "      <td>...</td>\n",
       "    </tr>\n",
       "    <tr>\n",
       "      <th>694169</th>\n",
       "      <td>4.0</td>\n",
       "      <td>Conditioner is great  shampoo not as I expected</td>\n",
       "      <td>B006YUIWKA</td>\n",
       "      <td>2016-11-04 02:37:01.000</td>\n",
       "      <td>62</td>\n",
       "      <td>4.016129</td>\n",
       "    </tr>\n",
       "    <tr>\n",
       "      <th>694170</th>\n",
       "      <td>1.0</td>\n",
       "      <td>Did not work! Used the whole bottle and my hai...</td>\n",
       "      <td>B006YUIWKA</td>\n",
       "      <td>2016-12-05 03:32:10.000</td>\n",
       "      <td>62</td>\n",
       "      <td>4.016129</td>\n",
       "    </tr>\n",
       "    <tr>\n",
       "      <th>694171</th>\n",
       "      <td>5.0</td>\n",
       "      <td>Product as expected. Shipping was on time.</td>\n",
       "      <td>B06ZZV9MZT</td>\n",
       "      <td>2020-05-27 02:52:54.067</td>\n",
       "      <td>6</td>\n",
       "      <td>5.000000</td>\n",
       "    </tr>\n",
       "    <tr>\n",
       "      <th>694172</th>\n",
       "      <td>5.0</td>\n",
       "      <td>Not only is it a delicious fragrance, but also...</td>\n",
       "      <td>B000HB6VLE</td>\n",
       "      <td>2007-07-18 22:36:49.000</td>\n",
       "      <td>12</td>\n",
       "      <td>4.000000</td>\n",
       "    </tr>\n",
       "    <tr>\n",
       "      <th>694173</th>\n",
       "      <td>4.0</td>\n",
       "      <td>The conditioner doesn't really make your hair ...</td>\n",
       "      <td>B0093MXHFG</td>\n",
       "      <td>2013-04-26 02:48:06.000</td>\n",
       "      <td>14</td>\n",
       "      <td>4.857143</td>\n",
       "    </tr>\n",
       "  </tbody>\n",
       "</table>\n",
       "<p>694174 rows × 6 columns</p>\n",
       "</div>"
      ],
      "text/plain": [
       "        rating                                               text parent_asin  \\\n",
       "0          5.0  This spray is really nice. It smells really go...  B00YQ6X8EO   \n",
       "1          4.0  This product does what I need it to do, I just...  B081TJ8YS3   \n",
       "2          5.0                          Smells good, feels great!  B097R46CSY   \n",
       "3          1.0                                     Felt synthetic  B09JS339BZ   \n",
       "4          5.0                                            Love it  B08BZ63GMJ   \n",
       "...        ...                                                ...         ...   \n",
       "694169     4.0    Conditioner is great  shampoo not as I expected  B006YUIWKA   \n",
       "694170     1.0  Did not work! Used the whole bottle and my hai...  B006YUIWKA   \n",
       "694171     5.0         Product as expected. Shipping was on time.  B06ZZV9MZT   \n",
       "694172     5.0  Not only is it a delicious fragrance, but also...  B000HB6VLE   \n",
       "694173     4.0  The conditioner doesn't really make your hair ...  B0093MXHFG   \n",
       "\n",
       "                      timestamp  rating_number  average_rating  \n",
       "0       2020-05-05 14:08:48.923             99        3.868687  \n",
       "1       2020-05-04 18:10:55.070             13        3.923077  \n",
       "2       2020-05-16 21:41:06.052             26        3.769231  \n",
       "3       2022-01-28 18:13:50.220              1        1.000000  \n",
       "4       2020-12-30 10:02:43.534              3        5.000000  \n",
       "...                         ...            ...             ...  \n",
       "694169  2016-11-04 02:37:01.000             62        4.016129  \n",
       "694170  2016-12-05 03:32:10.000             62        4.016129  \n",
       "694171  2020-05-27 02:52:54.067              6        5.000000  \n",
       "694172  2007-07-18 22:36:49.000             12        4.000000  \n",
       "694173  2013-04-26 02:48:06.000             14        4.857143  \n",
       "\n",
       "[694174 rows x 6 columns]"
      ]
     },
     "execution_count": 3,
     "metadata": {},
     "output_type": "execute_result"
    }
   ],
   "source": [
    "data"
   ]
  },
  {
   "cell_type": "code",
   "execution_count": null,
   "metadata": {},
   "outputs": [
    {
     "name": "stdout",
     "output_type": "stream",
     "text": [
      "Model cardiffnlp/twitter-roberta-base-sentiment downloaded and saved.\n"
     ]
    }
   ],
   "source": [
    "from codes.download_models import download_and_save_twitter_model\n",
    "from codes.parameters import roberta_model\n",
    "download_and_save_twitter_model(roberta_model.model_name,roberta_model.local_path)"
   ]
  },
  {
   "cell_type": "code",
   "execution_count": null,
   "metadata": {},
   "outputs": [],
   "source": [
    "from codes.parameters import categories\n",
    "from codes.downloader import load_reviews\n",
    "from codes.predict_on_model import predict_on_bert, predict_on_roberta\n",
    "import pandas as pd\n",
    "\n",
    "category = categories[1] \n",
    "data = load_reviews(category)\n",
    "bert_prediction = predict_on_bert(data.head(100))\n",
    "roberta_prediction = predict_on_roberta(data.head(100))\n",
    "results = pd.DataFrame({\n",
    "    \"True_labels\": data.head(100).rating,\n",
    "    \"Bert_labels\": bert_prediction,\n",
    "    \"Roberta_labels\": roberta_prediction\n",
    "})"
   ]
  },
  {
   "cell_type": "code",
   "execution_count": null,
   "metadata": {},
   "outputs": [
    {
     "data": {
      "text/html": [
       "<div>\n",
       "<style scoped>\n",
       "    .dataframe tbody tr th:only-of-type {\n",
       "        vertical-align: middle;\n",
       "    }\n",
       "\n",
       "    .dataframe tbody tr th {\n",
       "        vertical-align: top;\n",
       "    }\n",
       "\n",
       "    .dataframe thead th {\n",
       "        text-align: right;\n",
       "    }\n",
       "</style>\n",
       "<table border=\"1\" class=\"dataframe\">\n",
       "  <thead>\n",
       "    <tr style=\"text-align: right;\">\n",
       "      <th></th>\n",
       "      <th>True_labels</th>\n",
       "      <th>Bert_labels</th>\n",
       "      <th>Roberta_labels</th>\n",
       "    </tr>\n",
       "  </thead>\n",
       "  <tbody>\n",
       "    <tr>\n",
       "      <th>0</th>\n",
       "      <td>5.0</td>\n",
       "      <td>5</td>\n",
       "      <td>positive</td>\n",
       "    </tr>\n",
       "    <tr>\n",
       "      <th>1</th>\n",
       "      <td>5.0</td>\n",
       "      <td>5</td>\n",
       "      <td>positive</td>\n",
       "    </tr>\n",
       "    <tr>\n",
       "      <th>2</th>\n",
       "      <td>2.0</td>\n",
       "      <td>1</td>\n",
       "      <td>negative</td>\n",
       "    </tr>\n",
       "    <tr>\n",
       "      <th>3</th>\n",
       "      <td>1.0</td>\n",
       "      <td>1</td>\n",
       "      <td>negative</td>\n",
       "    </tr>\n",
       "    <tr>\n",
       "      <th>4</th>\n",
       "      <td>5.0</td>\n",
       "      <td>5</td>\n",
       "      <td>positive</td>\n",
       "    </tr>\n",
       "    <tr>\n",
       "      <th>...</th>\n",
       "      <td>...</td>\n",
       "      <td>...</td>\n",
       "      <td>...</td>\n",
       "    </tr>\n",
       "    <tr>\n",
       "      <th>95</th>\n",
       "      <td>4.0</td>\n",
       "      <td>5</td>\n",
       "      <td>positive</td>\n",
       "    </tr>\n",
       "    <tr>\n",
       "      <th>96</th>\n",
       "      <td>4.0</td>\n",
       "      <td>5</td>\n",
       "      <td>positive</td>\n",
       "    </tr>\n",
       "    <tr>\n",
       "      <th>97</th>\n",
       "      <td>5.0</td>\n",
       "      <td>5</td>\n",
       "      <td>positive</td>\n",
       "    </tr>\n",
       "    <tr>\n",
       "      <th>98</th>\n",
       "      <td>5.0</td>\n",
       "      <td>5</td>\n",
       "      <td>positive</td>\n",
       "    </tr>\n",
       "    <tr>\n",
       "      <th>99</th>\n",
       "      <td>5.0</td>\n",
       "      <td>5</td>\n",
       "      <td>positive</td>\n",
       "    </tr>\n",
       "  </tbody>\n",
       "</table>\n",
       "<p>100 rows × 3 columns</p>\n",
       "</div>"
      ],
      "text/plain": [
       "    True_labels  Bert_labels Roberta_labels\n",
       "0           5.0            5       positive\n",
       "1           5.0            5       positive\n",
       "2           2.0            1       negative\n",
       "3           1.0            1       negative\n",
       "4           5.0            5       positive\n",
       "..          ...          ...            ...\n",
       "95          4.0            5       positive\n",
       "96          4.0            5       positive\n",
       "97          5.0            5       positive\n",
       "98          5.0            5       positive\n",
       "99          5.0            5       positive\n",
       "\n",
       "[100 rows x 3 columns]"
      ]
     },
     "execution_count": 7,
     "metadata": {},
     "output_type": "execute_result"
    }
   ],
   "source": [
    "results"
   ]
  },
  {
   "cell_type": "code",
   "execution_count": 1,
   "metadata": {},
   "outputs": [
    {
     "name": "stderr",
     "output_type": "stream",
     "text": [
      "Some weights of BertForSequenceClassification were not initialized from the model checkpoint at bert-base-uncased and are newly initialized: ['classifier.bias', 'classifier.weight']\n",
      "You should probably TRAIN this model on a down-stream task to be able to use it for predictions and inference.\n",
      "C:\\Users\\Michał\\AppData\\Local\\Packages\\PythonSoftwareFoundation.Python.3.11_qbz5n2kfra8p0\\LocalCache\\local-packages\\Python311\\site-packages\\transformers\\training_args.py:1575: FutureWarning: `evaluation_strategy` is deprecated and will be removed in version 4.46 of 🤗 Transformers. Use `eval_strategy` instead\n",
      "  warnings.warn(\n",
      "c:\\Users\\Michał\\Inżynierka\\Diploma-Project-Sentiment-analysis-based-on-products-reviews\\codes\\download_models.py:73: FutureWarning: `tokenizer` is deprecated and will be removed in version 5.0.0 for `Trainer.__init__`. Use `processing_class` instead.\n",
      "  trainer = Trainer(\n"
     ]
    },
    {
     "data": {
      "application/vnd.jupyter.widget-view+json": {
       "model_id": "8678114b5d1e4acc8300da9581e9f859",
       "version_major": 2,
       "version_minor": 0
      },
      "text/plain": [
       "  0%|          | 0/500 [00:00<?, ?it/s]"
      ]
     },
     "metadata": {},
     "output_type": "display_data"
    },
    {
     "name": "stdout",
     "output_type": "stream",
     "text": [
      "{'loss': 1.3929, 'grad_norm': 4.351396560668945, 'learning_rate': 1.9600000000000002e-05, 'epoch': 0.02}\n",
      "{'loss': 1.2119, 'grad_norm': 3.469254493713379, 'learning_rate': 1.9200000000000003e-05, 'epoch': 0.04}\n",
      "{'loss': 1.1271, 'grad_norm': 5.537625312805176, 'learning_rate': 1.88e-05, 'epoch': 0.06}\n",
      "{'loss': 1.2332, 'grad_norm': 4.442174911499023, 'learning_rate': 1.8400000000000003e-05, 'epoch': 0.08}\n",
      "{'loss': 1.148, 'grad_norm': 5.113197326660156, 'learning_rate': 1.8e-05, 'epoch': 0.1}\n",
      "{'loss': 1.0775, 'grad_norm': 8.639131546020508, 'learning_rate': 1.76e-05, 'epoch': 0.12}\n",
      "{'loss': 0.9406, 'grad_norm': 7.340685844421387, 'learning_rate': 1.72e-05, 'epoch': 0.14}\n",
      "{'loss': 1.0904, 'grad_norm': 6.170884609222412, 'learning_rate': 1.6800000000000002e-05, 'epoch': 0.16}\n",
      "{'loss': 0.9986, 'grad_norm': 10.527544021606445, 'learning_rate': 1.64e-05, 'epoch': 0.18}\n",
      "{'loss': 0.9199, 'grad_norm': 8.328731536865234, 'learning_rate': 1.6000000000000003e-05, 'epoch': 0.2}\n",
      "{'loss': 0.9411, 'grad_norm': 6.244152069091797, 'learning_rate': 1.5600000000000003e-05, 'epoch': 0.22}\n",
      "{'loss': 0.8818, 'grad_norm': 6.772109508514404, 'learning_rate': 1.5200000000000002e-05, 'epoch': 0.24}\n",
      "{'loss': 0.8712, 'grad_norm': 6.74312162399292, 'learning_rate': 1.48e-05, 'epoch': 0.26}\n",
      "{'loss': 0.9392, 'grad_norm': 8.92237377166748, 'learning_rate': 1.4400000000000001e-05, 'epoch': 0.28}\n",
      "{'loss': 0.8971, 'grad_norm': 7.985555171966553, 'learning_rate': 1.4e-05, 'epoch': 0.3}\n",
      "{'loss': 0.9086, 'grad_norm': 4.122736930847168, 'learning_rate': 1.3600000000000002e-05, 'epoch': 0.32}\n",
      "{'loss': 0.757, 'grad_norm': 6.061994552612305, 'learning_rate': 1.3200000000000002e-05, 'epoch': 0.34}\n",
      "{'loss': 0.946, 'grad_norm': 7.5421295166015625, 'learning_rate': 1.2800000000000001e-05, 'epoch': 0.36}\n",
      "{'loss': 0.7851, 'grad_norm': 11.22927474975586, 'learning_rate': 1.2400000000000002e-05, 'epoch': 0.38}\n",
      "{'loss': 0.7459, 'grad_norm': 4.489965915679932, 'learning_rate': 1.2e-05, 'epoch': 0.4}\n",
      "{'loss': 0.8088, 'grad_norm': 6.425197124481201, 'learning_rate': 1.16e-05, 'epoch': 0.42}\n",
      "{'loss': 0.882, 'grad_norm': 9.458019256591797, 'learning_rate': 1.1200000000000001e-05, 'epoch': 0.44}\n",
      "{'loss': 0.8411, 'grad_norm': 9.813935279846191, 'learning_rate': 1.0800000000000002e-05, 'epoch': 0.46}\n",
      "{'loss': 0.8148, 'grad_norm': 12.191161155700684, 'learning_rate': 1.04e-05, 'epoch': 0.48}\n",
      "{'loss': 0.7964, 'grad_norm': 8.501543998718262, 'learning_rate': 1e-05, 'epoch': 0.5}\n",
      "{'loss': 0.7801, 'grad_norm': 6.948514938354492, 'learning_rate': 9.600000000000001e-06, 'epoch': 0.52}\n",
      "{'loss': 0.8435, 'grad_norm': 9.601202964782715, 'learning_rate': 9.200000000000002e-06, 'epoch': 0.54}\n",
      "{'loss': 0.7398, 'grad_norm': 12.683656692504883, 'learning_rate': 8.8e-06, 'epoch': 0.56}\n",
      "{'loss': 0.791, 'grad_norm': 6.678419589996338, 'learning_rate': 8.400000000000001e-06, 'epoch': 0.58}\n",
      "{'loss': 0.8183, 'grad_norm': 9.516383171081543, 'learning_rate': 8.000000000000001e-06, 'epoch': 0.6}\n",
      "{'loss': 0.8608, 'grad_norm': 8.38170051574707, 'learning_rate': 7.600000000000001e-06, 'epoch': 0.62}\n",
      "{'loss': 0.742, 'grad_norm': 6.383464813232422, 'learning_rate': 7.2000000000000005e-06, 'epoch': 0.64}\n",
      "{'loss': 0.8417, 'grad_norm': 12.153194427490234, 'learning_rate': 6.800000000000001e-06, 'epoch': 0.66}\n",
      "{'loss': 0.8174, 'grad_norm': 16.64485740661621, 'learning_rate': 6.4000000000000006e-06, 'epoch': 0.68}\n",
      "{'loss': 0.7107, 'grad_norm': 7.496437072753906, 'learning_rate': 6e-06, 'epoch': 0.7}\n",
      "{'loss': 0.8635, 'grad_norm': 8.411601066589355, 'learning_rate': 5.600000000000001e-06, 'epoch': 0.72}\n",
      "{'loss': 0.7998, 'grad_norm': 10.153367042541504, 'learning_rate': 5.2e-06, 'epoch': 0.74}\n",
      "{'loss': 0.7741, 'grad_norm': 4.096249580383301, 'learning_rate': 4.800000000000001e-06, 'epoch': 0.76}\n",
      "{'loss': 0.8372, 'grad_norm': 7.718388080596924, 'learning_rate': 4.4e-06, 'epoch': 0.78}\n",
      "{'loss': 0.6959, 'grad_norm': 13.055461883544922, 'learning_rate': 4.000000000000001e-06, 'epoch': 0.8}\n",
      "{'loss': 0.7228, 'grad_norm': 4.957077980041504, 'learning_rate': 3.6000000000000003e-06, 'epoch': 0.82}\n",
      "{'loss': 0.7656, 'grad_norm': 4.32387113571167, 'learning_rate': 3.2000000000000003e-06, 'epoch': 0.84}\n",
      "{'loss': 0.6684, 'grad_norm': 6.283829212188721, 'learning_rate': 2.8000000000000003e-06, 'epoch': 0.86}\n",
      "{'loss': 0.7537, 'grad_norm': 4.076420783996582, 'learning_rate': 2.4000000000000003e-06, 'epoch': 0.88}\n",
      "{'loss': 0.8751, 'grad_norm': 7.638285160064697, 'learning_rate': 2.0000000000000003e-06, 'epoch': 0.9}\n",
      "{'loss': 0.6451, 'grad_norm': 7.111183166503906, 'learning_rate': 1.6000000000000001e-06, 'epoch': 0.92}\n",
      "{'loss': 0.8419, 'grad_norm': 13.167533874511719, 'learning_rate': 1.2000000000000002e-06, 'epoch': 0.94}\n",
      "{'loss': 0.8615, 'grad_norm': 7.565008640289307, 'learning_rate': 8.000000000000001e-07, 'epoch': 0.96}\n",
      "{'loss': 0.8297, 'grad_norm': 8.97580337524414, 'learning_rate': 4.0000000000000003e-07, 'epoch': 0.98}\n",
      "{'loss': 0.7144, 'grad_norm': 9.705229759216309, 'learning_rate': 0.0, 'epoch': 1.0}\n"
     ]
    },
    {
     "data": {
      "application/vnd.jupyter.widget-view+json": {
       "model_id": "3b6cb77e9b2248d5b69fdcf40f3a208b",
       "version_major": 2,
       "version_minor": 0
      },
      "text/plain": [
       "  0%|          | 0/250 [00:00<?, ?it/s]"
      ]
     },
     "metadata": {},
     "output_type": "display_data"
    },
    {
     "name": "stdout",
     "output_type": "stream",
     "text": [
      "{'eval_loss': 0.7756801843643188, 'eval_accuracy': 0.7005000114440918, 'eval_runtime': 3.8463, 'eval_samples_per_second': 519.986, 'eval_steps_per_second': 64.998, 'epoch': 1.0}\n",
      "{'train_runtime': 54.4762, 'train_samples_per_second': 146.816, 'train_steps_per_second': 9.178, 'train_loss': 0.8710013427734375, 'epoch': 1.0}\n"
     ]
    },
    {
     "data": {
      "application/vnd.jupyter.widget-view+json": {
       "model_id": "af747a8444c14ddf9323df55768e0ae3",
       "version_major": 2,
       "version_minor": 0
      },
      "text/plain": [
       "  0%|          | 0/250 [00:00<?, ?it/s]"
      ]
     },
     "metadata": {},
     "output_type": "display_data"
    }
   ],
   "source": [
    "from codes.download_models import download_and_tune_bert\n",
    "from codes.parameters import bert_model,categories\n",
    "from codes.downloader import load_reviews\n",
    "\n",
    "category = categories[0] \n",
    "data = load_reviews(category)\n",
    "download_and_tune_bert(bert_model.model_name,bert_model.local_path, data.head(10000))"
   ]
  },
  {
   "cell_type": "code",
   "execution_count": null,
   "metadata": {},
   "outputs": [],
   "source": []
  }
 ],
 "metadata": {
  "kernelspec": {
   "display_name": "Python 3",
   "language": "python",
   "name": "python3"
  },
  "language_info": {
   "codemirror_mode": {
    "name": "ipython",
    "version": 3
   },
   "file_extension": ".py",
   "mimetype": "text/x-python",
   "name": "python",
   "nbconvert_exporter": "python",
   "pygments_lexer": "ipython3",
   "version": "3.11.9"
  }
 },
 "nbformat": 4,
 "nbformat_minor": 2
}

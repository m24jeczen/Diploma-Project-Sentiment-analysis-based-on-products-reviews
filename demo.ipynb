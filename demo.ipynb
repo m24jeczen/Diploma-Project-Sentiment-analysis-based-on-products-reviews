{
 "cells": [
  {
   "cell_type": "code",
   "execution_count": 1,
   "metadata": {},
   "outputs": [
    {
     "name": "stdout",
     "output_type": "stream",
     "text": [
      "Category Wrong category does not exist in available categories.\n"
     ]
    }
   ],
   "source": [
    "from codes.downloader import create_local_data, download_source_data\n",
    "from codes.parameters import categories\n",
    "category = categories[4] \n",
    "#download_source_data(category)\n",
    "create_local_data(\"Wrong category\")"
   ]
  },
  {
   "cell_type": "code",
   "execution_count": 6,
   "metadata": {},
   "outputs": [],
   "source": [
    "from codes.downloader import create_local_data\n",
    "create_local_data(category)"
   ]
  },
  {
   "cell_type": "code",
   "execution_count": 3,
   "metadata": {},
   "outputs": [
    {
     "data": {
      "text/html": [
       "<div>\n",
       "<style scoped>\n",
       "    .dataframe tbody tr th:only-of-type {\n",
       "        vertical-align: middle;\n",
       "    }\n",
       "\n",
       "    .dataframe tbody tr th {\n",
       "        vertical-align: top;\n",
       "    }\n",
       "\n",
       "    .dataframe thead th {\n",
       "        text-align: right;\n",
       "    }\n",
       "</style>\n",
       "<table border=\"1\" class=\"dataframe\">\n",
       "  <thead>\n",
       "    <tr style=\"text-align: right;\">\n",
       "      <th></th>\n",
       "      <th>rating</th>\n",
       "      <th>text</th>\n",
       "      <th>parent_asin</th>\n",
       "      <th>timestamp</th>\n",
       "    </tr>\n",
       "  </thead>\n",
       "  <tbody>\n",
       "    <tr>\n",
       "      <th>0</th>\n",
       "      <td>2.0</td>\n",
       "      <td>Leather scrapes OFF</td>\n",
       "      <td>B00QMV34W2</td>\n",
       "      <td>2018-02-28 21:15:36.074</td>\n",
       "    </tr>\n",
       "    <tr>\n",
       "      <th>1</th>\n",
       "      <td>2.0</td>\n",
       "      <td>Sent back... leather started cracking in one d...</td>\n",
       "      <td>B00083U2TS</td>\n",
       "      <td>2017-05-01 17:58:00.000</td>\n",
       "    </tr>\n",
       "    <tr>\n",
       "      <th>2</th>\n",
       "      <td>5.0</td>\n",
       "      <td>I like this stretch belt. Best feature is the ...</td>\n",
       "      <td>B07NP12V7C</td>\n",
       "      <td>2020-07-11 16:07:06.398</td>\n",
       "    </tr>\n",
       "    <tr>\n",
       "      <th>3</th>\n",
       "      <td>1.0</td>\n",
       "      <td>This design was very cute however the belt was...</td>\n",
       "      <td>B00QMV34W2</td>\n",
       "      <td>2017-07-13 08:02:09.993</td>\n",
       "    </tr>\n",
       "  </tbody>\n",
       "</table>\n",
       "</div>"
      ],
      "text/plain": [
       "   rating                                               text parent_asin  \\\n",
       "0     2.0                                Leather scrapes OFF  B00QMV34W2   \n",
       "1     2.0  Sent back... leather started cracking in one d...  B00083U2TS   \n",
       "2     5.0  I like this stretch belt. Best feature is the ...  B07NP12V7C   \n",
       "3     1.0  This design was very cute however the belt was...  B00QMV34W2   \n",
       "\n",
       "                timestamp  \n",
       "0 2018-02-28 21:15:36.074  \n",
       "1 2017-05-01 17:58:00.000  \n",
       "2 2020-07-11 16:07:06.398  \n",
       "3 2017-07-13 08:02:09.993  "
      ]
     },
     "execution_count": 3,
     "metadata": {},
     "output_type": "execute_result"
    }
   ],
   "source": [
    "from codes.filter import filter\n",
    "from codes.parameters import categories\n",
    "category = categories[1]\n",
    "data = filter(category,start_date=\"2017\",end_date=\"2021\", store=\"Toneka\")\n",
    "data"
   ]
  },
  {
   "cell_type": "code",
   "execution_count": 2,
   "metadata": {},
   "outputs": [],
   "source": [
    "from codes.downloader import load_reviews\n",
    "data = load_reviews(category)"
   ]
  },
  {
   "cell_type": "code",
   "execution_count": 3,
   "metadata": {},
   "outputs": [
    {
     "data": {
      "text/html": [
       "<div>\n",
       "<style scoped>\n",
       "    .dataframe tbody tr th:only-of-type {\n",
       "        vertical-align: middle;\n",
       "    }\n",
       "\n",
       "    .dataframe tbody tr th {\n",
       "        vertical-align: top;\n",
       "    }\n",
       "\n",
       "    .dataframe thead th {\n",
       "        text-align: right;\n",
       "    }\n",
       "</style>\n",
       "<table border=\"1\" class=\"dataframe\">\n",
       "  <thead>\n",
       "    <tr style=\"text-align: right;\">\n",
       "      <th></th>\n",
       "      <th>rating</th>\n",
       "      <th>text</th>\n",
       "      <th>parent_asin</th>\n",
       "      <th>timestamp</th>\n",
       "      <th>rating_number</th>\n",
       "      <th>average_rating</th>\n",
       "    </tr>\n",
       "  </thead>\n",
       "  <tbody>\n",
       "    <tr>\n",
       "      <th>0</th>\n",
       "      <td>5.0</td>\n",
       "      <td>This spray is really nice. It smells really go...</td>\n",
       "      <td>B00YQ6X8EO</td>\n",
       "      <td>2020-05-05 14:08:48.923</td>\n",
       "      <td>99</td>\n",
       "      <td>3.868687</td>\n",
       "    </tr>\n",
       "    <tr>\n",
       "      <th>1</th>\n",
       "      <td>4.0</td>\n",
       "      <td>This product does what I need it to do, I just...</td>\n",
       "      <td>B081TJ8YS3</td>\n",
       "      <td>2020-05-04 18:10:55.070</td>\n",
       "      <td>13</td>\n",
       "      <td>3.923077</td>\n",
       "    </tr>\n",
       "    <tr>\n",
       "      <th>2</th>\n",
       "      <td>5.0</td>\n",
       "      <td>Smells good, feels great!</td>\n",
       "      <td>B097R46CSY</td>\n",
       "      <td>2020-05-16 21:41:06.052</td>\n",
       "      <td>26</td>\n",
       "      <td>3.769231</td>\n",
       "    </tr>\n",
       "    <tr>\n",
       "      <th>3</th>\n",
       "      <td>1.0</td>\n",
       "      <td>Felt synthetic</td>\n",
       "      <td>B09JS339BZ</td>\n",
       "      <td>2022-01-28 18:13:50.220</td>\n",
       "      <td>1</td>\n",
       "      <td>1.000000</td>\n",
       "    </tr>\n",
       "    <tr>\n",
       "      <th>4</th>\n",
       "      <td>5.0</td>\n",
       "      <td>Love it</td>\n",
       "      <td>B08BZ63GMJ</td>\n",
       "      <td>2020-12-30 10:02:43.534</td>\n",
       "      <td>3</td>\n",
       "      <td>5.000000</td>\n",
       "    </tr>\n",
       "    <tr>\n",
       "      <th>...</th>\n",
       "      <td>...</td>\n",
       "      <td>...</td>\n",
       "      <td>...</td>\n",
       "      <td>...</td>\n",
       "      <td>...</td>\n",
       "      <td>...</td>\n",
       "    </tr>\n",
       "    <tr>\n",
       "      <th>694169</th>\n",
       "      <td>4.0</td>\n",
       "      <td>Conditioner is great  shampoo not as I expected</td>\n",
       "      <td>B006YUIWKA</td>\n",
       "      <td>2016-11-04 02:37:01.000</td>\n",
       "      <td>62</td>\n",
       "      <td>4.016129</td>\n",
       "    </tr>\n",
       "    <tr>\n",
       "      <th>694170</th>\n",
       "      <td>1.0</td>\n",
       "      <td>Did not work! Used the whole bottle and my hai...</td>\n",
       "      <td>B006YUIWKA</td>\n",
       "      <td>2016-12-05 03:32:10.000</td>\n",
       "      <td>62</td>\n",
       "      <td>4.016129</td>\n",
       "    </tr>\n",
       "    <tr>\n",
       "      <th>694171</th>\n",
       "      <td>5.0</td>\n",
       "      <td>Product as expected. Shipping was on time.</td>\n",
       "      <td>B06ZZV9MZT</td>\n",
       "      <td>2020-05-27 02:52:54.067</td>\n",
       "      <td>6</td>\n",
       "      <td>5.000000</td>\n",
       "    </tr>\n",
       "    <tr>\n",
       "      <th>694172</th>\n",
       "      <td>5.0</td>\n",
       "      <td>Not only is it a delicious fragrance, but also...</td>\n",
       "      <td>B000HB6VLE</td>\n",
       "      <td>2007-07-18 22:36:49.000</td>\n",
       "      <td>12</td>\n",
       "      <td>4.000000</td>\n",
       "    </tr>\n",
       "    <tr>\n",
       "      <th>694173</th>\n",
       "      <td>4.0</td>\n",
       "      <td>The conditioner doesn't really make your hair ...</td>\n",
       "      <td>B0093MXHFG</td>\n",
       "      <td>2013-04-26 02:48:06.000</td>\n",
       "      <td>14</td>\n",
       "      <td>4.857143</td>\n",
       "    </tr>\n",
       "  </tbody>\n",
       "</table>\n",
       "<p>694174 rows × 6 columns</p>\n",
       "</div>"
      ],
      "text/plain": [
       "        rating                                               text parent_asin  \\\n",
       "0          5.0  This spray is really nice. It smells really go...  B00YQ6X8EO   \n",
       "1          4.0  This product does what I need it to do, I just...  B081TJ8YS3   \n",
       "2          5.0                          Smells good, feels great!  B097R46CSY   \n",
       "3          1.0                                     Felt synthetic  B09JS339BZ   \n",
       "4          5.0                                            Love it  B08BZ63GMJ   \n",
       "...        ...                                                ...         ...   \n",
       "694169     4.0    Conditioner is great  shampoo not as I expected  B006YUIWKA   \n",
       "694170     1.0  Did not work! Used the whole bottle and my hai...  B006YUIWKA   \n",
       "694171     5.0         Product as expected. Shipping was on time.  B06ZZV9MZT   \n",
       "694172     5.0  Not only is it a delicious fragrance, but also...  B000HB6VLE   \n",
       "694173     4.0  The conditioner doesn't really make your hair ...  B0093MXHFG   \n",
       "\n",
       "                      timestamp  rating_number  average_rating  \n",
       "0       2020-05-05 14:08:48.923             99        3.868687  \n",
       "1       2020-05-04 18:10:55.070             13        3.923077  \n",
       "2       2020-05-16 21:41:06.052             26        3.769231  \n",
       "3       2022-01-28 18:13:50.220              1        1.000000  \n",
       "4       2020-12-30 10:02:43.534              3        5.000000  \n",
       "...                         ...            ...             ...  \n",
       "694169  2016-11-04 02:37:01.000             62        4.016129  \n",
       "694170  2016-12-05 03:32:10.000             62        4.016129  \n",
       "694171  2020-05-27 02:52:54.067              6        5.000000  \n",
       "694172  2007-07-18 22:36:49.000             12        4.000000  \n",
       "694173  2013-04-26 02:48:06.000             14        4.857143  \n",
       "\n",
       "[694174 rows x 6 columns]"
      ]
     },
     "execution_count": 3,
     "metadata": {},
     "output_type": "execute_result"
    }
   ],
   "source": [
    "data"
   ]
  },
  {
   "cell_type": "code",
   "execution_count": null,
   "metadata": {},
   "outputs": [
    {
     "name": "stdout",
     "output_type": "stream",
     "text": [
      "Model cardiffnlp/twitter-roberta-base-sentiment downloaded and saved.\n"
     ]
    }
   ],
   "source": [
    "from codes.download_models import download_and_save_twitter_model\n",
    "from codes.parameters import roberta_model\n",
    "download_and_save_twitter_model(roberta_model.model_name,roberta_model.local_path)"
   ]
  },
  {
   "cell_type": "code",
   "execution_count": 6,
   "metadata": {},
   "outputs": [],
   "source": [
    "from codes.parameters import categories\n",
    "from codes.downloader import load_reviews\n",
    "from codes.predict_on_model import predict_on_bert, predict_on_roberta\n",
    "import pandas as pd\n",
    "\n",
    "category = categories[1] \n",
    "data = load_reviews(category)\n",
    "bert_prediction = predict_on_bert(data.head(100))\n",
    "roberta_prediction = predict_on_roberta(data.head(100))\n",
    "results = pd.DataFrame({\n",
    "    \"True_labels\": data.head(100).rating,\n",
    "    \"Bert_labels\": bert_prediction,\n",
    "    \"Roberta_labels\": roberta_prediction\n",
    "})"
   ]
  },
  {
   "cell_type": "code",
   "execution_count": 7,
   "metadata": {},
   "outputs": [
    {
     "data": {
      "text/html": [
       "<div>\n",
       "<style scoped>\n",
       "    .dataframe tbody tr th:only-of-type {\n",
       "        vertical-align: middle;\n",
       "    }\n",
       "\n",
       "    .dataframe tbody tr th {\n",
       "        vertical-align: top;\n",
       "    }\n",
       "\n",
       "    .dataframe thead th {\n",
       "        text-align: right;\n",
       "    }\n",
       "</style>\n",
       "<table border=\"1\" class=\"dataframe\">\n",
       "  <thead>\n",
       "    <tr style=\"text-align: right;\">\n",
       "      <th></th>\n",
       "      <th>True_labels</th>\n",
       "      <th>Bert_labels</th>\n",
       "      <th>Roberta_labels</th>\n",
       "    </tr>\n",
       "  </thead>\n",
       "  <tbody>\n",
       "    <tr>\n",
       "      <th>0</th>\n",
       "      <td>5.0</td>\n",
       "      <td>5</td>\n",
       "      <td>positive</td>\n",
       "    </tr>\n",
       "    <tr>\n",
       "      <th>1</th>\n",
       "      <td>5.0</td>\n",
       "      <td>5</td>\n",
       "      <td>positive</td>\n",
       "    </tr>\n",
       "    <tr>\n",
       "      <th>2</th>\n",
       "      <td>2.0</td>\n",
       "      <td>1</td>\n",
       "      <td>negative</td>\n",
       "    </tr>\n",
       "    <tr>\n",
       "      <th>3</th>\n",
       "      <td>1.0</td>\n",
       "      <td>1</td>\n",
       "      <td>negative</td>\n",
       "    </tr>\n",
       "    <tr>\n",
       "      <th>4</th>\n",
       "      <td>5.0</td>\n",
       "      <td>5</td>\n",
       "      <td>positive</td>\n",
       "    </tr>\n",
       "    <tr>\n",
       "      <th>...</th>\n",
       "      <td>...</td>\n",
       "      <td>...</td>\n",
       "      <td>...</td>\n",
       "    </tr>\n",
       "    <tr>\n",
       "      <th>95</th>\n",
       "      <td>4.0</td>\n",
       "      <td>5</td>\n",
       "      <td>positive</td>\n",
       "    </tr>\n",
       "    <tr>\n",
       "      <th>96</th>\n",
       "      <td>4.0</td>\n",
       "      <td>5</td>\n",
       "      <td>positive</td>\n",
       "    </tr>\n",
       "    <tr>\n",
       "      <th>97</th>\n",
       "      <td>5.0</td>\n",
       "      <td>5</td>\n",
       "      <td>positive</td>\n",
       "    </tr>\n",
       "    <tr>\n",
       "      <th>98</th>\n",
       "      <td>5.0</td>\n",
       "      <td>5</td>\n",
       "      <td>positive</td>\n",
       "    </tr>\n",
       "    <tr>\n",
       "      <th>99</th>\n",
       "      <td>5.0</td>\n",
       "      <td>5</td>\n",
       "      <td>positive</td>\n",
       "    </tr>\n",
       "  </tbody>\n",
       "</table>\n",
       "<p>100 rows × 3 columns</p>\n",
       "</div>"
      ],
      "text/plain": [
       "    True_labels  Bert_labels Roberta_labels\n",
       "0           5.0            5       positive\n",
       "1           5.0            5       positive\n",
       "2           2.0            1       negative\n",
       "3           1.0            1       negative\n",
       "4           5.0            5       positive\n",
       "..          ...          ...            ...\n",
       "95          4.0            5       positive\n",
       "96          4.0            5       positive\n",
       "97          5.0            5       positive\n",
       "98          5.0            5       positive\n",
       "99          5.0            5       positive\n",
       "\n",
       "[100 rows x 3 columns]"
      ]
     },
     "execution_count": 7,
     "metadata": {},
     "output_type": "execute_result"
    }
   ],
   "source": [
    "results"
   ]
  },
  {
   "cell_type": "code",
   "execution_count": 10,
   "metadata": {},
   "outputs": [
    {
     "data": {
      "text/plain": [
       "0         5.0\n",
       "1         4.0\n",
       "2         5.0\n",
       "3         1.0\n",
       "4         5.0\n",
       "         ... \n",
       "694169    4.0\n",
       "694170    1.0\n",
       "694171    5.0\n",
       "694172    5.0\n",
       "694173    4.0\n",
       "Name: rating, Length: 694174, dtype: float64"
      ]
     },
     "execution_count": 10,
     "metadata": {},
     "output_type": "execute_result"
    }
   ],
   "source": [
    "data.rating"
   ]
  },
  {
   "cell_type": "code",
   "execution_count": 2,
   "metadata": {},
   "outputs": [
    {
     "name": "stderr",
     "output_type": "stream",
     "text": [
      "Some weights of BertForSequenceClassification were not initialized from the model checkpoint at bert-base-uncased and are newly initialized: ['classifier.bias', 'classifier.weight']\n",
      "You should probably TRAIN this model on a down-stream task to be able to use it for predictions and inference.\n",
      "C:\\Users\\Michał\\AppData\\Local\\Packages\\PythonSoftwareFoundation.Python.3.11_qbz5n2kfra8p0\\LocalCache\\local-packages\\Python311\\site-packages\\transformers\\training_args.py:1575: FutureWarning: `evaluation_strategy` is deprecated and will be removed in version 4.46 of 🤗 Transformers. Use `eval_strategy` instead\n",
      "  warnings.warn(\n",
      "c:\\Users\\Michał\\Inżynierka\\Diploma-Project-Sentiment-analysis-based-on-products-reviews\\codes\\download_models.py:73: FutureWarning: `tokenizer` is deprecated and will be removed in version 5.0.0 for `Trainer.__init__`. Use `processing_class` instead.\n",
      "  trainer = Trainer(\n"
     ]
    },
    {
     "data": {
      "application/vnd.jupyter.widget-view+json": {
       "model_id": "ac7a1013d079444c83e328a1a82d8cc0",
       "version_major": 2,
       "version_minor": 0
      },
      "text/plain": [
       "  0%|          | 0/500 [00:00<?, ?it/s]"
      ]
     },
     "metadata": {},
     "output_type": "display_data"
    },
    {
     "name": "stdout",
     "output_type": "stream",
     "text": [
      "{'loss': 1.4401, 'grad_norm': 5.63077449798584, 'learning_rate': 1.9600000000000002e-05, 'epoch': 0.02}\n",
      "{'loss': 1.2284, 'grad_norm': 3.3437368869781494, 'learning_rate': 1.9200000000000003e-05, 'epoch': 0.04}\n",
      "{'loss': 1.1745, 'grad_norm': 5.744202136993408, 'learning_rate': 1.88e-05, 'epoch': 0.06}\n",
      "{'loss': 1.2025, 'grad_norm': 4.800166606903076, 'learning_rate': 1.8400000000000003e-05, 'epoch': 0.08}\n",
      "{'loss': 1.0854, 'grad_norm': 4.544494152069092, 'learning_rate': 1.8e-05, 'epoch': 0.1}\n",
      "{'loss': 0.9778, 'grad_norm': 4.147344589233398, 'learning_rate': 1.76e-05, 'epoch': 0.12}\n",
      "{'loss': 0.8351, 'grad_norm': 5.9279069900512695, 'learning_rate': 1.72e-05, 'epoch': 0.14}\n",
      "{'loss': 0.9975, 'grad_norm': 6.107423305511475, 'learning_rate': 1.6800000000000002e-05, 'epoch': 0.16}\n",
      "{'loss': 0.9153, 'grad_norm': 11.023545265197754, 'learning_rate': 1.64e-05, 'epoch': 0.18}\n",
      "{'loss': 0.9068, 'grad_norm': 13.029800415039062, 'learning_rate': 1.6000000000000003e-05, 'epoch': 0.2}\n",
      "{'loss': 0.9398, 'grad_norm': 9.691216468811035, 'learning_rate': 1.5600000000000003e-05, 'epoch': 0.22}\n",
      "{'loss': 0.865, 'grad_norm': 6.7717084884643555, 'learning_rate': 1.5200000000000002e-05, 'epoch': 0.24}\n",
      "{'loss': 0.8479, 'grad_norm': 6.274221420288086, 'learning_rate': 1.48e-05, 'epoch': 0.26}\n",
      "{'loss': 0.8866, 'grad_norm': 6.3968424797058105, 'learning_rate': 1.4400000000000001e-05, 'epoch': 0.28}\n",
      "{'loss': 0.8927, 'grad_norm': 6.719020366668701, 'learning_rate': 1.4e-05, 'epoch': 0.3}\n",
      "{'loss': 0.9364, 'grad_norm': 3.5537819862365723, 'learning_rate': 1.3600000000000002e-05, 'epoch': 0.32}\n",
      "{'loss': 0.7725, 'grad_norm': 8.45086669921875, 'learning_rate': 1.3200000000000002e-05, 'epoch': 0.34}\n",
      "{'loss': 0.9267, 'grad_norm': 8.523455619812012, 'learning_rate': 1.2800000000000001e-05, 'epoch': 0.36}\n",
      "{'loss': 0.802, 'grad_norm': 11.950135231018066, 'learning_rate': 1.2400000000000002e-05, 'epoch': 0.38}\n",
      "{'loss': 0.7626, 'grad_norm': 5.486020088195801, 'learning_rate': 1.2e-05, 'epoch': 0.4}\n",
      "{'loss': 0.8343, 'grad_norm': 5.994585990905762, 'learning_rate': 1.16e-05, 'epoch': 0.42}\n",
      "{'loss': 0.9079, 'grad_norm': 8.57361888885498, 'learning_rate': 1.1200000000000001e-05, 'epoch': 0.44}\n",
      "{'loss': 0.7868, 'grad_norm': 9.331697463989258, 'learning_rate': 1.0800000000000002e-05, 'epoch': 0.46}\n",
      "{'loss': 0.8684, 'grad_norm': 7.965742588043213, 'learning_rate': 1.04e-05, 'epoch': 0.48}\n",
      "{'loss': 0.7546, 'grad_norm': 6.976474761962891, 'learning_rate': 1e-05, 'epoch': 0.5}\n",
      "{'loss': 0.7812, 'grad_norm': 6.214212894439697, 'learning_rate': 9.600000000000001e-06, 'epoch': 0.52}\n",
      "{'loss': 0.8458, 'grad_norm': 7.337862968444824, 'learning_rate': 9.200000000000002e-06, 'epoch': 0.54}\n",
      "{'loss': 0.7694, 'grad_norm': 8.002059936523438, 'learning_rate': 8.8e-06, 'epoch': 0.56}\n",
      "{'loss': 0.7681, 'grad_norm': 9.72425365447998, 'learning_rate': 8.400000000000001e-06, 'epoch': 0.58}\n",
      "{'loss': 0.8609, 'grad_norm': 9.675886154174805, 'learning_rate': 8.000000000000001e-06, 'epoch': 0.6}\n",
      "{'loss': 0.8963, 'grad_norm': 5.488114356994629, 'learning_rate': 7.600000000000001e-06, 'epoch': 0.62}\n",
      "{'loss': 0.7461, 'grad_norm': 7.522836208343506, 'learning_rate': 7.2000000000000005e-06, 'epoch': 0.64}\n",
      "{'loss': 0.8694, 'grad_norm': 10.07046127319336, 'learning_rate': 6.800000000000001e-06, 'epoch': 0.66}\n",
      "{'loss': 0.807, 'grad_norm': 8.495424270629883, 'learning_rate': 6.4000000000000006e-06, 'epoch': 0.68}\n",
      "{'loss': 0.7389, 'grad_norm': 8.109094619750977, 'learning_rate': 6e-06, 'epoch': 0.7}\n",
      "{'loss': 0.8972, 'grad_norm': 9.407434463500977, 'learning_rate': 5.600000000000001e-06, 'epoch': 0.72}\n",
      "{'loss': 0.8676, 'grad_norm': 9.614180564880371, 'learning_rate': 5.2e-06, 'epoch': 0.74}\n",
      "{'loss': 0.7599, 'grad_norm': 6.366054534912109, 'learning_rate': 4.800000000000001e-06, 'epoch': 0.76}\n",
      "{'loss': 0.8175, 'grad_norm': 6.202464580535889, 'learning_rate': 4.4e-06, 'epoch': 0.78}\n",
      "{'loss': 0.7293, 'grad_norm': 8.24341869354248, 'learning_rate': 4.000000000000001e-06, 'epoch': 0.8}\n",
      "{'loss': 0.7076, 'grad_norm': 4.492023944854736, 'learning_rate': 3.6000000000000003e-06, 'epoch': 0.82}\n",
      "{'loss': 0.7217, 'grad_norm': 3.537040948867798, 'learning_rate': 3.2000000000000003e-06, 'epoch': 0.84}\n",
      "{'loss': 0.7078, 'grad_norm': 5.54879903793335, 'learning_rate': 2.8000000000000003e-06, 'epoch': 0.86}\n",
      "{'loss': 0.7512, 'grad_norm': 5.348017692565918, 'learning_rate': 2.4000000000000003e-06, 'epoch': 0.88}\n",
      "{'loss': 0.8914, 'grad_norm': 6.148202896118164, 'learning_rate': 2.0000000000000003e-06, 'epoch': 0.9}\n",
      "{'loss': 0.636, 'grad_norm': 5.001758098602295, 'learning_rate': 1.6000000000000001e-06, 'epoch': 0.92}\n",
      "{'loss': 0.9022, 'grad_norm': 12.779329299926758, 'learning_rate': 1.2000000000000002e-06, 'epoch': 0.94}\n",
      "{'loss': 0.8523, 'grad_norm': 8.0235595703125, 'learning_rate': 8.000000000000001e-07, 'epoch': 0.96}\n",
      "{'loss': 0.8228, 'grad_norm': 9.058752059936523, 'learning_rate': 4.0000000000000003e-07, 'epoch': 0.98}\n",
      "{'loss': 0.7306, 'grad_norm': 8.88233757019043, 'learning_rate': 0.0, 'epoch': 1.0}\n"
     ]
    },
    {
     "data": {
      "application/vnd.jupyter.widget-view+json": {
       "model_id": "138f948e1e79499cb4697cca635d23c4",
       "version_major": 2,
       "version_minor": 0
      },
      "text/plain": [
       "  0%|          | 0/250 [00:00<?, ?it/s]"
      ]
     },
     "metadata": {},
     "output_type": "display_data"
    },
    {
     "name": "stdout",
     "output_type": "stream",
     "text": [
      "{'eval_loss': 0.7888804078102112, 'eval_accuracy': 0.6920000314712524, 'eval_runtime': 3.9721, 'eval_samples_per_second': 503.508, 'eval_steps_per_second': 62.938, 'epoch': 1.0}\n",
      "{'train_runtime': 54.6303, 'train_samples_per_second': 146.402, 'train_steps_per_second': 9.152, 'train_loss': 0.8685219802856445, 'epoch': 1.0}\n"
     ]
    },
    {
     "data": {
      "application/vnd.jupyter.widget-view+json": {
       "model_id": "2ff6565047d345c281198d5af05b5d0a",
       "version_major": 2,
       "version_minor": 0
      },
      "text/plain": [
       "  0%|          | 0/250 [00:00<?, ?it/s]"
      ]
     },
     "metadata": {},
     "output_type": "display_data"
    }
   ],
   "source": [
    "from codes.download_models import download_and_tune_bert\n",
    "from codes.parameters import bert_model,categories\n",
    "from codes.downloader import load_reviews\n",
    "category = categories[0] \n",
    "data = load_reviews(category)\n",
    "download_and_tune_bert(bert_model.model_name,bert_model.local_path, data.head(10000))"
   ]
  },
  {
   "cell_type": "code",
   "execution_count": null,
   "metadata": {},
   "outputs": [],
   "source": []
  }
 ],
 "metadata": {
  "kernelspec": {
   "display_name": "Python 3",
   "language": "python",
   "name": "python3"
  },
  "language_info": {
   "codemirror_mode": {
    "name": "ipython",
    "version": 3
   },
   "file_extension": ".py",
   "mimetype": "text/x-python",
   "name": "python",
   "nbconvert_exporter": "python",
   "pygments_lexer": "ipython3",
   "version": "3.11.9"
  }
 },
 "nbformat": 4,
 "nbformat_minor": 2
}

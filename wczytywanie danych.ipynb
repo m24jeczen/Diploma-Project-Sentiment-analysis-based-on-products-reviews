{
 "cells": [
  {
   "cell_type": "markdown",
   "metadata": {},
   "source": [
    "# Dane Amazon Reviews\n",
    "## Kategoria Fashion\n",
    "link: https://amazon-reviews-2023.github.io/\n"
   ]
  },
  {
   "cell_type": "code",
   "execution_count": 14,
   "metadata": {},
   "outputs": [],
   "source": [
    "import json"
   ]
  },
  {
   "cell_type": "code",
   "execution_count": 15,
   "metadata": {},
   "outputs": [
    {
     "name": "stdout",
     "output_type": "stream",
     "text": [
      "c:\\Users\\User\\Desktop\\INŻYNIERKA\\Diploma-Project-Sentiment-analysis-based-on-products-reviews\n"
     ]
    }
   ],
   "source": [
    "import os\n",
    "current_working_directory = os.getcwd()\n",
    "print(current_working_directory)"
   ]
  },
  {
   "cell_type": "code",
   "execution_count": 16,
   "metadata": {},
   "outputs": [],
   "source": [
    "fashion_jsonl = 'c:\\\\Users\\\\User\\\\Desktop\\\\INŻYNIERKA\\\\data\\\\amazon_data\\\\Amazon_Fashion.jsonl'\n",
    "meta_fashion_jsonl = 'c:\\\\Users\\\\User\\\\Desktop\\\\INŻYNIERKA\\\\data\\\\amazon_data\\\\meta_Amazon_Fashion.jsonl'\n",
    "video_games_jsonl = 'c:\\\\Users\\\\User\\\\Desktop\\\\INŻYNIERKA\\\\data\\\\amazon_data\\\\Video_Games.jsonl'\n",
    "meta_video_games_jsonl = 'c:\\\\Users\\\\User\\\\Desktop\\\\INŻYNIERKA\\\\data\\\\amazon_data\\\\meta_Video_Games.jsonl'\n",
    "books_jsonl = 'c:\\\\Users\\\\User\\\\Desktop\\\\INŻYNIERKA\\\\data\\\\amazon_data\\\\Books.jsonl'\n",
    "meta_books_jsonl = 'c:\\\\Users\\\\User\\\\Desktop\\\\INŻYNIERKA\\\\data\\\\amazon_data\\\\meta_Books.jsonl'\n",
    "cell_Phones_and_Accessories = 'c:\\\\Users\\\\User\\\\Desktop\\\\INŻYNIERKA\\\\data\\\\amazon_data\\\\Cell_Phones_and_Accessories.jsonl'\n",
    "meta_cell_Phones_and_Accessories = 'c:\\\\Users\\\\User\\\\Desktop\\\\INŻYNIERKA\\\\data\\\\amazon_data\\\\meta_Cell_Phones_and_Accessories.jsonl'"
   ]
  },
  {
   "cell_type": "code",
   "execution_count": 17,
   "metadata": {},
   "outputs": [],
   "source": [
    "def show_n_first_lines(jsonl_file, n=10):\n",
    "    with open(jsonl_file, 'r', encoding='utf-8') as file:\n",
    "        for i, linia in enumerate(file):\n",
    "            if i >= n:\n",
    "                break  \n",
    "            obiekt = json.loads(linia)\n",
    "            print(obiekt)\n",
    "\n",
    "\n"
   ]
  },
  {
   "cell_type": "code",
   "execution_count": 18,
   "metadata": {},
   "outputs": [
    {
     "name": "stdout",
     "output_type": "stream",
     "text": [
      "{'rating': 5.0, 'title': 'Pretty locket', 'text': 'I think this locket is really pretty. The inside back is a solid silver depression and the front is a dome that is not solid (knotted). You could use it to store a small photo, lock of hair, etc but I use it when I need to carry medication with me. Closes securely. High quality & very pretty.', 'images': [], 'asin': 'B00LOPVX74', 'parent_asin': 'B00LOPVX74', 'user_id': 'AGBFYI2DDIKXC5Y4FARTYDTQBMFQ', 'timestamp': 1578528394489, 'helpful_vote': 3, 'verified_purchase': True}\n"
     ]
    }
   ],
   "source": [
    "show_n_first_lines(fashion_jsonl, 1)"
   ]
  },
  {
   "cell_type": "code",
   "execution_count": 19,
   "metadata": {},
   "outputs": [
    {
     "name": "stdout",
     "output_type": "stream",
     "text": [
      "{'main_category': 'AMAZON FASHION', 'title': \"YUEDGE 5 Pairs Men's Moisture Control Cushioned Dry Fit Casual Athletic Crew Socks for Men (Blue, Size 9-12)\", 'average_rating': 4.6, 'rating_number': 16, 'features': [], 'description': [], 'price': None, 'images': [{'thumb': 'https://m.media-amazon.com/images/I/41+cCfaVOFS._AC_SR38,50_.jpg', 'large': 'https://m.media-amazon.com/images/I/41+cCfaVOFS._AC_.jpg', 'variant': 'MAIN', 'hi_res': 'https://m.media-amazon.com/images/I/81XlFXImFrS._AC_UL1500_.jpg'}, {'thumb': 'https://m.media-amazon.com/images/I/41jBdP7etRS._AC_SR38,50_.jpg', 'large': 'https://m.media-amazon.com/images/I/41jBdP7etRS._AC_.jpg', 'variant': 'PT01', 'hi_res': 'https://m.media-amazon.com/images/I/61+yVkHHQ3S._AC_UL1200_.jpg'}, {'thumb': 'https://m.media-amazon.com/images/I/41UGJiRe7UL._AC_SR38,50_.jpg', 'large': 'https://m.media-amazon.com/images/I/41UGJiRe7UL._AC_.jpg', 'variant': 'PT02', 'hi_res': 'https://m.media-amazon.com/images/I/61vbh6sLR1L._AC_UL1200_.jpg'}, {'thumb': 'https://m.media-amazon.com/images/I/41zb4GR-lWS._AC_SR38,50_.jpg', 'large': 'https://m.media-amazon.com/images/I/41zb4GR-lWS._AC_.jpg', 'variant': 'PT03', 'hi_res': 'https://m.media-amazon.com/images/I/71tRVQuan7S._AC_UL1500_.jpg'}, {'thumb': 'https://m.media-amazon.com/images/I/612BT4t-uFL._AC_SR38,50_.jpg', 'large': 'https://m.media-amazon.com/images/I/612BT4t-uFL._AC_.jpg', 'variant': 'PT04', 'hi_res': 'https://m.media-amazon.com/images/I/81BvTztKWGL._AC_UL1200_.jpg'}, {'thumb': 'https://m.media-amazon.com/images/I/51ExLGv3QwL._AC_SR38,50_.jpg', 'large': 'https://m.media-amazon.com/images/I/51ExLGv3QwL._AC_.jpg', 'variant': 'PT05', 'hi_res': 'https://m.media-amazon.com/images/I/71LytMHW9ML._AC_UL1200_.jpg'}, {'thumb': 'https://m.media-amazon.com/images/I/313iU0xDEkS._AC_SR38,50_.jpg', 'large': 'https://m.media-amazon.com/images/I/313iU0xDEkS._AC_.jpg', 'variant': 'PT06', 'hi_res': 'https://m.media-amazon.com/images/I/71wJKMbj5cS._AC_UL1500_.jpg'}], 'videos': [], 'store': 'GiveGift', 'categories': [], 'details': {'Package Dimensions': '10.31 x 8.5 x 1.73 inches; 14.82 Ounces', 'Item model number': 'DHES5PM21DH12', 'Date First Available': 'February 12, 2021'}, 'parent_asin': 'B08BHN9PK5', 'bought_together': None}\n"
     ]
    }
   ],
   "source": [
    "show_n_first_lines(meta_fashion_jsonl,n=1)"
   ]
  },
  {
   "cell_type": "code",
   "execution_count": 20,
   "metadata": {},
   "outputs": [],
   "source": [
    "columns = set()\n",
    "\n",
    "def show_n_first_lines_and_column_names(jsonl_file, n=3): \n",
    "    with open(jsonl_file, 'r', encoding='utf-8') as file:\n",
    "        for i, linia in enumerate(file):\n",
    "            if i >= n:\n",
    "                break  \n",
    "            obiekt = json.loads(linia)\n",
    "            columns.update(obiekt.keys())\n",
    "            print(f\"Record {i+1}: {obiekt}\")\n",
    "    print(f'\\nColumns count: {len(columns)}')\n",
    "    print('Column names:')\n",
    "    for column in sorted(columns):\n",
    "        print(column)\n"
   ]
  },
  {
   "cell_type": "code",
   "execution_count": 21,
   "metadata": {},
   "outputs": [
    {
     "name": "stdout",
     "output_type": "stream",
     "text": [
      "Record 1: {'rating': 5.0, 'title': 'Pretty locket', 'text': 'I think this locket is really pretty. The inside back is a solid silver depression and the front is a dome that is not solid (knotted). You could use it to store a small photo, lock of hair, etc but I use it when I need to carry medication with me. Closes securely. High quality & very pretty.', 'images': [], 'asin': 'B00LOPVX74', 'parent_asin': 'B00LOPVX74', 'user_id': 'AGBFYI2DDIKXC5Y4FARTYDTQBMFQ', 'timestamp': 1578528394489, 'helpful_vote': 3, 'verified_purchase': True}\n",
      "\n",
      "Columns count: 10\n",
      "Column names:\n",
      "asin\n",
      "helpful_vote\n",
      "images\n",
      "parent_asin\n",
      "rating\n",
      "text\n",
      "timestamp\n",
      "title\n",
      "user_id\n",
      "verified_purchase\n"
     ]
    }
   ],
   "source": [
    "show_n_first_lines_and_column_names(fashion_jsonl, 1)"
   ]
  },
  {
   "cell_type": "code",
   "execution_count": 22,
   "metadata": {},
   "outputs": [
    {
     "name": "stdout",
     "output_type": "stream",
     "text": [
      "Record 1: {'main_category': 'AMAZON FASHION', 'title': \"YUEDGE 5 Pairs Men's Moisture Control Cushioned Dry Fit Casual Athletic Crew Socks for Men (Blue, Size 9-12)\", 'average_rating': 4.6, 'rating_number': 16, 'features': [], 'description': [], 'price': None, 'images': [{'thumb': 'https://m.media-amazon.com/images/I/41+cCfaVOFS._AC_SR38,50_.jpg', 'large': 'https://m.media-amazon.com/images/I/41+cCfaVOFS._AC_.jpg', 'variant': 'MAIN', 'hi_res': 'https://m.media-amazon.com/images/I/81XlFXImFrS._AC_UL1500_.jpg'}, {'thumb': 'https://m.media-amazon.com/images/I/41jBdP7etRS._AC_SR38,50_.jpg', 'large': 'https://m.media-amazon.com/images/I/41jBdP7etRS._AC_.jpg', 'variant': 'PT01', 'hi_res': 'https://m.media-amazon.com/images/I/61+yVkHHQ3S._AC_UL1200_.jpg'}, {'thumb': 'https://m.media-amazon.com/images/I/41UGJiRe7UL._AC_SR38,50_.jpg', 'large': 'https://m.media-amazon.com/images/I/41UGJiRe7UL._AC_.jpg', 'variant': 'PT02', 'hi_res': 'https://m.media-amazon.com/images/I/61vbh6sLR1L._AC_UL1200_.jpg'}, {'thumb': 'https://m.media-amazon.com/images/I/41zb4GR-lWS._AC_SR38,50_.jpg', 'large': 'https://m.media-amazon.com/images/I/41zb4GR-lWS._AC_.jpg', 'variant': 'PT03', 'hi_res': 'https://m.media-amazon.com/images/I/71tRVQuan7S._AC_UL1500_.jpg'}, {'thumb': 'https://m.media-amazon.com/images/I/612BT4t-uFL._AC_SR38,50_.jpg', 'large': 'https://m.media-amazon.com/images/I/612BT4t-uFL._AC_.jpg', 'variant': 'PT04', 'hi_res': 'https://m.media-amazon.com/images/I/81BvTztKWGL._AC_UL1200_.jpg'}, {'thumb': 'https://m.media-amazon.com/images/I/51ExLGv3QwL._AC_SR38,50_.jpg', 'large': 'https://m.media-amazon.com/images/I/51ExLGv3QwL._AC_.jpg', 'variant': 'PT05', 'hi_res': 'https://m.media-amazon.com/images/I/71LytMHW9ML._AC_UL1200_.jpg'}, {'thumb': 'https://m.media-amazon.com/images/I/313iU0xDEkS._AC_SR38,50_.jpg', 'large': 'https://m.media-amazon.com/images/I/313iU0xDEkS._AC_.jpg', 'variant': 'PT06', 'hi_res': 'https://m.media-amazon.com/images/I/71wJKMbj5cS._AC_UL1500_.jpg'}], 'videos': [], 'store': 'GiveGift', 'categories': [], 'details': {'Package Dimensions': '10.31 x 8.5 x 1.73 inches; 14.82 Ounces', 'Item model number': 'DHES5PM21DH12', 'Date First Available': 'February 12, 2021'}, 'parent_asin': 'B08BHN9PK5', 'bought_together': None}\n",
      "Record 2: {'main_category': 'AMAZON FASHION', 'title': \"DouBCQ Women's Palazzo Lounge Wide Leg Casual Flowy Pants(Flower Mix Blue, XL)\", 'average_rating': 4.1, 'rating_number': 7, 'features': ['Drawstring closure', 'Machine Wash'], 'description': [], 'price': None, 'images': [{'thumb': 'https://m.media-amazon.com/images/I/515cR-ta1EL._AC_SR38,50_.jpg', 'large': 'https://m.media-amazon.com/images/I/515cR-ta1EL._AC_.jpg', 'variant': 'MAIN', 'hi_res': 'https://m.media-amazon.com/images/I/91Z4G2jlFeL._AC_UL1500_.jpg'}, {'thumb': 'https://m.media-amazon.com/images/I/51Dyk8PiO7L._AC_SR38,50_.jpg', 'large': 'https://m.media-amazon.com/images/I/51Dyk8PiO7L._AC_.jpg', 'variant': 'PT01', 'hi_res': 'https://m.media-amazon.com/images/I/91nZpeWHn-L._AC_UL1500_.jpg'}, {'thumb': 'https://m.media-amazon.com/images/I/51MS48eV8XL._AC_SR38,50_.jpg', 'large': 'https://m.media-amazon.com/images/I/51MS48eV8XL._AC_.jpg', 'variant': 'PT02', 'hi_res': 'https://m.media-amazon.com/images/I/91aCjCS6e0L._AC_UL1500_.jpg'}], 'videos': [], 'store': 'DouBCQ', 'categories': [], 'details': {'Package Dimensions': '15 x 10.2 x 0.4 inches; 9.59 Ounces', 'Item model number': 'Drop Crotch', 'Date First Available': 'February 5, 2021'}, 'parent_asin': 'B08R39MRDW', 'bought_together': None}\n",
      "Record 3: {'main_category': 'AMAZON FASHION', 'title': \"Pastel by Vivienne Honey Vanilla Girls' Trapeze Dress with Easy Removable Label Large 9-10 Years Navy\", 'average_rating': 4.3, 'rating_number': 11, 'features': ['Zipper closure', 'Hand Wash Only'], 'description': [], 'price': None, 'images': [{'thumb': 'https://m.media-amazon.com/images/I/31GwmwNCdAL._AC_SR38,50_.jpg', 'large': 'https://m.media-amazon.com/images/I/31GwmwNCdAL._AC_.jpg', 'variant': 'MAIN', 'hi_res': 'https://m.media-amazon.com/images/I/612-CtsBAvL._AC_UL1500_.jpg'}, {'thumb': 'https://m.media-amazon.com/images/I/314fak19lKL._AC_SR38,50_.jpg', 'large': 'https://m.media-amazon.com/images/I/314fak19lKL._AC_.jpg', 'variant': 'PT01', 'hi_res': 'https://m.media-amazon.com/images/I/61nnlxsYhZL._AC_UL1500_.jpg'}, {'thumb': 'https://m.media-amazon.com/images/I/315u9+LVroL._AC_SR38,50_.jpg', 'large': 'https://m.media-amazon.com/images/I/315u9+LVroL._AC_.jpg', 'variant': 'PT02', 'hi_res': 'https://m.media-amazon.com/images/I/613At4OGLOL._AC_UL1500_.jpg'}, {'thumb': 'https://m.media-amazon.com/images/I/31nh+KU31cL._AC_SR38,50_.jpg', 'large': 'https://m.media-amazon.com/images/I/31nh+KU31cL._AC_.jpg', 'variant': 'PT03', 'hi_res': 'https://m.media-amazon.com/images/I/51MZdXHAcPL._AC_UL1444_.jpg'}], 'videos': [], 'store': 'Pastel by Vivienne', 'categories': [], 'details': {'Is Discontinued By Manufacturer': 'No', 'Package Dimensions': '8.98 x 7.95 x 0.98 inches; 6.24 Ounces', 'Item model number': 'RJ-K140NA-LRG', 'Date First Available': 'November 11, 2018'}, 'parent_asin': 'B077KJHCJ4', 'bought_together': None}\n",
      "\n",
      "Columns count: 21\n",
      "Column names:\n",
      "asin\n",
      "average_rating\n",
      "bought_together\n",
      "categories\n",
      "description\n",
      "details\n",
      "features\n",
      "helpful_vote\n",
      "images\n",
      "main_category\n",
      "parent_asin\n",
      "price\n",
      "rating\n",
      "rating_number\n",
      "store\n",
      "text\n",
      "timestamp\n",
      "title\n",
      "user_id\n",
      "verified_purchase\n",
      "videos\n"
     ]
    }
   ],
   "source": [
    "show_n_first_lines_and_column_names(meta_fashion_jsonl)"
   ]
  },
  {
   "cell_type": "code",
   "execution_count": 23,
   "metadata": {},
   "outputs": [],
   "source": [
    "def count_records(jsonl_file):\n",
    "    record_count = 0\n",
    "    with open(jsonl_file, 'r', encoding='utf-8') as file:\n",
    "        for line in file:\n",
    "            record_count += 1\n",
    "    print(f'Records count: {record_count}')"
   ]
  },
  {
   "cell_type": "code",
   "execution_count": 24,
   "metadata": {},
   "outputs": [
    {
     "name": "stdout",
     "output_type": "stream",
     "text": [
      "Records count: 2500939\n"
     ]
    }
   ],
   "source": [
    "count_records(fashion_jsonl)"
   ]
  },
  {
   "cell_type": "code",
   "execution_count": 25,
   "metadata": {},
   "outputs": [],
   "source": [
    "def count_nulls_or_empty_strings_in_each_col(jsonl_file):\n",
    "    from collections import defaultdict\n",
    "\n",
    "    null_counts = defaultdict(int)\n",
    "\n",
    "    with open(jsonl_file, 'r', encoding='utf-8') as file:\n",
    "        for line in file:\n",
    "            record = json.loads(line)\n",
    "\n",
    "            for key, value in record.items():\n",
    "                if value is None or value=='':\n",
    "                    null_counts[key] +=1\n",
    "\n",
    "    print('Number of null or empty values in columns:')\n",
    "    for column, count in null_counts.items():\n",
    "        print(f'{column}: {count}')\n",
    "        print(f'Precent of {column} nulls or empty values in all: {(count/record_count)*100}%')"
   ]
  },
  {
   "cell_type": "code",
   "execution_count": 26,
   "metadata": {},
   "outputs": [
    {
     "name": "stdout",
     "output_type": "stream",
     "text": [
      "Number of null or empty values in columns:\n",
      "price: 775859\n"
     ]
    },
    {
     "ename": "NameError",
     "evalue": "name 'record_count' is not defined",
     "output_type": "error",
     "traceback": [
      "\u001b[1;31m---------------------------------------------------------------------------\u001b[0m",
      "\u001b[1;31mNameError\u001b[0m                                 Traceback (most recent call last)",
      "Cell \u001b[1;32mIn[26], line 1\u001b[0m\n\u001b[1;32m----> 1\u001b[0m \u001b[43mcount_nulls_or_empty_strings_in_each_col\u001b[49m\u001b[43m(\u001b[49m\u001b[43mmeta_fashion_jsonl\u001b[49m\u001b[43m)\u001b[49m\n",
      "Cell \u001b[1;32mIn[25], line 17\u001b[0m, in \u001b[0;36mcount_nulls_or_empty_strings_in_each_col\u001b[1;34m(jsonl_file)\u001b[0m\n\u001b[0;32m     15\u001b[0m \u001b[38;5;28;01mfor\u001b[39;00m column, count \u001b[38;5;129;01min\u001b[39;00m null_counts\u001b[38;5;241m.\u001b[39mitems():\n\u001b[0;32m     16\u001b[0m     \u001b[38;5;28mprint\u001b[39m(\u001b[38;5;124mf\u001b[39m\u001b[38;5;124m'\u001b[39m\u001b[38;5;132;01m{\u001b[39;00mcolumn\u001b[38;5;132;01m}\u001b[39;00m\u001b[38;5;124m: \u001b[39m\u001b[38;5;132;01m{\u001b[39;00mcount\u001b[38;5;132;01m}\u001b[39;00m\u001b[38;5;124m'\u001b[39m)\n\u001b[1;32m---> 17\u001b[0m     \u001b[38;5;28mprint\u001b[39m(\u001b[38;5;124mf\u001b[39m\u001b[38;5;124m'\u001b[39m\u001b[38;5;124mPrecent of \u001b[39m\u001b[38;5;132;01m{\u001b[39;00mcolumn\u001b[38;5;132;01m}\u001b[39;00m\u001b[38;5;124m nulls or empty values in all: \u001b[39m\u001b[38;5;132;01m{\u001b[39;00m(count\u001b[38;5;241m/\u001b[39m\u001b[43mrecord_count\u001b[49m)\u001b[38;5;241m*\u001b[39m\u001b[38;5;241m100\u001b[39m\u001b[38;5;132;01m}\u001b[39;00m\u001b[38;5;124m%\u001b[39m\u001b[38;5;124m'\u001b[39m)\n",
      "\u001b[1;31mNameError\u001b[0m: name 'record_count' is not defined"
     ]
    }
   ],
   "source": [
    "count_nulls_or_empty_strings_in_each_col(meta_fashion_jsonl)"
   ]
  },
  {
   "cell_type": "code",
   "execution_count": null,
   "metadata": {},
   "outputs": [
    {
     "name": "stdout",
     "output_type": "stream",
     "text": [
      "Number of null or empty values in columns:\n",
      "text: 692\n",
      "Precent of text nulls or empty values in all: 0.02766960729549981%\n"
     ]
    }
   ],
   "source": [
    "count_nulls_or_empty_strings_in_each_col(fashion_jsonl)"
   ]
  },
  {
   "cell_type": "code",
   "execution_count": null,
   "metadata": {},
   "outputs": [],
   "source": [
    "def text_column_length_info(jsonl_file):\n",
    "    string_lengths = []\n",
    "    with open(jsonl_file, 'r', encoding='utf-8') as file:\n",
    "        for line in file:\n",
    "            record = json.loads(line)\n",
    "\n",
    "            for key,value in record.items():\n",
    "                if key=='text' and isinstance(value, str) and value.strip():\n",
    "                    string_lengths.append(len(value))\n",
    "\n",
    "    min_length = min(string_lengths)\n",
    "    max_length = max(string_lengths)\n",
    "    avg_length = sum(string_lengths) / len(string_lengths)\n",
    "\n",
    "    print(f'Minimum string length: {min_length}')\n",
    "    print(f'Maximum string length: {max_length}')\n",
    "    print(f'Average string length: {avg_length:.2f}')"
   ]
  },
  {
   "cell_type": "code",
   "execution_count": null,
   "metadata": {},
   "outputs": [
    {
     "name": "stdout",
     "output_type": "stream",
     "text": [
      "Minimum string length: 1\n",
      "Maximum string length: 13377\n",
      "Average string length: 142.32\n"
     ]
    }
   ],
   "source": [
    "text_column_length_info(fashion_jsonl)"
   ]
  },
  {
   "cell_type": "markdown",
   "metadata": {},
   "source": [
    "## Kategoria Video Games\n"
   ]
  },
  {
   "cell_type": "code",
   "execution_count": null,
   "metadata": {},
   "outputs": [
    {
     "name": "stdout",
     "output_type": "stream",
     "text": [
      "{'rating': 4.0, 'title': 'It’s pretty sexual. Not my fav', 'text': 'I’m playing on ps5 and it’s interesting.  It’s unique, massive, and has a neat story.  People are freaking out angry about this game.  I don’t think it’s a top 10 game but it’s definitely a good game on ps5 (played at launch).', 'images': [], 'asin': 'B07DJWBYKP', 'parent_asin': 'B07DK1H3H5', 'user_id': 'AGCI7FAH4GL5FI65HYLKWTMFZ2CQ', 'timestamp': 1608186804795, 'helpful_vote': 0, 'verified_purchase': True}\n",
      "{'rating': 5.0, 'title': 'Good. A bit slow', 'text': 'Nostalgic fun.  A bit slow.  I hope they don’t stretch it out too far.  It’s good tho', 'images': [], 'asin': 'B00ZS80PC2', 'parent_asin': 'B07SRWRH5D', 'user_id': 'AGCI7FAH4GL5FI65HYLKWTMFZ2CQ', 'timestamp': 1587051114941, 'helpful_vote': 1, 'verified_purchase': False}\n",
      "{'rating': 5.0, 'title': '... an order for my kids & they have really enjoyed playing this PC game', 'text': 'This was an order for my kids & they have really enjoyed playing this PC game.', 'images': [], 'asin': 'B01FEHJYUU', 'parent_asin': 'B07MFMFW34', 'user_id': 'AGXVBIUFLFGMVLATYXHJYL4A5Q7Q', 'timestamp': 1490877431000, 'helpful_vote': 0, 'verified_purchase': True}\n",
      "{'rating': 5.0, 'title': 'Great alt to pro controller', 'text': 'These work great, They use batteries which is a bummer, but for the 40 less that i paid its worth it. Batteries last a long time. Have been using to play rocket league on the switch with no issues', 'images': [], 'asin': 'B07GXJHRVK', 'parent_asin': 'B0BCHWZX95', 'user_id': 'AFTC6ZR5IKNRDG5JCPVNVMU3XV2Q', 'timestamp': 1577637634017, 'helpful_vote': 0, 'verified_purchase': True}\n",
      "{'rating': 5.0, 'title': 'solid product', 'text': 'I would recommend to anyone looking to add just a little bit of height and a lot of grip to their thumb sticks. These will not create miracles, but it will give you better leverage for shooters.', 'images': [], 'asin': 'B00HUWA45W', 'parent_asin': 'B00HUWA45W', 'user_id': 'AFTC6ZR5IKNRDG5JCPVNVMU3XV2Q', 'timestamp': 1427591932000, 'helpful_vote': 0, 'verified_purchase': True}\n",
      "{'rating': 3.0, 'title': 'love all the amazing colors but the black is really ...', 'text': 'love all the amazing colors but the black is really hard to see and I always have to have another form of a light on to use the key board now', 'images': [], 'asin': 'B016Y2BVKA', 'parent_asin': 'B073SC6V1D', 'user_id': 'AHXSBZT52TCPZUBVCBRICTHWUCBA', 'timestamp': 1518124539574, 'helpful_vote': 0, 'verified_purchase': True}\n",
      "{'rating': 5.0, 'title': 'Will use again', 'text': 'Instant delivery!', 'images': [], 'asin': 'B004RMK57U', 'parent_asin': 'B004RMK57U', 'user_id': 'AHZIJGKEWRTAEOZ673G5B3SNXEGQ', 'timestamp': 1602937709361, 'helpful_vote': 0, 'verified_purchase': True}\n",
      "{'rating': 5.0, 'title': \"if its prime day and you're contemplating, just stop -- do it.\", 'text': \"you should probably get these. you'll journal about the next-level experience, or at least sit there and revel for a couple min. honestly, it's like you've never heard footsteps before. or windows systems settings. they recommend against using 7.1 surround sound on microsoft teams and skype -- but nobody said SMACK about zoom. these professors be twich streamin asmr evry time they take a drink of their 'make me talky' water. sometimes it blocks out my boyfriends nonsense caveman grumblins while hes playing rocket league and im on the sims, or i guess you can turn up the ambience and pretend you cant hear someone unironically ironically screaming POGGERS every 3 min. great deal on prime day btw. now, razer, or amazon, whoever comes first, just keep the discounts for the next year please so I can sell my last kidney to afford the rest of my pc build. thanks. cheers xx<br /><br />ps. half-joking about the selling my organs thing and poggers thing. kind of. hook it up for ur fav broke AF college graphic designer, would you pleaseee. :) &lt;3\", 'images': [{'small_image_url': 'https://images-na.ssl-images-amazon.com/images/I/41bzyynuwTL._SL256_.jpg', 'medium_image_url': 'https://images-na.ssl-images-amazon.com/images/I/41bzyynuwTL._SL800_.jpg', 'large_image_url': 'https://images-na.ssl-images-amazon.com/images/I/41bzyynuwTL._SL1600_.jpg', 'attachment_type': 'IMAGE'}, {'small_image_url': 'https://images-na.ssl-images-amazon.com/images/I/7104ErJuizL._SL256_.jpg', 'medium_image_url': 'https://images-na.ssl-images-amazon.com/images/I/7104ErJuizL._SL800_.jpg', 'large_image_url': 'https://images-na.ssl-images-amazon.com/images/I/7104ErJuizL._SL1600_.jpg', 'attachment_type': 'IMAGE'}, {'small_image_url': 'https://images-na.ssl-images-amazon.com/images/I/71IRNwL2DkL._SL256_.jpg', 'medium_image_url': 'https://images-na.ssl-images-amazon.com/images/I/71IRNwL2DkL._SL800_.jpg', 'large_image_url': 'https://images-na.ssl-images-amazon.com/images/I/71IRNwL2DkL._SL1600_.jpg', 'attachment_type': 'IMAGE'}], 'asin': 'B07N85FY1G', 'parent_asin': 'B0BYVN9ZK2', 'user_id': 'AFO6QN6ICKWUFQV3UEWK5EECIQTQ', 'timestamp': 1602718512453, 'helpful_vote': 0, 'verified_purchase': False}\n",
      "{'rating': 5.0, 'title': 'Price bumps it up from 4 stars', 'text': \"*it fits TWO wired Retro-bit 6 button controllers. Yes, the ones with the 8 ft cables.<br />Plus, a cut-out area for the console, and the factory hdmi and power supply fit it the lid pouch.<br /><br />warning: the stock 3 button controllers won't fit<br /><br />great simple case with good stamp-cut foam padding\", 'images': [], 'asin': 'B08L6782X9', 'parent_asin': 'B08L6782X9', 'user_id': 'AG6BAEKWLCWH2TW3KKLVK773YF6A', 'timestamp': 1621448670253, 'helpful_vote': 0, 'verified_purchase': True}\n",
      "{'rating': 1.0, 'title': \"It's an Auto-renew scam\", 'text': 'Sony and Amazon are collaborating in an Auto-renew scam<br /><br />Buying this turns on Auto-renew allowing Sony to charge double the annual fee<br /><br />Sony is exploiting the financially challenged, Amazon gets kickbacks, and people who deserved to be burned alive are unscathed.', 'images': [], 'asin': 'B017V6YVDC', 'parent_asin': 'B017V6YVDC', 'user_id': 'AG6BAEKWLCWH2TW3KKLVK773YF6A', 'timestamp': 1607734474794, 'helpful_vote': 2, 'verified_purchase': True}\n"
     ]
    }
   ],
   "source": [
    "show_n_first_lines(video_games_jsonl)"
   ]
  },
  {
   "cell_type": "code",
   "execution_count": null,
   "metadata": {},
   "outputs": [
    {
     "name": "stdout",
     "output_type": "stream",
     "text": [
      "Record 1: {'rating': 4.0, 'title': 'It’s pretty sexual. Not my fav', 'text': 'I’m playing on ps5 and it’s interesting.  It’s unique, massive, and has a neat story.  People are freaking out angry about this game.  I don’t think it’s a top 10 game but it’s definitely a good game on ps5 (played at launch).', 'images': [], 'asin': 'B07DJWBYKP', 'parent_asin': 'B07DK1H3H5', 'user_id': 'AGCI7FAH4GL5FI65HYLKWTMFZ2CQ', 'timestamp': 1608186804795, 'helpful_vote': 0, 'verified_purchase': True}\n",
      "Record 2: {'rating': 5.0, 'title': 'Good. A bit slow', 'text': 'Nostalgic fun.  A bit slow.  I hope they don’t stretch it out too far.  It’s good tho', 'images': [], 'asin': 'B00ZS80PC2', 'parent_asin': 'B07SRWRH5D', 'user_id': 'AGCI7FAH4GL5FI65HYLKWTMFZ2CQ', 'timestamp': 1587051114941, 'helpful_vote': 1, 'verified_purchase': False}\n",
      "Record 3: {'rating': 5.0, 'title': '... an order for my kids & they have really enjoyed playing this PC game', 'text': 'This was an order for my kids & they have really enjoyed playing this PC game.', 'images': [], 'asin': 'B01FEHJYUU', 'parent_asin': 'B07MFMFW34', 'user_id': 'AGXVBIUFLFGMVLATYXHJYL4A5Q7Q', 'timestamp': 1490877431000, 'helpful_vote': 0, 'verified_purchase': True}\n",
      "\n",
      "Columns count: 10\n",
      "Column names:\n",
      "asin\n",
      "helpful_vote\n",
      "images\n",
      "parent_asin\n",
      "rating\n",
      "text\n",
      "timestamp\n",
      "title\n",
      "user_id\n",
      "verified_purchase\n"
     ]
    }
   ],
   "source": [
    "show_n_first_lines_and_column_names(video_games_jsonl)"
   ]
  },
  {
   "cell_type": "code",
   "execution_count": null,
   "metadata": {},
   "outputs": [
    {
     "name": "stdout",
     "output_type": "stream",
     "text": [
      "Fashion records count: 4624615\n"
     ]
    }
   ],
   "source": [
    "count_records(video_games_jsonl)"
   ]
  },
  {
   "cell_type": "code",
   "execution_count": null,
   "metadata": {},
   "outputs": [
    {
     "name": "stdout",
     "output_type": "stream",
     "text": [
      "Number of null or empty values in columns:\n",
      "text: 323\n",
      "Precent of text nulls or empty values in all: 0.012915149070009303%\n"
     ]
    }
   ],
   "source": [
    "count_nulls_or_empty_strings_in_each_col(video_games_jsonl)"
   ]
  },
  {
   "cell_type": "code",
   "execution_count": 27,
   "metadata": {},
   "outputs": [
    {
     "name": "stdout",
     "output_type": "stream",
     "text": [
      "Minimum string length: 1\n",
      "Maximum string length: 36893\n",
      "Average string length: 307.83\n"
     ]
    }
   ],
   "source": [
    "text_column_length_info(video_games_jsonl)"
   ]
  },
  {
   "cell_type": "markdown",
   "metadata": {},
   "source": [
    "## Kategoria Books"
   ]
  },
  {
   "cell_type": "code",
   "execution_count": 28,
   "metadata": {},
   "outputs": [
    {
     "name": "stdout",
     "output_type": "stream",
     "text": [
      "Records count: 29475453\n"
     ]
    }
   ],
   "source": [
    "count_records(books_jsonl)"
   ]
  },
  {
   "cell_type": "code",
   "execution_count": 29,
   "metadata": {},
   "outputs": [
    {
     "name": "stdout",
     "output_type": "stream",
     "text": [
      "Record 1: {'rating': 1.0, 'title': 'Not a watercolor book! Seems like copies imo.', 'text': 'It is definitely not a watercolor book.  The paper bucked completely.  The pages honestly appear to be photo copies of other pictures. I say that bc if you look at the seal pics you can see the tell tale line at the bottom of the page.  As someone who has made many photocopies of pages in my time so I could try out different colors & mediums that black line is a dead giveaway to me. It’s on other pages too.  The entire book just seems off. Nothing is sharp & clear. There is what looks like toner dust on all the pages making them look muddy.  There are no sharp lines & there is no clear definition.  At least there isn’t in my copy.  And the Coloring Book for Adult on the bottom of the front cover annoys me. Why is it singular & not plural?  They usually say coloring book for kids or coloring book for kids & adults or coloring book for adults- plural.  Lol  Plus it would work for kids if you can get over the grey scale nature of it.  Personally I’m not going to waste expensive pens & paints trying to paint over the grey & black mess.  I grew up in SW Florida minutes from the beaches & I was really excited about the sea life in this. I hope the printers & designers figure out how to clean up the mess bc some of the designs are really cute. They just aren’t worth my time to hand trace & transfer them, but I’m sure there are ppl that will be up to the challenge.  This is one is a hard no. Going back. I tried.', 'images': [{'small_image_url': 'https://m.media-amazon.com/images/I/516HBU7LQoL._SL256_.jpg', 'medium_image_url': 'https://m.media-amazon.com/images/I/516HBU7LQoL._SL800_.jpg', 'large_image_url': 'https://m.media-amazon.com/images/I/516HBU7LQoL._SL1600_.jpg', 'attachment_type': 'IMAGE'}, {'small_image_url': 'https://m.media-amazon.com/images/I/71+XwcacMmL._SL256_.jpg', 'medium_image_url': 'https://m.media-amazon.com/images/I/71+XwcacMmL._SL800_.jpg', 'large_image_url': 'https://m.media-amazon.com/images/I/71+XwcacMmL._SL1600_.jpg', 'attachment_type': 'IMAGE'}, {'small_image_url': 'https://m.media-amazon.com/images/I/71RbTuvD1ZL._SL256_.jpg', 'medium_image_url': 'https://m.media-amazon.com/images/I/71RbTuvD1ZL._SL800_.jpg', 'large_image_url': 'https://m.media-amazon.com/images/I/71RbTuvD1ZL._SL1600_.jpg', 'attachment_type': 'IMAGE'}, {'small_image_url': 'https://m.media-amazon.com/images/I/71U63wdOeZL._SL256_.jpg', 'medium_image_url': 'https://m.media-amazon.com/images/I/71U63wdOeZL._SL800_.jpg', 'large_image_url': 'https://m.media-amazon.com/images/I/71U63wdOeZL._SL1600_.jpg', 'attachment_type': 'IMAGE'}, {'small_image_url': 'https://m.media-amazon.com/images/I/71WFEDyKcKL._SL256_.jpg', 'medium_image_url': 'https://m.media-amazon.com/images/I/71WFEDyKcKL._SL800_.jpg', 'large_image_url': 'https://m.media-amazon.com/images/I/71WFEDyKcKL._SL1600_.jpg', 'attachment_type': 'IMAGE'}, {'small_image_url': 'https://m.media-amazon.com/images/I/8109NwjpHKL._SL256_.jpg', 'medium_image_url': 'https://m.media-amazon.com/images/I/8109NwjpHKL._SL800_.jpg', 'large_image_url': 'https://m.media-amazon.com/images/I/8109NwjpHKL._SL1600_.jpg', 'attachment_type': 'IMAGE'}, {'small_image_url': 'https://m.media-amazon.com/images/I/814gxfh8wcL._SL256_.jpg', 'medium_image_url': 'https://m.media-amazon.com/images/I/814gxfh8wcL._SL800_.jpg', 'large_image_url': 'https://m.media-amazon.com/images/I/814gxfh8wcL._SL1600_.jpg', 'attachment_type': 'IMAGE'}, {'small_image_url': 'https://m.media-amazon.com/images/I/81HC0vKRC2L._SL256_.jpg', 'medium_image_url': 'https://m.media-amazon.com/images/I/81HC0vKRC2L._SL800_.jpg', 'large_image_url': 'https://m.media-amazon.com/images/I/81HC0vKRC2L._SL1600_.jpg', 'attachment_type': 'IMAGE'}, {'small_image_url': 'https://m.media-amazon.com/images/I/81Nx6BnRLxL._SL256_.jpg', 'medium_image_url': 'https://m.media-amazon.com/images/I/81Nx6BnRLxL._SL800_.jpg', 'large_image_url': 'https://m.media-amazon.com/images/I/81Nx6BnRLxL._SL1600_.jpg', 'attachment_type': 'IMAGE'}, {'small_image_url': 'https://m.media-amazon.com/images/I/81QQMwBcVPL._SL256_.jpg', 'medium_image_url': 'https://m.media-amazon.com/images/I/81QQMwBcVPL._SL800_.jpg', 'large_image_url': 'https://m.media-amazon.com/images/I/81QQMwBcVPL._SL1600_.jpg', 'attachment_type': 'IMAGE'}, {'small_image_url': 'https://m.media-amazon.com/images/I/81fgT3R3OwL._SL256_.jpg', 'medium_image_url': 'https://m.media-amazon.com/images/I/81fgT3R3OwL._SL800_.jpg', 'large_image_url': 'https://m.media-amazon.com/images/I/81fgT3R3OwL._SL1600_.jpg', 'attachment_type': 'IMAGE'}, {'small_image_url': 'https://m.media-amazon.com/images/I/81mfzny0I5L._SL256_.jpg', 'medium_image_url': 'https://m.media-amazon.com/images/I/81mfzny0I5L._SL800_.jpg', 'large_image_url': 'https://m.media-amazon.com/images/I/81mfzny0I5L._SL1600_.jpg', 'attachment_type': 'IMAGE'}, {'small_image_url': 'https://m.media-amazon.com/images/I/81nir7bf91L._SL256_.jpg', 'medium_image_url': 'https://m.media-amazon.com/images/I/81nir7bf91L._SL800_.jpg', 'large_image_url': 'https://m.media-amazon.com/images/I/81nir7bf91L._SL1600_.jpg', 'attachment_type': 'IMAGE'}, {'small_image_url': 'https://m.media-amazon.com/images/I/81yLUo6ZL3L._SL256_.jpg', 'medium_image_url': 'https://m.media-amazon.com/images/I/81yLUo6ZL3L._SL800_.jpg', 'large_image_url': 'https://m.media-amazon.com/images/I/81yLUo6ZL3L._SL1600_.jpg', 'attachment_type': 'IMAGE'}, {'small_image_url': 'https://m.media-amazon.com/images/I/81zh9h5RwkL._SL256_.jpg', 'medium_image_url': 'https://m.media-amazon.com/images/I/81zh9h5RwkL._SL800_.jpg', 'large_image_url': 'https://m.media-amazon.com/images/I/81zh9h5RwkL._SL1600_.jpg', 'attachment_type': 'IMAGE'}, {'small_image_url': 'https://m.media-amazon.com/images/I/91yfcpFlEqL._SL256_.jpg', 'medium_image_url': 'https://m.media-amazon.com/images/I/91yfcpFlEqL._SL800_.jpg', 'large_image_url': 'https://m.media-amazon.com/images/I/91yfcpFlEqL._SL1600_.jpg', 'attachment_type': 'IMAGE'}], 'asin': 'B09BGPFTDB', 'parent_asin': 'B09BGPFTDB', 'user_id': 'AFKZENTNBQ7A7V7UXW5JJI6UGRYQ', 'timestamp': 1642399598485, 'helpful_vote': 0, 'verified_purchase': True}\n",
      "Record 2: {'rating': 5.0, 'title': 'Updated: after 1st arrived damaged this one is perfect', 'text': 'Updated: after first book arrived very damaged the replacement arrived in perfect condition.', 'images': [], 'asin': '0593235657', 'parent_asin': '0593235657', 'user_id': 'AFKZENTNBQ7A7V7UXW5JJI6UGRYQ', 'timestamp': 1640629604904, 'helpful_vote': 1, 'verified_purchase': True}\n",
      "Record 3: {'rating': 5.0, 'title': 'Excellent! I love it!', 'text': 'I bought it for the bag on the front so it paid for itself with that imo.  I haven’t started anything yet from it bc I’m still busy with other projects, but I’m really looking forward to starting some.', 'images': [], 'asin': '1782490671', 'parent_asin': '1782490671', 'user_id': 'AFKZENTNBQ7A7V7UXW5JJI6UGRYQ', 'timestamp': 1640383495102, 'helpful_vote': 0, 'verified_purchase': True}\n",
      "\n",
      "Columns count: 21\n",
      "Column names:\n",
      "asin\n",
      "average_rating\n",
      "bought_together\n",
      "categories\n",
      "description\n",
      "details\n",
      "features\n",
      "helpful_vote\n",
      "images\n",
      "main_category\n",
      "parent_asin\n",
      "price\n",
      "rating\n",
      "rating_number\n",
      "store\n",
      "text\n",
      "timestamp\n",
      "title\n",
      "user_id\n",
      "verified_purchase\n",
      "videos\n"
     ]
    }
   ],
   "source": [
    "show_n_first_lines_and_column_names(books_jsonl)"
   ]
  },
  {
   "cell_type": "markdown",
   "metadata": {},
   "source": [
    "# Creating one df - Fashion"
   ]
  },
  {
   "cell_type": "code",
   "execution_count": 30,
   "metadata": {},
   "outputs": [],
   "source": [
    "import pandas as pd\n",
    "\n",
    "def jsonl_to_dataframe(jsonl_file, n=None):\n",
    "    data = []\n",
    "    with open(jsonl_file, 'r', encoding='utf-8') as file:\n",
    "        for i, line in enumerate(file):\n",
    "            if n is not None and i >= n:\n",
    "                break\n",
    "            obj = json.loads(line)\n",
    "            data.append(obj)\n",
    "    df = pd.DataFrame(data)\n",
    "    return df"
   ]
  },
  {
   "cell_type": "code",
   "execution_count": 31,
   "metadata": {},
   "outputs": [],
   "source": [
    "df_fashion = jsonl_to_dataframe(fashion_jsonl)"
   ]
  },
  {
   "cell_type": "code",
   "execution_count": 32,
   "metadata": {},
   "outputs": [
    {
     "data": {
      "text/html": [
       "<div>\n",
       "<style scoped>\n",
       "    .dataframe tbody tr th:only-of-type {\n",
       "        vertical-align: middle;\n",
       "    }\n",
       "\n",
       "    .dataframe tbody tr th {\n",
       "        vertical-align: top;\n",
       "    }\n",
       "\n",
       "    .dataframe thead th {\n",
       "        text-align: right;\n",
       "    }\n",
       "</style>\n",
       "<table border=\"1\" class=\"dataframe\">\n",
       "  <thead>\n",
       "    <tr style=\"text-align: right;\">\n",
       "      <th></th>\n",
       "      <th>rating</th>\n",
       "      <th>title</th>\n",
       "      <th>text</th>\n",
       "      <th>images</th>\n",
       "      <th>asin</th>\n",
       "      <th>parent_asin</th>\n",
       "      <th>user_id</th>\n",
       "      <th>timestamp</th>\n",
       "      <th>helpful_vote</th>\n",
       "      <th>verified_purchase</th>\n",
       "    </tr>\n",
       "  </thead>\n",
       "  <tbody>\n",
       "    <tr>\n",
       "      <th>0</th>\n",
       "      <td>5.0</td>\n",
       "      <td>Pretty locket</td>\n",
       "      <td>I think this locket is really pretty. The insi...</td>\n",
       "      <td>[]</td>\n",
       "      <td>B00LOPVX74</td>\n",
       "      <td>B00LOPVX74</td>\n",
       "      <td>AGBFYI2DDIKXC5Y4FARTYDTQBMFQ</td>\n",
       "      <td>1578528394489</td>\n",
       "      <td>3</td>\n",
       "      <td>True</td>\n",
       "    </tr>\n",
       "    <tr>\n",
       "      <th>1</th>\n",
       "      <td>5.0</td>\n",
       "      <td>A</td>\n",
       "      <td>Great</td>\n",
       "      <td>[]</td>\n",
       "      <td>B07B4JXK8D</td>\n",
       "      <td>B07B4JXK8D</td>\n",
       "      <td>AFQLNQNQYFWQZPJQZS6V3NZU4QBQ</td>\n",
       "      <td>1608426246701</td>\n",
       "      <td>0</td>\n",
       "      <td>True</td>\n",
       "    </tr>\n",
       "    <tr>\n",
       "      <th>2</th>\n",
       "      <td>2.0</td>\n",
       "      <td>Two Stars</td>\n",
       "      <td>One of the stones fell out within the first 2 ...</td>\n",
       "      <td>[]</td>\n",
       "      <td>B007ZSEQ4Q</td>\n",
       "      <td>B007ZSEQ4Q</td>\n",
       "      <td>AHITBJSS7KYUBVZPX7M2WJCOIVKQ</td>\n",
       "      <td>1432344828000</td>\n",
       "      <td>3</td>\n",
       "      <td>True</td>\n",
       "    </tr>\n",
       "    <tr>\n",
       "      <th>3</th>\n",
       "      <td>1.0</td>\n",
       "      <td>Won’t buy again</td>\n",
       "      <td>Crappy socks. Money wasted. Bought to wear wit...</td>\n",
       "      <td>[]</td>\n",
       "      <td>B07F2BTFS9</td>\n",
       "      <td>B07F2BTFS9</td>\n",
       "      <td>AFVNEEPDEIH5SPUN5BWC6NKL3WNQ</td>\n",
       "      <td>1546289847095</td>\n",
       "      <td>2</td>\n",
       "      <td>True</td>\n",
       "    </tr>\n",
       "    <tr>\n",
       "      <th>4</th>\n",
       "      <td>5.0</td>\n",
       "      <td>I LOVE these glasses</td>\n",
       "      <td>I LOVE these glasses!  They fit perfectly over...</td>\n",
       "      <td>[]</td>\n",
       "      <td>B00PKRFU4O</td>\n",
       "      <td>B00XESJTDE</td>\n",
       "      <td>AHSPLDNW5OOUK2PLH7GXLACFBZNQ</td>\n",
       "      <td>1439476166000</td>\n",
       "      <td>0</td>\n",
       "      <td>True</td>\n",
       "    </tr>\n",
       "  </tbody>\n",
       "</table>\n",
       "</div>"
      ],
      "text/plain": [
       "   rating                 title  \\\n",
       "0     5.0         Pretty locket   \n",
       "1     5.0                     A   \n",
       "2     2.0             Two Stars   \n",
       "3     1.0       Won’t buy again   \n",
       "4     5.0  I LOVE these glasses   \n",
       "\n",
       "                                                text images        asin  \\\n",
       "0  I think this locket is really pretty. The insi...     []  B00LOPVX74   \n",
       "1                                              Great     []  B07B4JXK8D   \n",
       "2  One of the stones fell out within the first 2 ...     []  B007ZSEQ4Q   \n",
       "3  Crappy socks. Money wasted. Bought to wear wit...     []  B07F2BTFS9   \n",
       "4  I LOVE these glasses!  They fit perfectly over...     []  B00PKRFU4O   \n",
       "\n",
       "  parent_asin                       user_id      timestamp  helpful_vote  \\\n",
       "0  B00LOPVX74  AGBFYI2DDIKXC5Y4FARTYDTQBMFQ  1578528394489             3   \n",
       "1  B07B4JXK8D  AFQLNQNQYFWQZPJQZS6V3NZU4QBQ  1608426246701             0   \n",
       "2  B007ZSEQ4Q  AHITBJSS7KYUBVZPX7M2WJCOIVKQ  1432344828000             3   \n",
       "3  B07F2BTFS9  AFVNEEPDEIH5SPUN5BWC6NKL3WNQ  1546289847095             2   \n",
       "4  B00XESJTDE  AHSPLDNW5OOUK2PLH7GXLACFBZNQ  1439476166000             0   \n",
       "\n",
       "   verified_purchase  \n",
       "0               True  \n",
       "1               True  \n",
       "2               True  \n",
       "3               True  \n",
       "4               True  "
      ]
     },
     "execution_count": 32,
     "metadata": {},
     "output_type": "execute_result"
    }
   ],
   "source": [
    "df_fashion.head()"
   ]
  },
  {
   "cell_type": "code",
   "execution_count": 33,
   "metadata": {},
   "outputs": [],
   "source": [
    "df_fashion_meta = jsonl_to_dataframe(meta_fashion_jsonl)"
   ]
  },
  {
   "cell_type": "code",
   "execution_count": 34,
   "metadata": {},
   "outputs": [
    {
     "data": {
      "text/html": [
       "<div>\n",
       "<style scoped>\n",
       "    .dataframe tbody tr th:only-of-type {\n",
       "        vertical-align: middle;\n",
       "    }\n",
       "\n",
       "    .dataframe tbody tr th {\n",
       "        vertical-align: top;\n",
       "    }\n",
       "\n",
       "    .dataframe thead th {\n",
       "        text-align: right;\n",
       "    }\n",
       "</style>\n",
       "<table border=\"1\" class=\"dataframe\">\n",
       "  <thead>\n",
       "    <tr style=\"text-align: right;\">\n",
       "      <th></th>\n",
       "      <th>main_category</th>\n",
       "      <th>title</th>\n",
       "      <th>average_rating</th>\n",
       "      <th>rating_number</th>\n",
       "      <th>features</th>\n",
       "      <th>description</th>\n",
       "      <th>price</th>\n",
       "      <th>images</th>\n",
       "      <th>videos</th>\n",
       "      <th>store</th>\n",
       "      <th>categories</th>\n",
       "      <th>details</th>\n",
       "      <th>parent_asin</th>\n",
       "      <th>bought_together</th>\n",
       "    </tr>\n",
       "  </thead>\n",
       "  <tbody>\n",
       "    <tr>\n",
       "      <th>0</th>\n",
       "      <td>AMAZON FASHION</td>\n",
       "      <td>YUEDGE 5 Pairs Men's Moisture Control Cushione...</td>\n",
       "      <td>4.6</td>\n",
       "      <td>16</td>\n",
       "      <td>[]</td>\n",
       "      <td>[]</td>\n",
       "      <td>NaN</td>\n",
       "      <td>[{'thumb': 'https://m.media-amazon.com/images/...</td>\n",
       "      <td>[]</td>\n",
       "      <td>GiveGift</td>\n",
       "      <td>[]</td>\n",
       "      <td>{'Package Dimensions': '10.31 x 8.5 x 1.73 inc...</td>\n",
       "      <td>B08BHN9PK5</td>\n",
       "      <td>None</td>\n",
       "    </tr>\n",
       "    <tr>\n",
       "      <th>1</th>\n",
       "      <td>AMAZON FASHION</td>\n",
       "      <td>DouBCQ Women's Palazzo Lounge Wide Leg Casual ...</td>\n",
       "      <td>4.1</td>\n",
       "      <td>7</td>\n",
       "      <td>[Drawstring closure, Machine Wash]</td>\n",
       "      <td>[]</td>\n",
       "      <td>NaN</td>\n",
       "      <td>[{'thumb': 'https://m.media-amazon.com/images/...</td>\n",
       "      <td>[]</td>\n",
       "      <td>DouBCQ</td>\n",
       "      <td>[]</td>\n",
       "      <td>{'Package Dimensions': '15 x 10.2 x 0.4 inches...</td>\n",
       "      <td>B08R39MRDW</td>\n",
       "      <td>None</td>\n",
       "    </tr>\n",
       "    <tr>\n",
       "      <th>2</th>\n",
       "      <td>AMAZON FASHION</td>\n",
       "      <td>Pastel by Vivienne Honey Vanilla Girls' Trapez...</td>\n",
       "      <td>4.3</td>\n",
       "      <td>11</td>\n",
       "      <td>[Zipper closure, Hand Wash Only]</td>\n",
       "      <td>[]</td>\n",
       "      <td>NaN</td>\n",
       "      <td>[{'thumb': 'https://m.media-amazon.com/images/...</td>\n",
       "      <td>[]</td>\n",
       "      <td>Pastel by Vivienne</td>\n",
       "      <td>[]</td>\n",
       "      <td>{'Is Discontinued By Manufacturer': 'No', 'Pac...</td>\n",
       "      <td>B077KJHCJ4</td>\n",
       "      <td>None</td>\n",
       "    </tr>\n",
       "    <tr>\n",
       "      <th>3</th>\n",
       "      <td>AMAZON FASHION</td>\n",
       "      <td>Mento Streamtail</td>\n",
       "      <td>2.0</td>\n",
       "      <td>1</td>\n",
       "      <td>[Thermoplastic Rubber sole, High Density Premi...</td>\n",
       "      <td>[Slip on the Women's Mento and you're ready to...</td>\n",
       "      <td>29.81</td>\n",
       "      <td>[{'thumb': 'https://m.media-amazon.com/images/...</td>\n",
       "      <td>[]</td>\n",
       "      <td>Guy Harvey</td>\n",
       "      <td>[]</td>\n",
       "      <td>{'Package Dimensions': '11.22 x 4.72 x 4.33 in...</td>\n",
       "      <td>B0811M2JG9</td>\n",
       "      <td>None</td>\n",
       "    </tr>\n",
       "    <tr>\n",
       "      <th>4</th>\n",
       "      <td>AMAZON FASHION</td>\n",
       "      <td>RONNOX Women's 3-Pairs Bright Colored Calf Com...</td>\n",
       "      <td>4.3</td>\n",
       "      <td>3032</td>\n",
       "      <td>[Pull On closure, Size Guide: \"S\" fits calf 10...</td>\n",
       "      <td>[Ronnox Calf Sleeves - Allowing Your Body to P...</td>\n",
       "      <td>17.99</td>\n",
       "      <td>[{'thumb': 'https://m.media-amazon.com/images/...</td>\n",
       "      <td>[{'title': 'HONEST Review: RONNOX Women's 3-Pa...</td>\n",
       "      <td>RONNOX</td>\n",
       "      <td>[]</td>\n",
       "      <td>{'Is Discontinued By Manufacturer': 'No', 'Pac...</td>\n",
       "      <td>B07SB2892S</td>\n",
       "      <td>None</td>\n",
       "    </tr>\n",
       "  </tbody>\n",
       "</table>\n",
       "</div>"
      ],
      "text/plain": [
       "    main_category                                              title  \\\n",
       "0  AMAZON FASHION  YUEDGE 5 Pairs Men's Moisture Control Cushione...   \n",
       "1  AMAZON FASHION  DouBCQ Women's Palazzo Lounge Wide Leg Casual ...   \n",
       "2  AMAZON FASHION  Pastel by Vivienne Honey Vanilla Girls' Trapez...   \n",
       "3  AMAZON FASHION                                   Mento Streamtail   \n",
       "4  AMAZON FASHION  RONNOX Women's 3-Pairs Bright Colored Calf Com...   \n",
       "\n",
       "   average_rating  rating_number  \\\n",
       "0             4.6             16   \n",
       "1             4.1              7   \n",
       "2             4.3             11   \n",
       "3             2.0              1   \n",
       "4             4.3           3032   \n",
       "\n",
       "                                            features  \\\n",
       "0                                                 []   \n",
       "1                 [Drawstring closure, Machine Wash]   \n",
       "2                   [Zipper closure, Hand Wash Only]   \n",
       "3  [Thermoplastic Rubber sole, High Density Premi...   \n",
       "4  [Pull On closure, Size Guide: \"S\" fits calf 10...   \n",
       "\n",
       "                                         description  price  \\\n",
       "0                                                 []    NaN   \n",
       "1                                                 []    NaN   \n",
       "2                                                 []    NaN   \n",
       "3  [Slip on the Women's Mento and you're ready to...  29.81   \n",
       "4  [Ronnox Calf Sleeves - Allowing Your Body to P...  17.99   \n",
       "\n",
       "                                              images  \\\n",
       "0  [{'thumb': 'https://m.media-amazon.com/images/...   \n",
       "1  [{'thumb': 'https://m.media-amazon.com/images/...   \n",
       "2  [{'thumb': 'https://m.media-amazon.com/images/...   \n",
       "3  [{'thumb': 'https://m.media-amazon.com/images/...   \n",
       "4  [{'thumb': 'https://m.media-amazon.com/images/...   \n",
       "\n",
       "                                              videos               store  \\\n",
       "0                                                 []            GiveGift   \n",
       "1                                                 []              DouBCQ   \n",
       "2                                                 []  Pastel by Vivienne   \n",
       "3                                                 []          Guy Harvey   \n",
       "4  [{'title': 'HONEST Review: RONNOX Women's 3-Pa...              RONNOX   \n",
       "\n",
       "  categories                                            details parent_asin  \\\n",
       "0         []  {'Package Dimensions': '10.31 x 8.5 x 1.73 inc...  B08BHN9PK5   \n",
       "1         []  {'Package Dimensions': '15 x 10.2 x 0.4 inches...  B08R39MRDW   \n",
       "2         []  {'Is Discontinued By Manufacturer': 'No', 'Pac...  B077KJHCJ4   \n",
       "3         []  {'Package Dimensions': '11.22 x 4.72 x 4.33 in...  B0811M2JG9   \n",
       "4         []  {'Is Discontinued By Manufacturer': 'No', 'Pac...  B07SB2892S   \n",
       "\n",
       "  bought_together  \n",
       "0            None  \n",
       "1            None  \n",
       "2            None  \n",
       "3            None  \n",
       "4            None  "
      ]
     },
     "execution_count": 34,
     "metadata": {},
     "output_type": "execute_result"
    }
   ],
   "source": [
    "df_fashion_meta.head()"
   ]
  },
  {
   "cell_type": "code",
   "execution_count": 35,
   "metadata": {},
   "outputs": [],
   "source": [
    "df_fashion_merged = df_fashion.merge(df_fashion_meta, on='parent_asin', how='left')"
   ]
  },
  {
   "cell_type": "code",
   "execution_count": 36,
   "metadata": {},
   "outputs": [
    {
     "data": {
      "text/html": [
       "<div>\n",
       "<style scoped>\n",
       "    .dataframe tbody tr th:only-of-type {\n",
       "        vertical-align: middle;\n",
       "    }\n",
       "\n",
       "    .dataframe tbody tr th {\n",
       "        vertical-align: top;\n",
       "    }\n",
       "\n",
       "    .dataframe thead th {\n",
       "        text-align: right;\n",
       "    }\n",
       "</style>\n",
       "<table border=\"1\" class=\"dataframe\">\n",
       "  <thead>\n",
       "    <tr style=\"text-align: right;\">\n",
       "      <th></th>\n",
       "      <th>rating</th>\n",
       "      <th>title_x</th>\n",
       "      <th>text</th>\n",
       "      <th>images_x</th>\n",
       "      <th>asin</th>\n",
       "      <th>parent_asin</th>\n",
       "      <th>user_id</th>\n",
       "      <th>timestamp</th>\n",
       "      <th>helpful_vote</th>\n",
       "      <th>verified_purchase</th>\n",
       "      <th>...</th>\n",
       "      <th>rating_number</th>\n",
       "      <th>features</th>\n",
       "      <th>description</th>\n",
       "      <th>price</th>\n",
       "      <th>images_y</th>\n",
       "      <th>videos</th>\n",
       "      <th>store</th>\n",
       "      <th>categories</th>\n",
       "      <th>details</th>\n",
       "      <th>bought_together</th>\n",
       "    </tr>\n",
       "  </thead>\n",
       "  <tbody>\n",
       "    <tr>\n",
       "      <th>0</th>\n",
       "      <td>5.0</td>\n",
       "      <td>Pretty locket</td>\n",
       "      <td>I think this locket is really pretty. The insi...</td>\n",
       "      <td>[]</td>\n",
       "      <td>B00LOPVX74</td>\n",
       "      <td>B00LOPVX74</td>\n",
       "      <td>AGBFYI2DDIKXC5Y4FARTYDTQBMFQ</td>\n",
       "      <td>1578528394489</td>\n",
       "      <td>3</td>\n",
       "      <td>True</td>\n",
       "      <td>...</td>\n",
       "      <td>137</td>\n",
       "      <td>[STAMPED 925 STERLING SILVER - This high quali...</td>\n",
       "      <td>[This beautiful jewelry would be a great addit...</td>\n",
       "      <td>30.00</td>\n",
       "      <td>[{'thumb': 'https://m.media-amazon.com/images/...</td>\n",
       "      <td>[{'title': 'Irish Locket Celtic Locket Necklac...</td>\n",
       "      <td>CHUVORA</td>\n",
       "      <td>[]</td>\n",
       "      <td>{'Is Discontinued By Manufacturer': 'No', 'Pro...</td>\n",
       "      <td>None</td>\n",
       "    </tr>\n",
       "    <tr>\n",
       "      <th>1</th>\n",
       "      <td>5.0</td>\n",
       "      <td>A</td>\n",
       "      <td>Great</td>\n",
       "      <td>[]</td>\n",
       "      <td>B07B4JXK8D</td>\n",
       "      <td>B07B4JXK8D</td>\n",
       "      <td>AFQLNQNQYFWQZPJQZS6V3NZU4QBQ</td>\n",
       "      <td>1608426246701</td>\n",
       "      <td>0</td>\n",
       "      <td>True</td>\n",
       "      <td>...</td>\n",
       "      <td>3096</td>\n",
       "      <td>[Cozy Slipper Socks For Men; Bariatric Slipper...</td>\n",
       "      <td>[Anyone looking for the best in single tread s...</td>\n",
       "      <td>20.99</td>\n",
       "      <td>[{'thumb': 'https://m.media-amazon.com/images/...</td>\n",
       "      <td>[]</td>\n",
       "      <td>PrimeMed</td>\n",
       "      <td>[]</td>\n",
       "      <td>{'Is Discontinued By Manufacturer': 'No', 'Pac...</td>\n",
       "      <td>None</td>\n",
       "    </tr>\n",
       "    <tr>\n",
       "      <th>2</th>\n",
       "      <td>2.0</td>\n",
       "      <td>Two Stars</td>\n",
       "      <td>One of the stones fell out within the first 2 ...</td>\n",
       "      <td>[]</td>\n",
       "      <td>B007ZSEQ4Q</td>\n",
       "      <td>B007ZSEQ4Q</td>\n",
       "      <td>AHITBJSS7KYUBVZPX7M2WJCOIVKQ</td>\n",
       "      <td>1432344828000</td>\n",
       "      <td>3</td>\n",
       "      <td>True</td>\n",
       "      <td>...</td>\n",
       "      <td>18</td>\n",
       "      <td>[]</td>\n",
       "      <td>[]</td>\n",
       "      <td>NaN</td>\n",
       "      <td>[{'thumb': 'https://m.media-amazon.com/images/...</td>\n",
       "      <td>[]</td>\n",
       "      <td>KEZEF</td>\n",
       "      <td>[]</td>\n",
       "      <td>{'Material': 'not-applicable', 'Brand': 'KEZEF...</td>\n",
       "      <td>None</td>\n",
       "    </tr>\n",
       "    <tr>\n",
       "      <th>3</th>\n",
       "      <td>1.0</td>\n",
       "      <td>Won’t buy again</td>\n",
       "      <td>Crappy socks. Money wasted. Bought to wear wit...</td>\n",
       "      <td>[]</td>\n",
       "      <td>B07F2BTFS9</td>\n",
       "      <td>B07F2BTFS9</td>\n",
       "      <td>AFVNEEPDEIH5SPUN5BWC6NKL3WNQ</td>\n",
       "      <td>1546289847095</td>\n",
       "      <td>2</td>\n",
       "      <td>True</td>\n",
       "      <td>...</td>\n",
       "      <td>58</td>\n",
       "      <td>[Machine Wash]</td>\n",
       "      <td>[]</td>\n",
       "      <td>NaN</td>\n",
       "      <td>[{'thumb': 'https://m.media-amazon.com/images/...</td>\n",
       "      <td>[]</td>\n",
       "      <td>VERO MONTE</td>\n",
       "      <td>[]</td>\n",
       "      <td>{'Is Discontinued By Manufacturer': 'No', 'Pro...</td>\n",
       "      <td>None</td>\n",
       "    </tr>\n",
       "    <tr>\n",
       "      <th>4</th>\n",
       "      <td>5.0</td>\n",
       "      <td>I LOVE these glasses</td>\n",
       "      <td>I LOVE these glasses!  They fit perfectly over...</td>\n",
       "      <td>[]</td>\n",
       "      <td>B00PKRFU4O</td>\n",
       "      <td>B00XESJTDE</td>\n",
       "      <td>AHSPLDNW5OOUK2PLH7GXLACFBZNQ</td>\n",
       "      <td>1439476166000</td>\n",
       "      <td>0</td>\n",
       "      <td>True</td>\n",
       "      <td>...</td>\n",
       "      <td>34</td>\n",
       "      <td>[Imported, Plastic frame, anti-reflective lens...</td>\n",
       "      <td>[Men's anti-glare lens sunglasses 100% UVA &amp; U...</td>\n",
       "      <td>12.95</td>\n",
       "      <td>[{'thumb': 'https://m.media-amazon.com/images/...</td>\n",
       "      <td>[]</td>\n",
       "      <td>SA106</td>\n",
       "      <td>[]</td>\n",
       "      <td>{'Is Discontinued By Manufacturer': 'No', 'Ite...</td>\n",
       "      <td>None</td>\n",
       "    </tr>\n",
       "  </tbody>\n",
       "</table>\n",
       "<p>5 rows × 23 columns</p>\n",
       "</div>"
      ],
      "text/plain": [
       "   rating               title_x  \\\n",
       "0     5.0         Pretty locket   \n",
       "1     5.0                     A   \n",
       "2     2.0             Two Stars   \n",
       "3     1.0       Won’t buy again   \n",
       "4     5.0  I LOVE these glasses   \n",
       "\n",
       "                                                text images_x        asin  \\\n",
       "0  I think this locket is really pretty. The insi...       []  B00LOPVX74   \n",
       "1                                              Great       []  B07B4JXK8D   \n",
       "2  One of the stones fell out within the first 2 ...       []  B007ZSEQ4Q   \n",
       "3  Crappy socks. Money wasted. Bought to wear wit...       []  B07F2BTFS9   \n",
       "4  I LOVE these glasses!  They fit perfectly over...       []  B00PKRFU4O   \n",
       "\n",
       "  parent_asin                       user_id      timestamp  helpful_vote  \\\n",
       "0  B00LOPVX74  AGBFYI2DDIKXC5Y4FARTYDTQBMFQ  1578528394489             3   \n",
       "1  B07B4JXK8D  AFQLNQNQYFWQZPJQZS6V3NZU4QBQ  1608426246701             0   \n",
       "2  B007ZSEQ4Q  AHITBJSS7KYUBVZPX7M2WJCOIVKQ  1432344828000             3   \n",
       "3  B07F2BTFS9  AFVNEEPDEIH5SPUN5BWC6NKL3WNQ  1546289847095             2   \n",
       "4  B00XESJTDE  AHSPLDNW5OOUK2PLH7GXLACFBZNQ  1439476166000             0   \n",
       "\n",
       "   verified_purchase  ... rating_number  \\\n",
       "0               True  ...           137   \n",
       "1               True  ...          3096   \n",
       "2               True  ...            18   \n",
       "3               True  ...            58   \n",
       "4               True  ...            34   \n",
       "\n",
       "                                            features  \\\n",
       "0  [STAMPED 925 STERLING SILVER - This high quali...   \n",
       "1  [Cozy Slipper Socks For Men; Bariatric Slipper...   \n",
       "2                                                 []   \n",
       "3                                     [Machine Wash]   \n",
       "4  [Imported, Plastic frame, anti-reflective lens...   \n",
       "\n",
       "                                         description  price  \\\n",
       "0  [This beautiful jewelry would be a great addit...  30.00   \n",
       "1  [Anyone looking for the best in single tread s...  20.99   \n",
       "2                                                 []    NaN   \n",
       "3                                                 []    NaN   \n",
       "4  [Men's anti-glare lens sunglasses 100% UVA & U...  12.95   \n",
       "\n",
       "                                            images_y  \\\n",
       "0  [{'thumb': 'https://m.media-amazon.com/images/...   \n",
       "1  [{'thumb': 'https://m.media-amazon.com/images/...   \n",
       "2  [{'thumb': 'https://m.media-amazon.com/images/...   \n",
       "3  [{'thumb': 'https://m.media-amazon.com/images/...   \n",
       "4  [{'thumb': 'https://m.media-amazon.com/images/...   \n",
       "\n",
       "                                              videos       store categories  \\\n",
       "0  [{'title': 'Irish Locket Celtic Locket Necklac...     CHUVORA         []   \n",
       "1                                                 []    PrimeMed         []   \n",
       "2                                                 []       KEZEF         []   \n",
       "3                                                 []  VERO MONTE         []   \n",
       "4                                                 []       SA106         []   \n",
       "\n",
       "                                             details bought_together  \n",
       "0  {'Is Discontinued By Manufacturer': 'No', 'Pro...            None  \n",
       "1  {'Is Discontinued By Manufacturer': 'No', 'Pac...            None  \n",
       "2  {'Material': 'not-applicable', 'Brand': 'KEZEF...            None  \n",
       "3  {'Is Discontinued By Manufacturer': 'No', 'Pro...            None  \n",
       "4  {'Is Discontinued By Manufacturer': 'No', 'Ite...            None  \n",
       "\n",
       "[5 rows x 23 columns]"
      ]
     },
     "execution_count": 36,
     "metadata": {},
     "output_type": "execute_result"
    }
   ],
   "source": [
    "df_fashion_merged.head()"
   ]
  },
  {
   "cell_type": "code",
   "execution_count": 37,
   "metadata": {},
   "outputs": [
    {
     "data": {
      "text/plain": [
       "Index(['rating', 'title_x', 'text', 'images_x', 'asin', 'parent_asin',\n",
       "       'user_id', 'timestamp', 'helpful_vote', 'verified_purchase',\n",
       "       'main_category', 'title_y', 'average_rating', 'rating_number',\n",
       "       'features', 'description', 'price', 'images_y', 'videos', 'store',\n",
       "       'categories', 'details', 'bought_together'],\n",
       "      dtype='object')"
      ]
     },
     "execution_count": 37,
     "metadata": {},
     "output_type": "execute_result"
    }
   ],
   "source": [
    "df_fashion_merged.columns"
   ]
  },
  {
   "cell_type": "code",
   "execution_count": 38,
   "metadata": {},
   "outputs": [],
   "source": [
    "column_order = ['parent_asin','title_y','title_x','text','rating','images_x', 'asin', \n",
    "       'user_id', 'timestamp', 'helpful_vote', 'verified_purchase',\n",
    "       'main_category', 'average_rating', 'rating_number',\n",
    "       'features', 'description', 'price', 'images_y', 'videos', 'store',\n",
    "       'categories', 'details', 'bought_together']\n",
    "df_fashion_merged = df_fashion_merged[column_order]"
   ]
  },
  {
   "cell_type": "code",
   "execution_count": 39,
   "metadata": {},
   "outputs": [
    {
     "data": {
      "text/html": [
       "<div>\n",
       "<style scoped>\n",
       "    .dataframe tbody tr th:only-of-type {\n",
       "        vertical-align: middle;\n",
       "    }\n",
       "\n",
       "    .dataframe tbody tr th {\n",
       "        vertical-align: top;\n",
       "    }\n",
       "\n",
       "    .dataframe thead th {\n",
       "        text-align: right;\n",
       "    }\n",
       "</style>\n",
       "<table border=\"1\" class=\"dataframe\">\n",
       "  <thead>\n",
       "    <tr style=\"text-align: right;\">\n",
       "      <th></th>\n",
       "      <th>parent_asin</th>\n",
       "      <th>title_y</th>\n",
       "      <th>title_x</th>\n",
       "      <th>text</th>\n",
       "      <th>rating</th>\n",
       "      <th>images_x</th>\n",
       "      <th>asin</th>\n",
       "      <th>user_id</th>\n",
       "      <th>timestamp</th>\n",
       "      <th>helpful_vote</th>\n",
       "      <th>...</th>\n",
       "      <th>rating_number</th>\n",
       "      <th>features</th>\n",
       "      <th>description</th>\n",
       "      <th>price</th>\n",
       "      <th>images_y</th>\n",
       "      <th>videos</th>\n",
       "      <th>store</th>\n",
       "      <th>categories</th>\n",
       "      <th>details</th>\n",
       "      <th>bought_together</th>\n",
       "    </tr>\n",
       "  </thead>\n",
       "  <tbody>\n",
       "    <tr>\n",
       "      <th>0</th>\n",
       "      <td>B00LOPVX74</td>\n",
       "      <td>CHUVORA 925 Sterling Silver Open Celtic Knot C...</td>\n",
       "      <td>Pretty locket</td>\n",
       "      <td>I think this locket is really pretty. The insi...</td>\n",
       "      <td>5.0</td>\n",
       "      <td>[]</td>\n",
       "      <td>B00LOPVX74</td>\n",
       "      <td>AGBFYI2DDIKXC5Y4FARTYDTQBMFQ</td>\n",
       "      <td>1578528394489</td>\n",
       "      <td>3</td>\n",
       "      <td>...</td>\n",
       "      <td>137</td>\n",
       "      <td>[STAMPED 925 STERLING SILVER - This high quali...</td>\n",
       "      <td>[This beautiful jewelry would be a great addit...</td>\n",
       "      <td>30.00</td>\n",
       "      <td>[{'thumb': 'https://m.media-amazon.com/images/...</td>\n",
       "      <td>[{'title': 'Irish Locket Celtic Locket Necklac...</td>\n",
       "      <td>CHUVORA</td>\n",
       "      <td>[]</td>\n",
       "      <td>{'Is Discontinued By Manufacturer': 'No', 'Pro...</td>\n",
       "      <td>None</td>\n",
       "    </tr>\n",
       "    <tr>\n",
       "      <th>1</th>\n",
       "      <td>B07B4JXK8D</td>\n",
       "      <td>XX-Large Slip Stop Single Tread Slipper Socks ...</td>\n",
       "      <td>A</td>\n",
       "      <td>Great</td>\n",
       "      <td>5.0</td>\n",
       "      <td>[]</td>\n",
       "      <td>B07B4JXK8D</td>\n",
       "      <td>AFQLNQNQYFWQZPJQZS6V3NZU4QBQ</td>\n",
       "      <td>1608426246701</td>\n",
       "      <td>0</td>\n",
       "      <td>...</td>\n",
       "      <td>3096</td>\n",
       "      <td>[Cozy Slipper Socks For Men; Bariatric Slipper...</td>\n",
       "      <td>[Anyone looking for the best in single tread s...</td>\n",
       "      <td>20.99</td>\n",
       "      <td>[{'thumb': 'https://m.media-amazon.com/images/...</td>\n",
       "      <td>[]</td>\n",
       "      <td>PrimeMed</td>\n",
       "      <td>[]</td>\n",
       "      <td>{'Is Discontinued By Manufacturer': 'No', 'Pac...</td>\n",
       "      <td>None</td>\n",
       "    </tr>\n",
       "    <tr>\n",
       "      <th>2</th>\n",
       "      <td>B007ZSEQ4Q</td>\n",
       "      <td>Sterling Silver 3mm Round Cut CZ Tennis Bracel...</td>\n",
       "      <td>Two Stars</td>\n",
       "      <td>One of the stones fell out within the first 2 ...</td>\n",
       "      <td>2.0</td>\n",
       "      <td>[]</td>\n",
       "      <td>B007ZSEQ4Q</td>\n",
       "      <td>AHITBJSS7KYUBVZPX7M2WJCOIVKQ</td>\n",
       "      <td>1432344828000</td>\n",
       "      <td>3</td>\n",
       "      <td>...</td>\n",
       "      <td>18</td>\n",
       "      <td>[]</td>\n",
       "      <td>[]</td>\n",
       "      <td>NaN</td>\n",
       "      <td>[{'thumb': 'https://m.media-amazon.com/images/...</td>\n",
       "      <td>[]</td>\n",
       "      <td>KEZEF</td>\n",
       "      <td>[]</td>\n",
       "      <td>{'Material': 'not-applicable', 'Brand': 'KEZEF...</td>\n",
       "      <td>None</td>\n",
       "    </tr>\n",
       "    <tr>\n",
       "      <th>3</th>\n",
       "      <td>B07F2BTFS9</td>\n",
       "      <td>VERO MONTE 4 Pairs Womens TRULY No Show Socks ...</td>\n",
       "      <td>Won’t buy again</td>\n",
       "      <td>Crappy socks. Money wasted. Bought to wear wit...</td>\n",
       "      <td>1.0</td>\n",
       "      <td>[]</td>\n",
       "      <td>B07F2BTFS9</td>\n",
       "      <td>AFVNEEPDEIH5SPUN5BWC6NKL3WNQ</td>\n",
       "      <td>1546289847095</td>\n",
       "      <td>2</td>\n",
       "      <td>...</td>\n",
       "      <td>58</td>\n",
       "      <td>[Machine Wash]</td>\n",
       "      <td>[]</td>\n",
       "      <td>NaN</td>\n",
       "      <td>[{'thumb': 'https://m.media-amazon.com/images/...</td>\n",
       "      <td>[]</td>\n",
       "      <td>VERO MONTE</td>\n",
       "      <td>[]</td>\n",
       "      <td>{'Is Discontinued By Manufacturer': 'No', 'Pro...</td>\n",
       "      <td>None</td>\n",
       "    </tr>\n",
       "    <tr>\n",
       "      <th>4</th>\n",
       "      <td>B00XESJTDE</td>\n",
       "      <td>SA106 Womens Rhinestone Jewel Polarized Lens 6...</td>\n",
       "      <td>I LOVE these glasses</td>\n",
       "      <td>I LOVE these glasses!  They fit perfectly over...</td>\n",
       "      <td>5.0</td>\n",
       "      <td>[]</td>\n",
       "      <td>B00PKRFU4O</td>\n",
       "      <td>AHSPLDNW5OOUK2PLH7GXLACFBZNQ</td>\n",
       "      <td>1439476166000</td>\n",
       "      <td>0</td>\n",
       "      <td>...</td>\n",
       "      <td>34</td>\n",
       "      <td>[Imported, Plastic frame, anti-reflective lens...</td>\n",
       "      <td>[Men's anti-glare lens sunglasses 100% UVA &amp; U...</td>\n",
       "      <td>12.95</td>\n",
       "      <td>[{'thumb': 'https://m.media-amazon.com/images/...</td>\n",
       "      <td>[]</td>\n",
       "      <td>SA106</td>\n",
       "      <td>[]</td>\n",
       "      <td>{'Is Discontinued By Manufacturer': 'No', 'Ite...</td>\n",
       "      <td>None</td>\n",
       "    </tr>\n",
       "  </tbody>\n",
       "</table>\n",
       "<p>5 rows × 23 columns</p>\n",
       "</div>"
      ],
      "text/plain": [
       "  parent_asin                                            title_y  \\\n",
       "0  B00LOPVX74  CHUVORA 925 Sterling Silver Open Celtic Knot C...   \n",
       "1  B07B4JXK8D  XX-Large Slip Stop Single Tread Slipper Socks ...   \n",
       "2  B007ZSEQ4Q  Sterling Silver 3mm Round Cut CZ Tennis Bracel...   \n",
       "3  B07F2BTFS9  VERO MONTE 4 Pairs Womens TRULY No Show Socks ...   \n",
       "4  B00XESJTDE  SA106 Womens Rhinestone Jewel Polarized Lens 6...   \n",
       "\n",
       "                title_x                                               text  \\\n",
       "0         Pretty locket  I think this locket is really pretty. The insi...   \n",
       "1                     A                                              Great   \n",
       "2             Two Stars  One of the stones fell out within the first 2 ...   \n",
       "3       Won’t buy again  Crappy socks. Money wasted. Bought to wear wit...   \n",
       "4  I LOVE these glasses  I LOVE these glasses!  They fit perfectly over...   \n",
       "\n",
       "   rating images_x        asin                       user_id      timestamp  \\\n",
       "0     5.0       []  B00LOPVX74  AGBFYI2DDIKXC5Y4FARTYDTQBMFQ  1578528394489   \n",
       "1     5.0       []  B07B4JXK8D  AFQLNQNQYFWQZPJQZS6V3NZU4QBQ  1608426246701   \n",
       "2     2.0       []  B007ZSEQ4Q  AHITBJSS7KYUBVZPX7M2WJCOIVKQ  1432344828000   \n",
       "3     1.0       []  B07F2BTFS9  AFVNEEPDEIH5SPUN5BWC6NKL3WNQ  1546289847095   \n",
       "4     5.0       []  B00PKRFU4O  AHSPLDNW5OOUK2PLH7GXLACFBZNQ  1439476166000   \n",
       "\n",
       "   helpful_vote  ...  rating_number  \\\n",
       "0             3  ...            137   \n",
       "1             0  ...           3096   \n",
       "2             3  ...             18   \n",
       "3             2  ...             58   \n",
       "4             0  ...             34   \n",
       "\n",
       "                                            features  \\\n",
       "0  [STAMPED 925 STERLING SILVER - This high quali...   \n",
       "1  [Cozy Slipper Socks For Men; Bariatric Slipper...   \n",
       "2                                                 []   \n",
       "3                                     [Machine Wash]   \n",
       "4  [Imported, Plastic frame, anti-reflective lens...   \n",
       "\n",
       "                                         description  price  \\\n",
       "0  [This beautiful jewelry would be a great addit...  30.00   \n",
       "1  [Anyone looking for the best in single tread s...  20.99   \n",
       "2                                                 []    NaN   \n",
       "3                                                 []    NaN   \n",
       "4  [Men's anti-glare lens sunglasses 100% UVA & U...  12.95   \n",
       "\n",
       "                                            images_y  \\\n",
       "0  [{'thumb': 'https://m.media-amazon.com/images/...   \n",
       "1  [{'thumb': 'https://m.media-amazon.com/images/...   \n",
       "2  [{'thumb': 'https://m.media-amazon.com/images/...   \n",
       "3  [{'thumb': 'https://m.media-amazon.com/images/...   \n",
       "4  [{'thumb': 'https://m.media-amazon.com/images/...   \n",
       "\n",
       "                                              videos       store categories  \\\n",
       "0  [{'title': 'Irish Locket Celtic Locket Necklac...     CHUVORA         []   \n",
       "1                                                 []    PrimeMed         []   \n",
       "2                                                 []       KEZEF         []   \n",
       "3                                                 []  VERO MONTE         []   \n",
       "4                                                 []       SA106         []   \n",
       "\n",
       "                                             details bought_together  \n",
       "0  {'Is Discontinued By Manufacturer': 'No', 'Pro...            None  \n",
       "1  {'Is Discontinued By Manufacturer': 'No', 'Pac...            None  \n",
       "2  {'Material': 'not-applicable', 'Brand': 'KEZEF...            None  \n",
       "3  {'Is Discontinued By Manufacturer': 'No', 'Pro...            None  \n",
       "4  {'Is Discontinued By Manufacturer': 'No', 'Ite...            None  \n",
       "\n",
       "[5 rows x 23 columns]"
      ]
     },
     "execution_count": 39,
     "metadata": {},
     "output_type": "execute_result"
    }
   ],
   "source": [
    "df_fashion_merged.head()"
   ]
  },
  {
   "cell_type": "code",
   "execution_count": 40,
   "metadata": {},
   "outputs": [],
   "source": [
    "df_fashion_merged = df_fashion_merged.sort_values(by='title_y')"
   ]
  },
  {
   "cell_type": "code",
   "execution_count": 41,
   "metadata": {},
   "outputs": [
    {
     "data": {
      "text/html": [
       "<div>\n",
       "<style scoped>\n",
       "    .dataframe tbody tr th:only-of-type {\n",
       "        vertical-align: middle;\n",
       "    }\n",
       "\n",
       "    .dataframe tbody tr th {\n",
       "        vertical-align: top;\n",
       "    }\n",
       "\n",
       "    .dataframe thead th {\n",
       "        text-align: right;\n",
       "    }\n",
       "</style>\n",
       "<table border=\"1\" class=\"dataframe\">\n",
       "  <thead>\n",
       "    <tr style=\"text-align: right;\">\n",
       "      <th></th>\n",
       "      <th>parent_asin</th>\n",
       "      <th>title_y</th>\n",
       "      <th>title_x</th>\n",
       "      <th>text</th>\n",
       "      <th>rating</th>\n",
       "      <th>images_x</th>\n",
       "      <th>asin</th>\n",
       "      <th>user_id</th>\n",
       "      <th>timestamp</th>\n",
       "      <th>helpful_vote</th>\n",
       "      <th>...</th>\n",
       "      <th>rating_number</th>\n",
       "      <th>features</th>\n",
       "      <th>description</th>\n",
       "      <th>price</th>\n",
       "      <th>images_y</th>\n",
       "      <th>videos</th>\n",
       "      <th>store</th>\n",
       "      <th>categories</th>\n",
       "      <th>details</th>\n",
       "      <th>bought_together</th>\n",
       "    </tr>\n",
       "  </thead>\n",
       "  <tbody>\n",
       "    <tr>\n",
       "      <th>1340917</th>\n",
       "      <td>B0B9XKT7ZX</td>\n",
       "      <td></td>\n",
       "      <td>Looks Nothing Like The Pictures</td>\n",
       "      <td>Don’t say I didn’t tell you. Fabric is flimsy....</td>\n",
       "      <td>1.0</td>\n",
       "      <td>[]</td>\n",
       "      <td>B0B9XKT7ZX</td>\n",
       "      <td>AEJMTOOXLTJY7P35T4EFBOQH3PWQ</td>\n",
       "      <td>1663974147202</td>\n",
       "      <td>2</td>\n",
       "      <td>...</td>\n",
       "      <td>1</td>\n",
       "      <td>[]</td>\n",
       "      <td>[]</td>\n",
       "      <td>NaN</td>\n",
       "      <td>[{'thumb': 'https://m.media-amazon.com/images/...</td>\n",
       "      <td>[]</td>\n",
       "      <td>ECHOINE</td>\n",
       "      <td>[]</td>\n",
       "      <td>{'Package Dimensions': '15.59 x 10.83 x 1.54 i...</td>\n",
       "      <td>None</td>\n",
       "    </tr>\n",
       "    <tr>\n",
       "      <th>940332</th>\n",
       "      <td>B06VSX6161</td>\n",
       "      <td></td>\n",
       "      <td>Cute tote that zips!</td>\n",
       "      <td>This just came in yesterday. I had bought it f...</td>\n",
       "      <td>5.0</td>\n",
       "      <td>[]</td>\n",
       "      <td>B06VSX6161</td>\n",
       "      <td>AE23UDL326HMBBM3IGVZO6FSVUOA</td>\n",
       "      <td>1634131523009</td>\n",
       "      <td>0</td>\n",
       "      <td>...</td>\n",
       "      <td>5</td>\n",
       "      <td>[]</td>\n",
       "      <td>[]</td>\n",
       "      <td>NaN</td>\n",
       "      <td>[{'thumb': 'https://m.media-amazon.com/images/...</td>\n",
       "      <td>[]</td>\n",
       "      <td>TOMENGBEI</td>\n",
       "      <td>[]</td>\n",
       "      <td>{'Is Discontinued By Manufacturer': 'No', 'Pro...</td>\n",
       "      <td>None</td>\n",
       "    </tr>\n",
       "    <tr>\n",
       "      <th>1870752</th>\n",
       "      <td>B086RC3HGL</td>\n",
       "      <td></td>\n",
       "      <td>Buy it for your boss lol</td>\n",
       "      <td>My boss loved it. It’s literally her motto.</td>\n",
       "      <td>5.0</td>\n",
       "      <td>[]</td>\n",
       "      <td>B086RC3HGL</td>\n",
       "      <td>AGR3MJPIZZ3ONC7HPZSLA56LDKNA</td>\n",
       "      <td>1616090791577</td>\n",
       "      <td>0</td>\n",
       "      <td>...</td>\n",
       "      <td>118</td>\n",
       "      <td>[Polyester,Spandex, Pull On closure]</td>\n",
       "      <td>[]</td>\n",
       "      <td>NaN</td>\n",
       "      <td>[{'thumb': 'https://m.media-amazon.com/images/...</td>\n",
       "      <td>[]</td>\n",
       "      <td>Zicotour</td>\n",
       "      <td>[]</td>\n",
       "      <td>{'Package Dimensions': '11.2 x 7 x 1.1 inches;...</td>\n",
       "      <td>None</td>\n",
       "    </tr>\n",
       "    <tr>\n",
       "      <th>2484749</th>\n",
       "      <td>B07D4MN64Q</td>\n",
       "      <td></td>\n",
       "      <td>Very pretty!</td>\n",
       "      <td>This toe ring is very beautiful and it is very...</td>\n",
       "      <td>5.0</td>\n",
       "      <td>[]</td>\n",
       "      <td>B07D4MN64Q</td>\n",
       "      <td>AFYNBPKCJKQKEZ3KEA63SAHLI6SQ</td>\n",
       "      <td>1533171657941</td>\n",
       "      <td>1</td>\n",
       "      <td>...</td>\n",
       "      <td>23</td>\n",
       "      <td>[]</td>\n",
       "      <td>[]</td>\n",
       "      <td>NaN</td>\n",
       "      <td>[{'thumb': 'https://m.media-amazon.com/images/...</td>\n",
       "      <td>[]</td>\n",
       "      <td>MOMIMO</td>\n",
       "      <td>[]</td>\n",
       "      <td>{'Is Discontinued By Manufacturer': 'No', 'Pac...</td>\n",
       "      <td>None</td>\n",
       "    </tr>\n",
       "    <tr>\n",
       "      <th>1961786</th>\n",
       "      <td>B07KXFSR6Y</td>\n",
       "      <td></td>\n",
       "      <td>Cute</td>\n",
       "      <td>Super cute. The leg holes were a little large ...</td>\n",
       "      <td>4.0</td>\n",
       "      <td>[]</td>\n",
       "      <td>B07KXFSR6Y</td>\n",
       "      <td>AH7PVE4XPHDD7GTS454NLD23WF7A</td>\n",
       "      <td>1563568403298</td>\n",
       "      <td>0</td>\n",
       "      <td>...</td>\n",
       "      <td>7</td>\n",
       "      <td>[]</td>\n",
       "      <td>[]</td>\n",
       "      <td>NaN</td>\n",
       "      <td>[{'thumb': 'https://m.media-amazon.com/images/...</td>\n",
       "      <td>[]</td>\n",
       "      <td>Mecceos</td>\n",
       "      <td>[]</td>\n",
       "      <td>{'Is Discontinued By Manufacturer': 'No', 'Pro...</td>\n",
       "      <td>None</td>\n",
       "    </tr>\n",
       "  </tbody>\n",
       "</table>\n",
       "<p>5 rows × 23 columns</p>\n",
       "</div>"
      ],
      "text/plain": [
       "        parent_asin title_y                          title_x  \\\n",
       "1340917  B0B9XKT7ZX          Looks Nothing Like The Pictures   \n",
       "940332   B06VSX6161                     Cute tote that zips!   \n",
       "1870752  B086RC3HGL                 Buy it for your boss lol   \n",
       "2484749  B07D4MN64Q                             Very pretty!   \n",
       "1961786  B07KXFSR6Y                                     Cute   \n",
       "\n",
       "                                                      text  rating images_x  \\\n",
       "1340917  Don’t say I didn’t tell you. Fabric is flimsy....     1.0       []   \n",
       "940332   This just came in yesterday. I had bought it f...     5.0       []   \n",
       "1870752        My boss loved it. It’s literally her motto.     5.0       []   \n",
       "2484749  This toe ring is very beautiful and it is very...     5.0       []   \n",
       "1961786  Super cute. The leg holes were a little large ...     4.0       []   \n",
       "\n",
       "               asin                       user_id      timestamp  \\\n",
       "1340917  B0B9XKT7ZX  AEJMTOOXLTJY7P35T4EFBOQH3PWQ  1663974147202   \n",
       "940332   B06VSX6161  AE23UDL326HMBBM3IGVZO6FSVUOA  1634131523009   \n",
       "1870752  B086RC3HGL  AGR3MJPIZZ3ONC7HPZSLA56LDKNA  1616090791577   \n",
       "2484749  B07D4MN64Q  AFYNBPKCJKQKEZ3KEA63SAHLI6SQ  1533171657941   \n",
       "1961786  B07KXFSR6Y  AH7PVE4XPHDD7GTS454NLD23WF7A  1563568403298   \n",
       "\n",
       "         helpful_vote  ...  rating_number  \\\n",
       "1340917             2  ...              1   \n",
       "940332              0  ...              5   \n",
       "1870752             0  ...            118   \n",
       "2484749             1  ...             23   \n",
       "1961786             0  ...              7   \n",
       "\n",
       "                                     features  description  price  \\\n",
       "1340917                                    []           []    NaN   \n",
       "940332                                     []           []    NaN   \n",
       "1870752  [Polyester,Spandex, Pull On closure]           []    NaN   \n",
       "2484749                                    []           []    NaN   \n",
       "1961786                                    []           []    NaN   \n",
       "\n",
       "                                                  images_y videos      store  \\\n",
       "1340917  [{'thumb': 'https://m.media-amazon.com/images/...     []    ECHOINE   \n",
       "940332   [{'thumb': 'https://m.media-amazon.com/images/...     []  TOMENGBEI   \n",
       "1870752  [{'thumb': 'https://m.media-amazon.com/images/...     []   Zicotour   \n",
       "2484749  [{'thumb': 'https://m.media-amazon.com/images/...     []     MOMIMO   \n",
       "1961786  [{'thumb': 'https://m.media-amazon.com/images/...     []    Mecceos   \n",
       "\n",
       "        categories                                            details  \\\n",
       "1340917         []  {'Package Dimensions': '15.59 x 10.83 x 1.54 i...   \n",
       "940332          []  {'Is Discontinued By Manufacturer': 'No', 'Pro...   \n",
       "1870752         []  {'Package Dimensions': '11.2 x 7 x 1.1 inches;...   \n",
       "2484749         []  {'Is Discontinued By Manufacturer': 'No', 'Pac...   \n",
       "1961786         []  {'Is Discontinued By Manufacturer': 'No', 'Pro...   \n",
       "\n",
       "        bought_together  \n",
       "1340917            None  \n",
       "940332             None  \n",
       "1870752            None  \n",
       "2484749            None  \n",
       "1961786            None  \n",
       "\n",
       "[5 rows x 23 columns]"
      ]
     },
     "execution_count": 41,
     "metadata": {},
     "output_type": "execute_result"
    }
   ],
   "source": [
    "df_fashion_merged.head()"
   ]
  },
  {
   "cell_type": "markdown",
   "metadata": {},
   "source": [
    "### How many comments per product are there"
   ]
  },
  {
   "cell_type": "code",
   "execution_count": 42,
   "metadata": {},
   "outputs": [],
   "source": [
    "def reviews_per_product_stats(df):\n",
    "    parent_asin_counts = df['parent_asin'].value_counts()\n",
    "\n",
    "    min_repeats = parent_asin_counts.min()\n",
    "    max_repeats = parent_asin_counts.max()\n",
    "    average_repeats = parent_asin_counts.mean()\n",
    "\n",
    "    print(f\"Smallest repetition count: {min_repeats}\")\n",
    "    print(f\"Largest repetition count: {max_repeats}\")\n",
    "    print(f\"Average repetition count: {average_repeats}\")\n"
   ]
  },
  {
   "cell_type": "code",
   "execution_count": 43,
   "metadata": {},
   "outputs": [
    {
     "name": "stdout",
     "output_type": "stream",
     "text": [
      "Smallest repetition count: 1\n",
      "Largest repetition count: 7554\n",
      "Average repetition count: 3.0282514539230796\n"
     ]
    }
   ],
   "source": [
    "reviews_per_product_stats(df_fashion_merged)"
   ]
  },
  {
   "cell_type": "code",
   "execution_count": 44,
   "metadata": {},
   "outputs": [],
   "source": [
    "def n_of_reviews_per_product_over_value(df, value = 100):\n",
    "    parent_asin_counts = df['parent_asin'].value_counts()\n",
    "    repeated_over_value = parent_asin_counts[parent_asin_counts > value]\n",
    "    count_repeated_over_value = repeated_over_value.count()\n",
    "\n",
    "    print(f\"Number of parent_asin values repeated over {value} times: {count_repeated_over_value}\")\n"
   ]
  },
  {
   "cell_type": "code",
   "execution_count": 45,
   "metadata": {},
   "outputs": [
    {
     "name": "stdout",
     "output_type": "stream",
     "text": [
      "Number of parent_asin values repeated over 5 times: 73830\n"
     ]
    }
   ],
   "source": [
    "n_of_reviews_per_product_over_value(df_fashion_merged, 5)"
   ]
  },
  {
   "cell_type": "code",
   "execution_count": 46,
   "metadata": {},
   "outputs": [
    {
     "name": "stdout",
     "output_type": "stream",
     "text": [
      "Number of parent_asin values repeated over 10 times: 31302\n"
     ]
    }
   ],
   "source": [
    "n_of_reviews_per_product_over_value(df_fashion_merged,10)"
   ]
  },
  {
   "cell_type": "code",
   "execution_count": 47,
   "metadata": {},
   "outputs": [
    {
     "name": "stdout",
     "output_type": "stream",
     "text": [
      "Number of parent_asin values repeated over 20 times: 12266\n"
     ]
    }
   ],
   "source": [
    "n_of_reviews_per_product_over_value(df_fashion_merged,20)"
   ]
  },
  {
   "cell_type": "code",
   "execution_count": 48,
   "metadata": {},
   "outputs": [
    {
     "name": "stdout",
     "output_type": "stream",
     "text": [
      "Number of parent_asin values repeated over 30 times: 6913\n"
     ]
    }
   ],
   "source": [
    "n_of_reviews_per_product_over_value(df_fashion_merged,30)"
   ]
  },
  {
   "cell_type": "code",
   "execution_count": 49,
   "metadata": {},
   "outputs": [
    {
     "name": "stdout",
     "output_type": "stream",
     "text": [
      "Number of parent_asin values repeated over 50 times: 3211\n"
     ]
    }
   ],
   "source": [
    "n_of_reviews_per_product_over_value(df_fashion_merged,50)"
   ]
  },
  {
   "cell_type": "code",
   "execution_count": 50,
   "metadata": {},
   "outputs": [
    {
     "name": "stdout",
     "output_type": "stream",
     "text": [
      "Number of parent_asin values repeated over 100 times: 1096\n"
     ]
    }
   ],
   "source": [
    "n_of_reviews_per_product_over_value(df_fashion_merged,100)"
   ]
  },
  {
   "cell_type": "markdown",
   "metadata": {},
   "source": [
    "# Video Games"
   ]
  },
  {
   "cell_type": "code",
   "execution_count": 51,
   "metadata": {},
   "outputs": [],
   "source": [
    "df_video_games = jsonl_to_dataframe(video_games_jsonl)\n",
    "df_video_games_meta = jsonl_to_dataframe(meta_video_games_jsonl)"
   ]
  },
  {
   "cell_type": "code",
   "execution_count": 52,
   "metadata": {},
   "outputs": [],
   "source": [
    "df_video_games_merged = df_video_games.merge(df_video_games_meta, on='parent_asin', how='left')"
   ]
  },
  {
   "cell_type": "code",
   "execution_count": 53,
   "metadata": {},
   "outputs": [],
   "source": [
    "df_video_games_merged = df_video_games_merged[column_order]"
   ]
  },
  {
   "cell_type": "code",
   "execution_count": 54,
   "metadata": {},
   "outputs": [
    {
     "name": "stdout",
     "output_type": "stream",
     "text": [
      "Smallest repetition count: 1\n",
      "Largest repetition count: 18105\n",
      "Average repetition count: 33.695072459544335\n"
     ]
    }
   ],
   "source": [
    "reviews_per_product_stats(df_video_games_merged)"
   ]
  },
  {
   "cell_type": "code",
   "execution_count": 55,
   "metadata": {},
   "outputs": [
    {
     "name": "stdout",
     "output_type": "stream",
     "text": [
      "Number of parent_asin values repeated over 100 times: 7917\n"
     ]
    }
   ],
   "source": [
    "n_of_reviews_per_product_over_value(df_video_games_merged,100)"
   ]
  },
  {
   "cell_type": "code",
   "execution_count": 56,
   "metadata": {},
   "outputs": [
    {
     "name": "stdout",
     "output_type": "stream",
     "text": [
      "Number of parent_asin values repeated over 50 times: 13776\n"
     ]
    }
   ],
   "source": [
    "n_of_reviews_per_product_over_value(df_video_games_merged, 50)"
   ]
  },
  {
   "cell_type": "markdown",
   "metadata": {},
   "source": [
    "# Books ! nie wywoływać niżej, za duże"
   ]
  },
  {
   "cell_type": "code",
   "execution_count": null,
   "metadata": {},
   "outputs": [],
   "source": [
    "#df_books = jsonl_to_dataframe(books_jsonl)\n",
    "#df_books_meta = jsonl_to_dataframe(meta_books_jsonl)"
   ]
  },
  {
   "cell_type": "code",
   "execution_count": null,
   "metadata": {},
   "outputs": [
    {
     "name": "stderr",
     "output_type": "stream",
     "text": [
      "C:\\Users\\User\\AppData\\Local\\Temp\\ipykernel_25528\\3242688383.py:1: DeprecationWarning: \n",
      "Pyarrow will become a required dependency of pandas in the next major release of pandas (pandas 3.0),\n",
      "(to allow more performant data types, such as the Arrow string type, and better interoperability with other libraries)\n",
      "but was not found to be installed on your system.\n",
      "If this would cause problems for you,\n",
      "please provide us feedback at https://github.com/pandas-dev/pandas/issues/54466\n",
      "        \n",
      "  import pandas as pd\n"
     ]
    }
   ],
   "source": [
    "import pandas as pd\n",
    "\n",
    "df_books = pd.read_json(books_jsonl, lines=True)\n"
   ]
  },
  {
   "cell_type": "code",
   "execution_count": null,
   "metadata": {},
   "outputs": [
    {
     "name": "stderr",
     "output_type": "stream",
     "text": [
      "C:\\Users\\User\\AppData\\Local\\Temp\\ipykernel_16676\\1098675509.py:1: DeprecationWarning: \n",
      "Pyarrow will become a required dependency of pandas in the next major release of pandas (pandas 3.0),\n",
      "(to allow more performant data types, such as the Arrow string type, and better interoperability with other libraries)\n",
      "but was not found to be installed on your system.\n",
      "If this would cause problems for you,\n",
      "please provide us feedback at https://github.com/pandas-dev/pandas/issues/54466\n",
      "        \n",
      "  import pandas as pd\n"
     ]
    }
   ],
   "source": [
    "import pandas as pd\n",
    "\n",
    "def read_jsonl_in_chunks(file_path, chunksize=10000):\n",
    "    chunks = []\n",
    "    \n",
    "    for chunk in pd.read_json(file_path, lines=True, chunksize=chunksize):\n",
    "        chunks.append(chunk)\n",
    "    \n",
    "    return pd.concat(chunks, ignore_index=True)\n",
    "\n",
    "df_books = read_jsonl_in_chunks(books_jsonl)\n"
   ]
  },
  {
   "cell_type": "code",
   "execution_count": 5,
   "metadata": {},
   "outputs": [
    {
     "name": "stdout",
     "output_type": "stream",
     "text": [
      "Loaded 100000 of 29475453\n",
      "Loaded 200000 of 29475453\n",
      "Loaded 300000 of 29475453\n",
      "Loaded 400000 of 29475453\n",
      "Loaded 500000 of 29475453\n",
      "Loaded 600000 of 29475453\n",
      "Loaded 700000 of 29475453\n",
      "Loaded 800000 of 29475453\n",
      "Loaded 900000 of 29475453\n",
      "Loaded 1000000 of 29475453\n",
      "Loaded 1100000 of 29475453\n",
      "Loaded 1200000 of 29475453\n",
      "Loaded 1300000 of 29475453\n",
      "Loaded 1400000 of 29475453\n",
      "Loaded 1500000 of 29475453\n",
      "Loaded 1600000 of 29475453\n",
      "Loaded 1700000 of 29475453\n",
      "Loaded 1800000 of 29475453\n",
      "Loaded 1900000 of 29475453\n",
      "Loaded 2000000 of 29475453\n",
      "Loaded 2100000 of 29475453\n",
      "Loaded 2200000 of 29475453\n",
      "Loaded 2300000 of 29475453\n",
      "Loaded 2400000 of 29475453\n",
      "Loaded 2500000 of 29475453\n",
      "Loaded 2600000 of 29475453\n",
      "Loaded 2700000 of 29475453\n",
      "Loaded 2800000 of 29475453\n",
      "Loaded 2900000 of 29475453\n",
      "Loaded 3000000 of 29475453\n",
      "Loaded 3100000 of 29475453\n",
      "Loaded 3200000 of 29475453\n",
      "Loaded 3300000 of 29475453\n",
      "Loaded 3400000 of 29475453\n",
      "Loaded 3500000 of 29475453\n",
      "Loaded 3600000 of 29475453\n",
      "Loaded 3700000 of 29475453\n",
      "Loaded 3800000 of 29475453\n",
      "Loaded 3900000 of 29475453\n",
      "Loaded 4000000 of 29475453\n",
      "Loaded 4100000 of 29475453\n",
      "Loaded 4200000 of 29475453\n",
      "Loaded 4300000 of 29475453\n",
      "Loaded 4400000 of 29475453\n",
      "Loaded 4500000 of 29475453\n",
      "Loaded 4600000 of 29475453\n",
      "Loaded 4700000 of 29475453\n",
      "Loaded 4800000 of 29475453\n",
      "Loaded 4900000 of 29475453\n",
      "Loaded 5000000 of 29475453\n",
      "Loaded 5100000 of 29475453\n",
      "Loaded 5200000 of 29475453\n",
      "Loaded 5300000 of 29475453\n",
      "Loaded 5400000 of 29475453\n",
      "Loaded 5500000 of 29475453\n",
      "Loaded 5600000 of 29475453\n",
      "Loaded 5700000 of 29475453\n",
      "Loaded 5800000 of 29475453\n",
      "Loaded 5900000 of 29475453\n",
      "Loaded 6000000 of 29475453\n",
      "Loaded 6100000 of 29475453\n",
      "Loaded 6200000 of 29475453\n",
      "Loaded 6300000 of 29475453\n",
      "Loaded 6400000 of 29475453\n",
      "Loaded 6500000 of 29475453\n",
      "Loaded 6600000 of 29475453\n",
      "Loaded 6700000 of 29475453\n",
      "Loaded 6800000 of 29475453\n",
      "Loaded 6900000 of 29475453\n",
      "Loaded 7000000 of 29475453\n",
      "Loaded 7100000 of 29475453\n",
      "Loaded 7200000 of 29475453\n",
      "Loaded 7300000 of 29475453\n",
      "Loaded 7400000 of 29475453\n",
      "Loaded 7500000 of 29475453\n",
      "Loaded 7600000 of 29475453\n",
      "Loaded 7700000 of 29475453\n",
      "Loaded 7800000 of 29475453\n",
      "Loaded 7900000 of 29475453\n",
      "Loaded 8000000 of 29475453\n",
      "Loaded 8100000 of 29475453\n",
      "Loaded 8200000 of 29475453\n",
      "Loaded 8300000 of 29475453\n",
      "Loaded 8400000 of 29475453\n",
      "Loaded 8500000 of 29475453\n",
      "Loaded 8600000 of 29475453\n",
      "Loaded 8700000 of 29475453\n",
      "Loaded 8800000 of 29475453\n",
      "Loaded 8900000 of 29475453\n",
      "Loaded 9000000 of 29475453\n",
      "Loaded 9100000 of 29475453\n",
      "Loaded 9200000 of 29475453\n",
      "Loaded 9300000 of 29475453\n",
      "Loaded 9400000 of 29475453\n",
      "Loaded 9500000 of 29475453\n",
      "Loaded 9600000 of 29475453\n",
      "Loaded 9700000 of 29475453\n",
      "Loaded 9800000 of 29475453\n",
      "Loaded 9900000 of 29475453\n",
      "Loaded 10000000 of 29475453\n",
      "Loaded 10100000 of 29475453\n",
      "Loaded 10200000 of 29475453\n",
      "Loaded 10300000 of 29475453\n",
      "Loaded 10400000 of 29475453\n",
      "Loaded 10500000 of 29475453\n",
      "Loaded 10600000 of 29475453\n",
      "Loaded 10700000 of 29475453\n",
      "Loaded 10800000 of 29475453\n",
      "Loaded 10900000 of 29475453\n",
      "Loaded 11000000 of 29475453\n",
      "Loaded 11100000 of 29475453\n",
      "Loaded 11200000 of 29475453\n",
      "Loaded 11300000 of 29475453\n",
      "Loaded 11400000 of 29475453\n",
      "Loaded 11500000 of 29475453\n",
      "Loaded 11600000 of 29475453\n",
      "Loaded 11700000 of 29475453\n",
      "Loaded 11800000 of 29475453\n",
      "Loaded 11900000 of 29475453\n",
      "Loaded 12000000 of 29475453\n",
      "Loaded 12100000 of 29475453\n",
      "Loaded 12200000 of 29475453\n",
      "Loaded 12300000 of 29475453\n",
      "Loaded 12400000 of 29475453\n",
      "Loaded 12500000 of 29475453\n",
      "Loaded 12600000 of 29475453\n",
      "Loaded 12700000 of 29475453\n",
      "Loaded 12800000 of 29475453\n",
      "Loaded 12900000 of 29475453\n",
      "Loaded 13000000 of 29475453\n",
      "Loaded 13100000 of 29475453\n",
      "Loaded 13200000 of 29475453\n",
      "Loaded 13300000 of 29475453\n",
      "Loaded 13400000 of 29475453\n",
      "Loaded 13500000 of 29475453\n",
      "Loaded 13600000 of 29475453\n",
      "Loaded 13700000 of 29475453\n",
      "Loaded 13800000 of 29475453\n",
      "Loaded 13900000 of 29475453\n",
      "Loaded 14000000 of 29475453\n",
      "Loaded 14100000 of 29475453\n",
      "Loaded 14200000 of 29475453\n",
      "Loaded 14300000 of 29475453\n",
      "Loaded 14400000 of 29475453\n",
      "Loaded 14500000 of 29475453\n",
      "Loaded 14600000 of 29475453\n",
      "Loaded 14700000 of 29475453\n",
      "Loaded 14800000 of 29475453\n",
      "Loaded 14900000 of 29475453\n",
      "Loaded 15000000 of 29475453\n",
      "Loaded 15100000 of 29475453\n",
      "Loaded 15200000 of 29475453\n",
      "Loaded 15300000 of 29475453\n",
      "Loaded 15400000 of 29475453\n",
      "Loaded 15500000 of 29475453\n",
      "Loaded 15600000 of 29475453\n",
      "Loaded 15700000 of 29475453\n",
      "Loaded 15800000 of 29475453\n",
      "Loaded 15900000 of 29475453\n",
      "Loaded 16000000 of 29475453\n",
      "Loaded 16100000 of 29475453\n",
      "Loaded 16200000 of 29475453\n",
      "Loaded 16300000 of 29475453\n",
      "Loaded 16400000 of 29475453\n",
      "Loaded 16500000 of 29475453\n",
      "Loaded 16600000 of 29475453\n",
      "Loaded 16700000 of 29475453\n",
      "Loaded 16800000 of 29475453\n",
      "Loaded 16900000 of 29475453\n",
      "Loaded 17000000 of 29475453\n",
      "Loaded 17100000 of 29475453\n",
      "Loaded 17200000 of 29475453\n",
      "Loaded 17300000 of 29475453\n",
      "Loaded 17400000 of 29475453\n",
      "Loaded 17500000 of 29475453\n",
      "Loaded 17600000 of 29475453\n",
      "Loaded 17700000 of 29475453\n",
      "Loaded 17800000 of 29475453\n",
      "Loaded 17900000 of 29475453\n",
      "Loaded 18000000 of 29475453\n",
      "Loaded 18100000 of 29475453\n",
      "Loaded 18200000 of 29475453\n",
      "Loaded 18300000 of 29475453\n",
      "Loaded 18400000 of 29475453\n",
      "Loaded 18500000 of 29475453\n",
      "Loaded 18600000 of 29475453\n",
      "Loaded 18700000 of 29475453\n",
      "Loaded 18800000 of 29475453\n",
      "Loaded 18900000 of 29475453\n",
      "Loaded 19000000 of 29475453\n",
      "Loaded 19100000 of 29475453\n",
      "Loaded 19200000 of 29475453\n",
      "Loaded 19300000 of 29475453\n",
      "Loaded 19400000 of 29475453\n",
      "Loaded 19500000 of 29475453\n",
      "Loaded 19600000 of 29475453\n",
      "Loaded 19700000 of 29475453\n",
      "Loaded 19800000 of 29475453\n",
      "Loaded 19900000 of 29475453\n",
      "Loaded 20000000 of 29475453\n",
      "Loaded 20100000 of 29475453\n",
      "Loaded 20200000 of 29475453\n",
      "Loaded 20300000 of 29475453\n",
      "Loaded 20400000 of 29475453\n",
      "Loaded 20500000 of 29475453\n",
      "Loaded 20600000 of 29475453\n",
      "Loaded 20700000 of 29475453\n",
      "Loaded 20800000 of 29475453\n",
      "Loaded 20900000 of 29475453\n",
      "Loaded 21000000 of 29475453\n",
      "Loaded 21100000 of 29475453\n",
      "Loaded 21200000 of 29475453\n",
      "Loaded 21300000 of 29475453\n",
      "Loaded 21400000 of 29475453\n",
      "Loaded 21500000 of 29475453\n",
      "Loaded 21600000 of 29475453\n",
      "Loaded 21700000 of 29475453\n",
      "Loaded 21800000 of 29475453\n",
      "Loaded 21900000 of 29475453\n",
      "Loaded 22000000 of 29475453\n",
      "Loaded 22100000 of 29475453\n",
      "Loaded 22200000 of 29475453\n",
      "Loaded 22300000 of 29475453\n",
      "Loaded 22400000 of 29475453\n",
      "Loaded 22500000 of 29475453\n",
      "Loaded 22600000 of 29475453\n",
      "Loaded 22700000 of 29475453\n",
      "Loaded 22800000 of 29475453\n",
      "Loaded 22900000 of 29475453\n",
      "Loaded 23000000 of 29475453\n",
      "Loaded 23100000 of 29475453\n",
      "Loaded 23200000 of 29475453\n",
      "Loaded 23300000 of 29475453\n",
      "Loaded 23400000 of 29475453\n",
      "Loaded 23500000 of 29475453\n",
      "Loaded 23600000 of 29475453\n",
      "Loaded 23700000 of 29475453\n",
      "Loaded 23800000 of 29475453\n",
      "Loaded 23900000 of 29475453\n",
      "Loaded 24000000 of 29475453\n",
      "Loaded 24100000 of 29475453\n",
      "Loaded 24200000 of 29475453\n",
      "Loaded 24300000 of 29475453\n",
      "Loaded 24400000 of 29475453\n",
      "Loaded 24500000 of 29475453\n",
      "Loaded 24600000 of 29475453\n",
      "Loaded 24700000 of 29475453\n",
      "Loaded 24800000 of 29475453\n",
      "Loaded 24900000 of 29475453\n",
      "Loaded 25000000 of 29475453\n",
      "Loaded 25100000 of 29475453\n",
      "Loaded 25200000 of 29475453\n",
      "Loaded 25300000 of 29475453\n",
      "Loaded 25400000 of 29475453\n",
      "Loaded 25500000 of 29475453\n",
      "Loaded 25600000 of 29475453\n",
      "Loaded 25700000 of 29475453\n",
      "Loaded 25800000 of 29475453\n",
      "Loaded 25900000 of 29475453\n",
      "Loaded 26000000 of 29475453\n",
      "Loaded 26100000 of 29475453\n",
      "Loaded 26200000 of 29475453\n",
      "Loaded 26300000 of 29475453\n",
      "Loaded 26400000 of 29475453\n",
      "Loaded 26500000 of 29475453\n",
      "Loaded 26600000 of 29475453\n",
      "Loaded 26700000 of 29475453\n",
      "Loaded 26800000 of 29475453\n",
      "Loaded 26900000 of 29475453\n",
      "Loaded 27000000 of 29475453\n",
      "Loaded 27100000 of 29475453\n",
      "Loaded 27200000 of 29475453\n",
      "Loaded 27300000 of 29475453\n",
      "Loaded 27400000 of 29475453\n",
      "Loaded 27500000 of 29475453\n",
      "Loaded 27600000 of 29475453\n",
      "Loaded 27700000 of 29475453\n",
      "Loaded 27800000 of 29475453\n",
      "Loaded 27900000 of 29475453\n",
      "Loaded 28000000 of 29475453\n",
      "Loaded 28100000 of 29475453\n",
      "Loaded 28200000 of 29475453\n",
      "Loaded 28300000 of 29475453\n",
      "Loaded 28400000 of 29475453\n",
      "Loaded 28500000 of 29475453\n",
      "Loaded 28600000 of 29475453\n",
      "Loaded 28700000 of 29475453\n",
      "Loaded 28800000 of 29475453\n",
      "Loaded 28900000 of 29475453\n",
      "Loaded 29000000 of 29475453\n",
      "Loaded 29100000 of 29475453\n",
      "Loaded 29200000 of 29475453\n",
      "Loaded 29300000 of 29475453\n",
      "Loaded 29400000 of 29475453\n"
     ]
    }
   ],
   "source": [
    "import pandas as pd\n",
    "\n",
    "def read_jsonl_in_chunks(file_path, chunksize=10000):\n",
    "    chunks = []\n",
    "    total_lines = 29475453 \n",
    "    lines_read = 0  \n",
    "    \n",
    "    for chunk in pd.read_json(file_path, lines=True, chunksize=chunksize):\n",
    "        chunks.append(chunk)\n",
    "        lines_read += len(chunk)  \n",
    "        \n",
    "        if lines_read % 100000 == 0:  # Print every 1%\n",
    "            print(f\"Loaded {lines_read} of {total_lines}\")\n",
    "    \n",
    "    return pd.concat(chunks, ignore_index=True)\n",
    "\n",
    "# Example usage\n",
    "df_books = read_jsonl_in_chunks(books_jsonl)\n"
   ]
  },
  {
   "cell_type": "code",
   "execution_count": 8,
   "metadata": {},
   "outputs": [
    {
     "name": "stdout",
     "output_type": "stream",
     "text": [
      "(29475453, 10)\n"
     ]
    }
   ],
   "source": [
    "print(df_books.shape)\n"
   ]
  },
  {
   "cell_type": "code",
   "execution_count": 6,
   "metadata": {},
   "outputs": [
    {
     "data": {
      "text/html": [
       "<div>\n",
       "<style scoped>\n",
       "    .dataframe tbody tr th:only-of-type {\n",
       "        vertical-align: middle;\n",
       "    }\n",
       "\n",
       "    .dataframe tbody tr th {\n",
       "        vertical-align: top;\n",
       "    }\n",
       "\n",
       "    .dataframe thead th {\n",
       "        text-align: right;\n",
       "    }\n",
       "</style>\n",
       "<table border=\"1\" class=\"dataframe\">\n",
       "  <thead>\n",
       "    <tr style=\"text-align: right;\">\n",
       "      <th></th>\n",
       "      <th>rating</th>\n",
       "      <th>title</th>\n",
       "      <th>text</th>\n",
       "      <th>images</th>\n",
       "      <th>asin</th>\n",
       "      <th>parent_asin</th>\n",
       "      <th>user_id</th>\n",
       "      <th>timestamp</th>\n",
       "      <th>helpful_vote</th>\n",
       "      <th>verified_purchase</th>\n",
       "    </tr>\n",
       "  </thead>\n",
       "  <tbody>\n",
       "    <tr>\n",
       "      <th>0</th>\n",
       "      <td>1</td>\n",
       "      <td>Not a watercolor book! Seems like copies imo.</td>\n",
       "      <td>It is definitely not a watercolor book.  The p...</td>\n",
       "      <td>[{'small_image_url': 'https://m.media-amazon.c...</td>\n",
       "      <td>B09BGPFTDB</td>\n",
       "      <td>B09BGPFTDB</td>\n",
       "      <td>AFKZENTNBQ7A7V7UXW5JJI6UGRYQ</td>\n",
       "      <td>2022-01-17 06:06:38.485</td>\n",
       "      <td>0</td>\n",
       "      <td>True</td>\n",
       "    </tr>\n",
       "    <tr>\n",
       "      <th>1</th>\n",
       "      <td>5</td>\n",
       "      <td>Updated: after 1st arrived damaged this one is...</td>\n",
       "      <td>Updated: after first book arrived very damaged...</td>\n",
       "      <td>[]</td>\n",
       "      <td>0593235657</td>\n",
       "      <td>0593235657</td>\n",
       "      <td>AFKZENTNBQ7A7V7UXW5JJI6UGRYQ</td>\n",
       "      <td>2021-12-27 18:26:44.904</td>\n",
       "      <td>1</td>\n",
       "      <td>True</td>\n",
       "    </tr>\n",
       "    <tr>\n",
       "      <th>2</th>\n",
       "      <td>5</td>\n",
       "      <td>Excellent! I love it!</td>\n",
       "      <td>I bought it for the bag on the front so it pai...</td>\n",
       "      <td>[]</td>\n",
       "      <td>1782490671</td>\n",
       "      <td>1782490671</td>\n",
       "      <td>AFKZENTNBQ7A7V7UXW5JJI6UGRYQ</td>\n",
       "      <td>2021-12-24 22:04:55.102</td>\n",
       "      <td>0</td>\n",
       "      <td>True</td>\n",
       "    </tr>\n",
       "    <tr>\n",
       "      <th>3</th>\n",
       "      <td>5</td>\n",
       "      <td>Updated after 1st arrived damaged. Excellent</td>\n",
       "      <td>Updated: after 1st arrived damaged the replace...</td>\n",
       "      <td>[]</td>\n",
       "      <td>0593138228</td>\n",
       "      <td>0593138228</td>\n",
       "      <td>AFKZENTNBQ7A7V7UXW5JJI6UGRYQ</td>\n",
       "      <td>2021-12-24 16:55:06.602</td>\n",
       "      <td>0</td>\n",
       "      <td>False</td>\n",
       "    </tr>\n",
       "    <tr>\n",
       "      <th>4</th>\n",
       "      <td>5</td>\n",
       "      <td>Beautiful patterns!</td>\n",
       "      <td>I love this book!  The patterns are lovely. I ...</td>\n",
       "      <td>[{'small_image_url': 'https://m.media-amazon.c...</td>\n",
       "      <td>0823098079</td>\n",
       "      <td>0823098079</td>\n",
       "      <td>AFKZENTNBQ7A7V7UXW5JJI6UGRYQ</td>\n",
       "      <td>2021-11-19 08:57:33.230</td>\n",
       "      <td>0</td>\n",
       "      <td>True</td>\n",
       "    </tr>\n",
       "  </tbody>\n",
       "</table>\n",
       "</div>"
      ],
      "text/plain": [
       "   rating                                              title  \\\n",
       "0       1      Not a watercolor book! Seems like copies imo.   \n",
       "1       5  Updated: after 1st arrived damaged this one is...   \n",
       "2       5                              Excellent! I love it!   \n",
       "3       5       Updated after 1st arrived damaged. Excellent   \n",
       "4       5                                Beautiful patterns!   \n",
       "\n",
       "                                                text  \\\n",
       "0  It is definitely not a watercolor book.  The p...   \n",
       "1  Updated: after first book arrived very damaged...   \n",
       "2  I bought it for the bag on the front so it pai...   \n",
       "3  Updated: after 1st arrived damaged the replace...   \n",
       "4  I love this book!  The patterns are lovely. I ...   \n",
       "\n",
       "                                              images        asin parent_asin  \\\n",
       "0  [{'small_image_url': 'https://m.media-amazon.c...  B09BGPFTDB  B09BGPFTDB   \n",
       "1                                                 []  0593235657  0593235657   \n",
       "2                                                 []  1782490671  1782490671   \n",
       "3                                                 []  0593138228  0593138228   \n",
       "4  [{'small_image_url': 'https://m.media-amazon.c...  0823098079  0823098079   \n",
       "\n",
       "                        user_id               timestamp  helpful_vote  \\\n",
       "0  AFKZENTNBQ7A7V7UXW5JJI6UGRYQ 2022-01-17 06:06:38.485             0   \n",
       "1  AFKZENTNBQ7A7V7UXW5JJI6UGRYQ 2021-12-27 18:26:44.904             1   \n",
       "2  AFKZENTNBQ7A7V7UXW5JJI6UGRYQ 2021-12-24 22:04:55.102             0   \n",
       "3  AFKZENTNBQ7A7V7UXW5JJI6UGRYQ 2021-12-24 16:55:06.602             0   \n",
       "4  AFKZENTNBQ7A7V7UXW5JJI6UGRYQ 2021-11-19 08:57:33.230             0   \n",
       "\n",
       "   verified_purchase  \n",
       "0               True  \n",
       "1               True  \n",
       "2               True  \n",
       "3              False  \n",
       "4               True  "
      ]
     },
     "execution_count": 6,
     "metadata": {},
     "output_type": "execute_result"
    }
   ],
   "source": [
    "df_books.head()"
   ]
  },
  {
   "cell_type": "code",
   "execution_count": null,
   "metadata": {},
   "outputs": [],
   "source": []
  },
  {
   "cell_type": "markdown",
   "metadata": {},
   "source": [
    "# Cell phones"
   ]
  },
  {
   "cell_type": "code",
   "execution_count": 15,
   "metadata": {},
   "outputs": [
    {
     "name": "stdout",
     "output_type": "stream",
     "text": [
      "Records count: 20812945\n"
     ]
    }
   ],
   "source": [
    "count_records(cell_Phones_and_Accessories)"
   ]
  }
 ],
 "metadata": {
  "kernelspec": {
   "display_name": "Python 3",
   "language": "python",
   "name": "python3"
  },
  "language_info": {
   "codemirror_mode": {
    "name": "ipython",
    "version": 3
   },
   "file_extension": ".py",
   "mimetype": "text/x-python",
   "name": "python",
   "nbconvert_exporter": "python",
   "pygments_lexer": "ipython3",
   "version": "3.12.1"
  }
 },
 "nbformat": 4,
 "nbformat_minor": 2
}

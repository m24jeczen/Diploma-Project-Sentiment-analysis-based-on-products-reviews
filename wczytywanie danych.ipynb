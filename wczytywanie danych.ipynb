{
 "cells": [
  {
   "cell_type": "markdown",
   "metadata": {},
   "source": [
    "# Dane Amazon Reviews\n",
    "## Kategoria Fashion\n",
    "link: https://amazon-reviews-2023.github.io/\n"
   ]
  },
  {
   "cell_type": "code",
   "execution_count": 1,
   "metadata": {},
   "outputs": [],
   "source": [
    "import json"
   ]
  },
  {
   "cell_type": "code",
   "execution_count": 2,
   "metadata": {},
   "outputs": [
    {
     "name": "stdout",
     "output_type": "stream",
     "text": [
      "c:\\Users\\User\\Desktop\\INŻYNIERKA\\kody\n"
     ]
    }
   ],
   "source": [
    "import os\n",
    "current_working_directory = os.getcwd()\n",
    "print(current_working_directory)"
   ]
  },
  {
   "cell_type": "code",
   "execution_count": 3,
   "metadata": {},
   "outputs": [
    {
     "name": "stdout",
     "output_type": "stream",
     "text": [
      "{'rating': 5.0, 'title': 'Pretty locket', 'text': 'I think this locket is really pretty. The inside back is a solid silver depression and the front is a dome that is not solid (knotted). You could use it to store a small photo, lock of hair, etc but I use it when I need to carry medication with me. Closes securely. High quality & very pretty.', 'images': [], 'asin': 'B00LOPVX74', 'parent_asin': 'B00LOPVX74', 'user_id': 'AGBFYI2DDIKXC5Y4FARTYDTQBMFQ', 'timestamp': 1578528394489, 'helpful_vote': 3, 'verified_purchase': True}\n",
      "{'rating': 5.0, 'title': 'A', 'text': 'Great', 'images': [], 'asin': 'B07B4JXK8D', 'parent_asin': 'B07B4JXK8D', 'user_id': 'AFQLNQNQYFWQZPJQZS6V3NZU4QBQ', 'timestamp': 1608426246701, 'helpful_vote': 0, 'verified_purchase': True}\n",
      "{'rating': 2.0, 'title': 'Two Stars', 'text': 'One of the stones fell out within the first 2 weeks of wearing it. Stones smaller than expected.', 'images': [], 'asin': 'B007ZSEQ4Q', 'parent_asin': 'B007ZSEQ4Q', 'user_id': 'AHITBJSS7KYUBVZPX7M2WJCOIVKQ', 'timestamp': 1432344828000, 'helpful_vote': 3, 'verified_purchase': True}\n",
      "{'rating': 1.0, 'title': 'Won’t buy again', 'text': 'Crappy socks. Money wasted. Bought to wear with my tieks. Don’t stay on feet well.', 'images': [], 'asin': 'B07F2BTFS9', 'parent_asin': 'B07F2BTFS9', 'user_id': 'AFVNEEPDEIH5SPUN5BWC6NKL3WNQ', 'timestamp': 1546289847095, 'helpful_vote': 2, 'verified_purchase': True}\n",
      "{'rating': 5.0, 'title': 'I LOVE these glasses', 'text': \"I LOVE these glasses!  They fit perfectly over my regular, rectangular glasses that I always have to wear in order to see.  I really appreciate having these pretty and stylish and sturdy sunglasses to wear over my glasses.  I'll buy these again and again whenever I need a new pair, which hopefully won't be too soon.\", 'images': [], 'asin': 'B00PKRFU4O', 'parent_asin': 'B00XESJTDE', 'user_id': 'AHSPLDNW5OOUK2PLH7GXLACFBZNQ', 'timestamp': 1439476166000, 'helpful_vote': 0, 'verified_purchase': True}\n",
      "{'rating': 3.0, 'title': 'Adult friendly; Not for small kids', 'text': 'Works OK for adults and is not at all kid friendly as stated. Slides down my 5 year olds face.', 'images': [], 'asin': 'B089S8MFCQ', 'parent_asin': 'B089S8MFCQ', 'user_id': 'AHTTU2FL6FCNBBAESCJHOHHSSW7A', 'timestamp': 1603306686690, 'helpful_vote': 0, 'verified_purchase': True}\n",
      "{'rating': 5.0, 'title': 'Five Stars', 'text': 'Great fit', 'images': [], 'asin': 'B01MZDN9Z4', 'parent_asin': 'B01MZDN9Z4', 'user_id': 'AFWHJ6O3PV4JC7PVOJH6CPULO2KQ', 'timestamp': 1497119249157, 'helpful_vote': 0, 'verified_purchase': True}\n",
      "{'rating': 4.0, 'title': 'Heavy earrings for size of owls but so darn cute!', 'text': 'Would be five stars but they are just too heavy for the size. So cute, gets lots of compliments, but pull the ears down.', 'images': [], 'asin': 'B00N9X4XNU', 'parent_asin': 'B00N9X4XNU', 'user_id': 'AEWJXW46LKSW22FWTGRYTLNE7TGA', 'timestamp': 1543584620566, 'helpful_vote': 0, 'verified_purchase': True}\n",
      "{'rating': 5.0, 'title': 'Bright and summer', 'text': 'What a cute top! Cam wait to wear in warm weather! Got nice', 'images': [], 'asin': 'B087M39LVV', 'parent_asin': 'B087M39LVV', 'user_id': 'AEQAYV7RXZEBXMQIQPL6KCT2CFWQ', 'timestamp': 1642721894143, 'helpful_vote': 0, 'verified_purchase': True}\n",
      "{'rating': 2.0, 'title': 'Scratchy', 'text': 'Very inexpensive, but too rough and uncomfortable for me, I have to return them..', 'images': [], 'asin': 'B0799L7FMC', 'parent_asin': 'B0799L7FMC', 'user_id': 'AFNT6ZJCYQN3WDIKUSWHJDXNND2Q', 'timestamp': 1532728417117, 'helpful_vote': 0, 'verified_purchase': True}\n"
     ]
    }
   ],
   "source": [
    "import json\n",
    "\n",
    "plik_jsonl = 'c:\\\\Users\\\\User\\\\Desktop\\\\INŻYNIERKA\\\\Amazon_Fashion.jsonl'\n",
    "\n",
    "with open(plik_jsonl, 'r', encoding='utf-8') as file:\n",
    "    for i, linia in enumerate(file):\n",
    "        if i >= 10:\n",
    "            break  \n",
    "        obiekt = json.loads(linia)\n",
    "        print(obiekt)\n"
   ]
  },
  {
   "cell_type": "code",
   "execution_count": 4,
   "metadata": {},
   "outputs": [
    {
     "name": "stdout",
     "output_type": "stream",
     "text": [
      "Rekord 1: {'rating': 5.0, 'title': 'Pretty locket', 'text': 'I think this locket is really pretty. The inside back is a solid silver depression and the front is a dome that is not solid (knotted). You could use it to store a small photo, lock of hair, etc but I use it when I need to carry medication with me. Closes securely. High quality & very pretty.', 'images': [], 'asin': 'B00LOPVX74', 'parent_asin': 'B00LOPVX74', 'user_id': 'AGBFYI2DDIKXC5Y4FARTYDTQBMFQ', 'timestamp': 1578528394489, 'helpful_vote': 3, 'verified_purchase': True}\n",
      "\n",
      "Liczba kolumn: 10\n",
      "Nazwy kolumn:\n",
      "asin\n",
      "helpful_vote\n",
      "images\n",
      "parent_asin\n",
      "rating\n",
      "text\n",
      "timestamp\n",
      "title\n",
      "user_id\n",
      "verified_purchase\n"
     ]
    }
   ],
   "source": [
    "import json\n",
    "\n",
    "plik_jsonl = 'c:\\\\Users\\\\User\\\\Desktop\\\\INŻYNIERKA\\\\Amazon_Fashion.jsonl'\n",
    "\n",
    "kolumny = set()\n",
    "\n",
    "with open(plik_jsonl, 'r', encoding='utf-8') as file:\n",
    "    for i, linia in enumerate(file):\n",
    "        if i >= 1:\n",
    "            break  \n",
    "        obiekt = json.loads(linia)\n",
    "        kolumny.update(obiekt.keys())\n",
    "        print(f\"Rekord {i+1}: {obiekt}\")\n",
    "\n",
    "print(f'\\nLiczba kolumn: {len(kolumny)}')\n",
    "print('Nazwy kolumn:')\n",
    "for kolumna in sorted(kolumny):\n",
    "    print(kolumna)\n"
   ]
  }
 ],
 "metadata": {
  "kernelspec": {
   "display_name": "Python 3",
   "language": "python",
   "name": "python3"
  },
  "language_info": {
   "codemirror_mode": {
    "name": "ipython",
    "version": 3
   },
   "file_extension": ".py",
   "mimetype": "text/x-python",
   "name": "python",
   "nbconvert_exporter": "python",
   "pygments_lexer": "ipython3",
   "version": "3.12.1"
  }
 },
 "nbformat": 4,
 "nbformat_minor": 2
}

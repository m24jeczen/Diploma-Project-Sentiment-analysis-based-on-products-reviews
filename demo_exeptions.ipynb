{
 "cells": [
  {
   "cell_type": "code",
   "execution_count": 44,
   "metadata": {},
   "outputs": [],
   "source": [
    "import sys\n",
    "import importlib\n",
    "import pyLDAvis.gensim\n",
    "import pyLDAvis\n",
    "\n",
    "sys.path.append('./codes')\n",
    "from codes import LDA \n",
    "from codes.LDA import classification\n",
    "from codes.LDA import add_top_words_to_df\n",
    "from codes.LDA import lda_and_svm_pipeline\n",
    "from codes.LDA import LDA_training\n",
    "from codes.LDA import display_visuals_LDA\n",
    "from codes.LDA import preprocess_text\n",
    "from codes.LDA import create_review_topic_matrix\n",
    "import importlib\n",
    "importlib.reload(LDA)\n",
    "import warnings\n",
    "warnings.filterwarnings(\"ignore\", category=DeprecationWarning)"
   ]
  },
  {
   "cell_type": "code",
   "execution_count": 8,
   "metadata": {},
   "outputs": [
    {
     "data": {
      "text/plain": [
       "(10000, 6)"
      ]
     },
     "execution_count": 8,
     "metadata": {},
     "output_type": "execute_result"
    }
   ],
   "source": [
    "import pandas as pd\n",
    "data = pd.read_csv('../amazon_data/Amazon_Fashion.csv')\n",
    "data = data[~data[\"text\"].isna()]\n",
    "data = data[data['rating'] <= 2]\n",
    "data = data[data['text'].apply(lambda x: len(str(x).split()) > 10)]\n",
    "data = data.sample(n=10000, random_state=42)\n",
    "data.shape"
   ]
  },
  {
   "cell_type": "markdown",
   "metadata": {},
   "source": [
    "## Making mistakes on purpose"
   ]
  },
  {
   "cell_type": "markdown",
   "metadata": {},
   "source": [
    "Missing text col"
   ]
  },
  {
   "cell_type": "code",
   "execution_count": 16,
   "metadata": {},
   "outputs": [
    {
     "name": "stdout",
     "output_type": "stream",
     "text": [
      "Unexpected exception in preprocessing text: \"Column 'text' does not exist in the data.\"\n",
      "Expected error: \"Column 'text' does not exist in the data.\"\n"
     ]
    }
   ],
   "source": [
    "import pandas as pd\n",
    "\n",
    "# Small DataFrame without 'text' column\n",
    "df_no_text = pd.DataFrame({\n",
    "    'title': ['Post 1', 'Post 2'],\n",
    "    'content': ['This is the first post', 'This is the second post']\n",
    "})\n",
    "\n",
    "# Test the function\n",
    "try:\n",
    "    preprocess_text(df_no_text)\n",
    "except Exception as e:\n",
    "    print(f\"Expected error: {e}\")\n"
   ]
  },
  {
   "cell_type": "code",
   "execution_count": 56,
   "metadata": {},
   "outputs": [
    {
     "name": "stdout",
     "output_type": "stream",
     "text": [
      "Tokenization starting ---\n",
      "Tokenization done\n",
      "Numbers removed\n",
      "Two letter words removed\n",
      "Written-out numbers removed\n",
      "Verbs removed SMALL\n",
      "Lematization done\n",
      "Stopwords removed\n",
      "Choosed words removed\n",
      "Bigrams done\n",
      "Preprocessing done\n",
      "--- Model starting ---\n",
      "Średnia koherencja tematów: -2.9712.\n",
      "Topic 0: material, cheap, product, quality, would, even, money, good, thin, top\n",
      "Topic 1: day, return, super, nice, strap, month, apart, part, back, well\n",
      "Topic 2: smaller, gift, design, new, inside, red, wrist, pink, nice, without\n",
      "Topic 3: small, way, short, even, great, little, really, would, long, poor\n",
      "Topic 4: bad, foot, together, within, close, someone, else, type, instead, line\n",
      "Topic 5: disappoint, color, would, cute, item, order, week, extremely, really, star\n",
      "Topic 6: white, ring, chain, mask, unfortunately, happy, silver, actual, ship, husband\n",
      "Topic 7: size, fit, time, large, first, small, band, still, tight, medium\n"
     ]
    }
   ],
   "source": [
    "model, texts_bow, dictionary = LDA_training(data, True, 8, 100, 1, 100)"
   ]
  },
  {
   "cell_type": "code",
   "execution_count": 34,
   "metadata": {},
   "outputs": [
    {
     "name": "stdout",
     "output_type": "stream",
     "text": [
      "Unexpected exception in preprocessing text: \"Column 'text' does not exist in data.\"\n"
     ]
    },
    {
     "ename": "KeyError",
     "evalue": "\"Column 'text' does not exist in data.\"",
     "output_type": "error",
     "traceback": [
      "\u001b[1;31m---------------------------------------------------------------------------\u001b[0m",
      "\u001b[1;31mKeyError\u001b[0m                                  Traceback (most recent call last)",
      "Cell \u001b[1;32mIn[34], line 2\u001b[0m\n\u001b[0;32m      1\u001b[0m df_missing_text \u001b[38;5;241m=\u001b[39m pd\u001b[38;5;241m.\u001b[39mDataFrame({\u001b[38;5;124m'\u001b[39m\u001b[38;5;124mtitle\u001b[39m\u001b[38;5;124m'\u001b[39m: [\u001b[38;5;124m'\u001b[39m\u001b[38;5;124mPost 1\u001b[39m\u001b[38;5;124m'\u001b[39m, \u001b[38;5;124m'\u001b[39m\u001b[38;5;124mPost 2\u001b[39m\u001b[38;5;124m'\u001b[39m]})\n\u001b[1;32m----> 2\u001b[0m \u001b[43mpreprocess_text\u001b[49m\u001b[43m(\u001b[49m\u001b[43mdf_missing_text\u001b[49m\u001b[43m)\u001b[49m\n",
      "File \u001b[1;32mc:\\Users\\User\\Desktop\\INŻYNIERKA\\Diploma-Project-Sentiment-analysis-based-on-products-reviews\\codes\\LDA.py:27\u001b[0m, in \u001b[0;36mpreprocess_text\u001b[1;34m(df, with_certain_words_removal, data_is_big)\u001b[0m\n\u001b[0;32m     23\u001b[0m \u001b[38;5;28;01mtry\u001b[39;00m:\n\u001b[0;32m     24\u001b[0m     \u001b[38;5;66;03m# Sprawdzenie wstępne\u001b[39;00m\n\u001b[0;32m     25\u001b[0m     \u001b[38;5;66;03m# Preliminary check for 'text' column and data types\u001b[39;00m\n\u001b[0;32m     26\u001b[0m     \u001b[38;5;28;01mif\u001b[39;00m \u001b[38;5;124m'\u001b[39m\u001b[38;5;124mtext\u001b[39m\u001b[38;5;124m'\u001b[39m \u001b[38;5;129;01mnot\u001b[39;00m \u001b[38;5;129;01min\u001b[39;00m df\u001b[38;5;241m.\u001b[39mcolumns:\n\u001b[1;32m---> 27\u001b[0m         \u001b[38;5;28;01mraise\u001b[39;00m \u001b[38;5;167;01mKeyError\u001b[39;00m(\u001b[38;5;124m\"\u001b[39m\u001b[38;5;124mColumn \u001b[39m\u001b[38;5;124m'\u001b[39m\u001b[38;5;124mtext\u001b[39m\u001b[38;5;124m'\u001b[39m\u001b[38;5;124m does not exist in data.\u001b[39m\u001b[38;5;124m\"\u001b[39m)\n\u001b[0;32m     29\u001b[0m     \u001b[38;5;66;03m# Ensure 'text' column is of string type\u001b[39;00m\n\u001b[0;32m     30\u001b[0m     \u001b[38;5;28;01mif\u001b[39;00m \u001b[38;5;129;01mnot\u001b[39;00m pd\u001b[38;5;241m.\u001b[39mapi\u001b[38;5;241m.\u001b[39mtypes\u001b[38;5;241m.\u001b[39mis_string_dtype(df[\u001b[38;5;124m'\u001b[39m\u001b[38;5;124mtext\u001b[39m\u001b[38;5;124m'\u001b[39m]):\n",
      "\u001b[1;31mKeyError\u001b[0m: \"Column 'text' does not exist in data.\""
     ]
    }
   ],
   "source": [
    "df_missing_text = pd.DataFrame({'title': ['Post 1', 'Post 2']})\n",
    "preprocess_text(df_missing_text)\n"
   ]
  },
  {
   "cell_type": "code",
   "execution_count": 35,
   "metadata": {},
   "outputs": [
    {
     "name": "stdout",
     "output_type": "stream",
     "text": [
      "Unexpected exception in preprocessing text: Column 'text' has to be string-type.\n"
     ]
    },
    {
     "ename": "TypeError",
     "evalue": "Column 'text' has to be string-type.",
     "output_type": "error",
     "traceback": [
      "\u001b[1;31m---------------------------------------------------------------------------\u001b[0m",
      "\u001b[1;31mTypeError\u001b[0m                                 Traceback (most recent call last)",
      "Cell \u001b[1;32mIn[35], line 2\u001b[0m\n\u001b[0;32m      1\u001b[0m df_non_string_text \u001b[38;5;241m=\u001b[39m pd\u001b[38;5;241m.\u001b[39mDataFrame({\u001b[38;5;124m'\u001b[39m\u001b[38;5;124mtext\u001b[39m\u001b[38;5;124m'\u001b[39m: [\u001b[38;5;241m123\u001b[39m, \u001b[38;5;241m456\u001b[39m]})\n\u001b[1;32m----> 2\u001b[0m \u001b[43mpreprocess_text\u001b[49m\u001b[43m(\u001b[49m\u001b[43mdf_non_string_text\u001b[49m\u001b[43m)\u001b[49m\n",
      "File \u001b[1;32mc:\\Users\\User\\Desktop\\INŻYNIERKA\\Diploma-Project-Sentiment-analysis-based-on-products-reviews\\codes\\LDA.py:31\u001b[0m, in \u001b[0;36mpreprocess_text\u001b[1;34m(df, with_certain_words_removal, data_is_big)\u001b[0m\n\u001b[0;32m     29\u001b[0m \u001b[38;5;66;03m# Ensure 'text' column is of string type\u001b[39;00m\n\u001b[0;32m     30\u001b[0m \u001b[38;5;28;01mif\u001b[39;00m \u001b[38;5;129;01mnot\u001b[39;00m pd\u001b[38;5;241m.\u001b[39mapi\u001b[38;5;241m.\u001b[39mtypes\u001b[38;5;241m.\u001b[39mis_string_dtype(df[\u001b[38;5;124m'\u001b[39m\u001b[38;5;124mtext\u001b[39m\u001b[38;5;124m'\u001b[39m]):\n\u001b[1;32m---> 31\u001b[0m     \u001b[38;5;28;01mraise\u001b[39;00m \u001b[38;5;167;01mTypeError\u001b[39;00m(\u001b[38;5;124m\"\u001b[39m\u001b[38;5;124mColumn \u001b[39m\u001b[38;5;124m'\u001b[39m\u001b[38;5;124mtext\u001b[39m\u001b[38;5;124m'\u001b[39m\u001b[38;5;124m has to be string-type.\u001b[39m\u001b[38;5;124m\"\u001b[39m)\n\u001b[0;32m     33\u001b[0m \u001b[38;5;66;03m# Handle null values and empty strings in 'text' column\u001b[39;00m\n\u001b[0;32m     34\u001b[0m df[\u001b[38;5;124m'\u001b[39m\u001b[38;5;124mtext\u001b[39m\u001b[38;5;124m'\u001b[39m] \u001b[38;5;241m=\u001b[39m df[\u001b[38;5;124m'\u001b[39m\u001b[38;5;124mtext\u001b[39m\u001b[38;5;124m'\u001b[39m]\u001b[38;5;241m.\u001b[39mfillna(\u001b[38;5;124m'\u001b[39m\u001b[38;5;124m'\u001b[39m)  \u001b[38;5;66;03m# Replace NaN with empty strings\u001b[39;00m\n",
      "\u001b[1;31mTypeError\u001b[0m: Column 'text' has to be string-type."
     ]
    }
   ],
   "source": [
    "df_non_string_text = pd.DataFrame({'text': [123, 456]})\n",
    "preprocess_text(df_non_string_text)\n"
   ]
  },
  {
   "cell_type": "code",
   "execution_count": 42,
   "metadata": {},
   "outputs": [
    {
     "name": "stdout",
     "output_type": "stream",
     "text": [
      "Unexpected exception in preprocessing text: Column 'text' has only NULL or '' values\n"
     ]
    },
    {
     "ename": "ValueError",
     "evalue": "Column 'text' has only NULL or '' values",
     "output_type": "error",
     "traceback": [
      "\u001b[1;31m---------------------------------------------------------------------------\u001b[0m",
      "\u001b[1;31mValueError\u001b[0m                                Traceback (most recent call last)",
      "Cell \u001b[1;32mIn[42], line 2\u001b[0m\n\u001b[0;32m      1\u001b[0m df_empty_text \u001b[38;5;241m=\u001b[39m pd\u001b[38;5;241m.\u001b[39mDataFrame({\u001b[38;5;124m'\u001b[39m\u001b[38;5;124mtext\u001b[39m\u001b[38;5;124m'\u001b[39m: [\u001b[38;5;124m'\u001b[39m\u001b[38;5;124m'\u001b[39m,\u001b[38;5;124m'\u001b[39m\u001b[38;5;124mdssd\u001b[39m\u001b[38;5;124m'\u001b[39m, \u001b[38;5;124m'\u001b[39m\u001b[38;5;124m'\u001b[39m]})\n\u001b[1;32m----> 2\u001b[0m \u001b[43mpreprocess_text\u001b[49m\u001b[43m(\u001b[49m\u001b[43mdf_empty_text\u001b[49m\u001b[43m)\u001b[49m\n",
      "File \u001b[1;32mc:\\Users\\User\\Desktop\\INŻYNIERKA\\Diploma-Project-Sentiment-analysis-based-on-products-reviews\\codes\\LDA.py:36\u001b[0m, in \u001b[0;36mpreprocess_text\u001b[1;34m(df, with_certain_words_removal, data_is_big)\u001b[0m\n\u001b[0;32m     34\u001b[0m df[\u001b[38;5;124m'\u001b[39m\u001b[38;5;124mtext\u001b[39m\u001b[38;5;124m'\u001b[39m] \u001b[38;5;241m=\u001b[39m df[\u001b[38;5;124m'\u001b[39m\u001b[38;5;124mtext\u001b[39m\u001b[38;5;124m'\u001b[39m]\u001b[38;5;241m.\u001b[39mfillna(\u001b[38;5;124m'\u001b[39m\u001b[38;5;124m'\u001b[39m)  \u001b[38;5;66;03m# Replace NaN with empty strings\u001b[39;00m\n\u001b[0;32m     35\u001b[0m \u001b[38;5;28;01mif\u001b[39;00m df[\u001b[38;5;124m'\u001b[39m\u001b[38;5;124mtext\u001b[39m\u001b[38;5;124m'\u001b[39m]\u001b[38;5;241m.\u001b[39mstr\u001b[38;5;241m.\u001b[39mstrip()\u001b[38;5;241m.\u001b[39meq(\u001b[38;5;124m'\u001b[39m\u001b[38;5;124m'\u001b[39m)\u001b[38;5;241m.\u001b[39many():\n\u001b[1;32m---> 36\u001b[0m     \u001b[38;5;28;01mraise\u001b[39;00m \u001b[38;5;167;01mValueError\u001b[39;00m(\u001b[38;5;124m\"\u001b[39m\u001b[38;5;124mColumn \u001b[39m\u001b[38;5;124m'\u001b[39m\u001b[38;5;124mtext\u001b[39m\u001b[38;5;124m'\u001b[39m\u001b[38;5;124m has only NULL or \u001b[39m\u001b[38;5;124m'\u001b[39m\u001b[38;5;124m'\u001b[39m\u001b[38;5;124m values\u001b[39m\u001b[38;5;124m\"\u001b[39m)\n\u001b[0;32m     38\u001b[0m texts \u001b[38;5;241m=\u001b[39m df[\u001b[38;5;124m'\u001b[39m\u001b[38;5;124mtext\u001b[39m\u001b[38;5;124m'\u001b[39m]\u001b[38;5;241m.\u001b[39mastype(\u001b[38;5;28mstr\u001b[39m)\u001b[38;5;241m.\u001b[39mtolist()\n\u001b[0;32m     39\u001b[0m \u001b[38;5;28mprint\u001b[39m(\u001b[38;5;124m'\u001b[39m\u001b[38;5;124mTokenization starting ---\u001b[39m\u001b[38;5;124m'\u001b[39m)\n",
      "\u001b[1;31mValueError\u001b[0m: Column 'text' has only NULL or '' values"
     ]
    }
   ],
   "source": [
    "df_empty_text = pd.DataFrame({'text': ['','dssd', '']})\n",
    "preprocess_text(df_empty_text)\n"
   ]
  },
  {
   "cell_type": "markdown",
   "metadata": {},
   "source": [
    "## LDA errors"
   ]
  },
  {
   "cell_type": "code",
   "execution_count": 45,
   "metadata": {},
   "outputs": [
    {
     "name": "stdout",
     "output_type": "stream",
     "text": [
      "\"Column 'text' does not exist in data.\"\n"
     ]
    }
   ],
   "source": [
    "import pandas as pd\n",
    "\n",
    "# DataFrame without 'text' column\n",
    "df_missing_text_column = pd.DataFrame({\n",
    "    'title': ['Title 1', 'Title 2'],\n",
    "    'content': ['Content 1', 'Content 2']\n",
    "})\n",
    "\n",
    "# This will raise KeyError since there's no 'text' column\n",
    "try:\n",
    "    model, texts_bow, dictionary = LDA_training(df_missing_text_column)\n",
    "except KeyError as e:\n",
    "    print(e)\n"
   ]
  },
  {
   "cell_type": "code",
   "execution_count": 46,
   "metadata": {},
   "outputs": [
    {
     "name": "stdout",
     "output_type": "stream",
     "text": [
      "Argument 'with_certain_words_removal' must be a boolean.\n"
     ]
    }
   ],
   "source": [
    "# DataFrame with 'text' column\n",
    "df_valid = pd.DataFrame({\n",
    "    'text': ['This is a sample document.', 'Another document here.']\n",
    "})\n",
    "\n",
    "# Invalid type for 'with_certain_words_removal' (should be a boolean)\n",
    "try:\n",
    "    model, texts_bow, dictionary = LDA_training(df_valid, with_certain_words_removal='yes')\n",
    "except TypeError as e:\n",
    "    print(e)\n"
   ]
  },
  {
   "cell_type": "code",
   "execution_count": 47,
   "metadata": {},
   "outputs": [
    {
     "name": "stdout",
     "output_type": "stream",
     "text": [
      "Argument 'n_topics' must be a positive integer.\n"
     ]
    }
   ],
   "source": [
    "# Invalid type for 'n_topics' (not a positive integer)\n",
    "try:\n",
    "    model, texts_bow, dictionary = LDA_training(df_valid, n_topics=-1)\n",
    "except ValueError as e:\n",
    "    print(e)\n"
   ]
  },
  {
   "cell_type": "code",
   "execution_count": 48,
   "metadata": {},
   "outputs": [
    {
     "name": "stdout",
     "output_type": "stream",
     "text": [
      "Argument 'chunksize' must be a positive integer.\n"
     ]
    }
   ],
   "source": [
    "# Invalid type for 'chunksize' (not a positive integer)\n",
    "try:\n",
    "    model, texts_bow, dictionary = LDA_training(df_valid, chunksize=-10)\n",
    "except ValueError as e:\n",
    "    print(e)\n"
   ]
  },
  {
   "cell_type": "code",
   "execution_count": 49,
   "metadata": {},
   "outputs": [
    {
     "name": "stdout",
     "output_type": "stream",
     "text": [
      "Argument 'passes' must be a positive integer.\n"
     ]
    }
   ],
   "source": [
    "# Invalid type for 'passes' (not a positive integer)\n",
    "try:\n",
    "    model, texts_bow, dictionary = LDA_training(df_valid, passes=0)\n",
    "except ValueError as e:\n",
    "    print(e)\n"
   ]
  },
  {
   "cell_type": "code",
   "execution_count": 50,
   "metadata": {},
   "outputs": [
    {
     "name": "stdout",
     "output_type": "stream",
     "text": [
      "Argument 'iterations' must be a positive integer.\n"
     ]
    }
   ],
   "source": [
    "# Invalid type for 'iterations' (not a positive integer)\n",
    "try:\n",
    "    model, texts_bow, dictionary = LDA_training(df_valid, iterations=-100)\n",
    "except ValueError as e:\n",
    "    print(e)\n"
   ]
  },
  {
   "cell_type": "code",
   "execution_count": 51,
   "metadata": {},
   "outputs": [
    {
     "name": "stdout",
     "output_type": "stream",
     "text": [
      "Argument 'update_every' must be a positive integer.\n"
     ]
    }
   ],
   "source": [
    "# Invalid type for 'update_every' (not a positive integer)\n",
    "try:\n",
    "    model, texts_bow, dictionary = LDA_training(df_valid, update_every=0)\n",
    "except ValueError as e:\n",
    "    print(e)\n"
   ]
  },
  {
   "cell_type": "code",
   "execution_count": 52,
   "metadata": {},
   "outputs": [
    {
     "name": "stdout",
     "output_type": "stream",
     "text": [
      "Argument 'eval_every' must be an integer or a float.\n"
     ]
    }
   ],
   "source": [
    "# Invalid type for 'eval_every' (not an integer or float)\n",
    "try:\n",
    "    model, texts_bow, dictionary = LDA_training(df_valid, eval_every='not_a_number')\n",
    "except TypeError as e:\n",
    "    print(e)\n"
   ]
  },
  {
   "cell_type": "code",
   "execution_count": 57,
   "metadata": {},
   "outputs": [
    {
     "name": "stdout",
     "output_type": "stream",
     "text": [
      "Argument 'with_certain_words_removal' must be a boolean.\n"
     ]
    }
   ],
   "source": [
    "# Invalid format for 'texts_bow' (not a list of lists of tuples)\n",
    "invalid_texts_bow = [['word1', 'word2']]  # This is not the correct format\n",
    "try:\n",
    "    model, texts_bow, dictionary = LDA_training(df_valid, model, invalid_texts_bow, dictionary)\n",
    "except TypeError as e:\n",
    "    print(e)\n"
   ]
  },
  {
   "cell_type": "code",
   "execution_count": 58,
   "metadata": {},
   "outputs": [
    {
     "name": "stdout",
     "output_type": "stream",
     "text": [
      "Argument 'with_certain_words_removal' must be a boolean.\n"
     ]
    }
   ],
   "source": [
    "# Invalid 'dictionary' (not a gensim Dictionary)\n",
    "invalid_dictionary = {'word1': 0, 'word2': 1}  # This is a regular dictionary, not gensim Dictionary\n",
    "try:\n",
    "    model, texts_bow, dictionary = LDA_training(df_valid, model, texts_bow, dictionary=invalid_dictionary)\n",
    "except TypeError as e:\n",
    "    print(e)\n"
   ]
  },
  {
   "cell_type": "code",
   "execution_count": 59,
   "metadata": {},
   "outputs": [
    {
     "name": "stdout",
     "output_type": "stream",
     "text": [
      "Argument 'with_certain_words_removal' must be a boolean.\n"
     ]
    }
   ],
   "source": [
    "# Invalid 'id2word' (not a dictionary)\n",
    "invalid_id2word = ['word1', 'word2']  # This should be a dictionary, not a list\n",
    "try:\n",
    "    model, texts_bow, dictionary = LDA_training(df_valid, model, texts_bow, dictionary,id2word=invalid_id2word, )\n",
    "except TypeError as e:\n",
    "    print(e)\n"
   ]
  }
 ],
 "metadata": {
  "kernelspec": {
   "display_name": "Python 3",
   "language": "python",
   "name": "python3"
  },
  "language_info": {
   "codemirror_mode": {
    "name": "ipython",
    "version": 3
   },
   "file_extension": ".py",
   "mimetype": "text/x-python",
   "name": "python",
   "nbconvert_exporter": "python",
   "pygments_lexer": "ipython3",
   "version": "3.12.1"
  }
 },
 "nbformat": 4,
 "nbformat_minor": 2
}
